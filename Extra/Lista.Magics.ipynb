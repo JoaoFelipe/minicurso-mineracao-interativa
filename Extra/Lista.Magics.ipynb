{
 "cells": [
  {
   "cell_type": "markdown",
   "metadata": {},
   "source": [
    "Para entrar no modo apresentação, execute a seguinte célula e pressione `-`"
   ]
  },
  {
   "cell_type": "code",
   "execution_count": null,
   "metadata": {},
   "outputs": [],
   "source": [
    "%cd ..\n",
    "%reload_ext slide"
   ]
  },
  {
   "cell_type": "markdown",
   "metadata": {},
   "source": [
    "<span class=\"notebook-slide-start\"/>\n",
    "\n",
    "# Lista Magics do IPython\n",
    "\n",
    "Podemos usar a magic `%lsmagic` para listar quais são todas as magics do IPython, a magic `%magic` para entender como funciona a parte de magics, a magic `%quickref` para ter uma referência rápida de que extensões ao Python o IPython faz. <span class=\"notebook-slide-extra\" data-count=\"1\"/>"
   ]
  },
  {
   "cell_type": "code",
   "execution_count": null,
   "metadata": {},
   "outputs": [],
   "source": [
    "%lsmagic"
   ]
  },
  {
   "cell_type": "markdown",
   "metadata": {},
   "source": [
    "#### Alias\n",
    "\n",
    "- `%alias`: define novas magics baseadas em comandos do sistema\n",
    "- `%alias_magic`: define novas magics baseadas em magics existentes\n",
    "- `%unalias`: remove alias\n",
    "\n",
    "É possível criar um alias para a mágic já com os argumentos: <span class=\"notebook-slide-extra\" data-count=\"1\"/>"
   ]
  },
  {
   "cell_type": "code",
   "execution_count": null,
   "metadata": {},
   "outputs": [],
   "source": [
    "%alias_magic ls_int who_ls -p \"int\"\n",
    "%ls_int"
   ]
  },
  {
   "cell_type": "markdown",
   "metadata": {},
   "source": [
    "#### Histórico\n",
    "\n",
    "- `%load`: carrega um script externo em uma célula. É possível especificar quais linhas, classes e funções do script devem ser carregadas. Também é possível passar números de execução como argumento para re-executar células anteriores e macros.\n",
    "- `%loadpy`: quase um alias de `%load`, mas que carrega arquivos Python sem o '.py'\n",
    "- `%history`: exibe histórico de execução, como mostramos antes\n",
    "- `%hist`: alias para `%history`\n",
    "- `%macro`: permite definir um nome para parte do histórico de execução e usar esse nome em `%load`\n",
    "- `%notebook`: exporta histórico para um novo arquivo de notebook \n",
    "- `%save`: salva macro em arquivo\n",
    "\n",
    "<span class=\"notebook-slide-extra\" data-count=\"1\"/>"
   ]
  },
  {
   "cell_type": "code",
   "execution_count": null,
   "metadata": {},
   "outputs": [],
   "source": [
    "%load 1-2"
   ]
  },
  {
   "cell_type": "markdown",
   "metadata": {},
   "source": [
    "#### Extensões\n",
    "\n",
    "- `%load_ext`: importa uma extensão do IPython. Funciona como um import normal seguindo de uma chamada a função `load_ipython_extension(shell)` definida no módulo. É possível usar isso para definir módulos com magics, como veremos posteriormente\n",
    "- `%unload_ext`: desabilita uma extensão do IPython ao chamar `unload_ipython_extension(shell)`\n",
    "- `%reload_ext`: executa as duas magics anteriores"
   ]
  },
  {
   "cell_type": "markdown",
   "metadata": {},
   "source": [
    "#### Namespace\n",
    "\n",
    "- `%psearch`: busca nome por algum padrão\n",
    "- `%who_ls`: retorna nomes de determinado tipo\n",
    "- `%who`: semelhante a `%who_ls`, mas apenas exibe nomes\n",
    "- `%whos`: exibe tabela com variável, tipo e valor\n",
    "- `%rehashx`: atualiza a tabela de alias para adicionar todos os executáveis de \\$PATH\n",
    "- `%reset`: recarrega o namespace\n",
    "- `%reset_selective`: remove nomes definidos pelo usuário\n",
    "- `%xdel`: remove variável e tenta limpar tudo do IPython que usa ela"
   ]
  },
  {
   "cell_type": "markdown",
   "metadata": {},
   "source": [
    "#### Variáveis de ambiente\n",
    "\n",
    "- `%env`: lista, define e lê variáveis de ambiente \n",
    "- `%set_env`: mesmo que `%env`, mas sem a parte da leitura\n",
    "\n",
    "<span class=\"notebook-slide-extra\" data-count=\"2\"/>"
   ]
  },
  {
   "cell_type": "code",
   "execution_count": null,
   "metadata": {},
   "outputs": [],
   "source": [
    "%env PATH"
   ]
  },
  {
   "cell_type": "code",
   "execution_count": null,
   "metadata": {},
   "outputs": [],
   "source": [
    "number = 1\n",
    "%env NOTEBOOK_NUMBER=$number"
   ]
  },
  {
   "cell_type": "markdown",
   "metadata": {},
   "source": [
    "#### Configurações\n",
    "\n",
    "Habilita, desabilita e configura funcionalidades do IPython:\n",
    "\n",
    "- `%autoawait`: chama await de corotinas automaticamente\n",
    "- `%autocall`: executa funções sem usar parênteses\n",
    "- `%automagic`: executa magics sem usar `%`\n",
    "- `%autosave`: define o tempo para salvar o notebook automaticamente\n",
    "- `%config`: permite configurar outros aspectos do IPython\n",
    "- `%pprint`: habilita/desabilita visualização \"pretty\"\n",
    "- `%precision`: define a precisão do float para o pprint\n",
    "- `%matplotlib`: permite o uso interativo do matplotlib\n",
    "- `%xmode`: altera o modo de tratamento de exceções"
   ]
  },
  {
   "cell_type": "markdown",
   "metadata": {},
   "source": [
    "#### Visualização\n",
    "\n",
    "- `%%HTML`, `%%html`: renderiza célula como html\n",
    "- `%%SVG`, `%%svg`: renderiza célula como svg\n",
    "- `%%javascript`, `%%js`: renderiza célula como javascript/executa no navegador\n",
    "- `%%latex`: renderiza célula como latex\n",
    "- `%%markdown`: renderiza célula como markdown\n"
   ]
  },
  {
   "cell_type": "markdown",
   "metadata": {},
   "source": [
    "#### Diretórios\n",
    "\n",
    "- `%cd`: altera o diretório de execução do notebook\n",
    "- `%bookmark`: salva diretórios para facilitar o uso de `cd`\n",
    "- `%dhist`: exibe o histórico de diretórios navegados\n",
    "- `%dirs`: exibe a pilha de diretórios\n",
    "- `%popd`: retira diretório da pilha\n",
    "- `%pushd`: insere diretório na pilha\n",
    "- `%pwd`: retorna diretório atual"
   ]
  },
  {
   "cell_type": "markdown",
   "metadata": {},
   "source": [
    "#### Log\n",
    "\n",
    "- `%logstart`: cria um arquivo de log para armazenar todas as células executadas no Jupyter\n",
    "- `%logstop`: fecha o arquivo de log\n",
    "- `%logoff`: pausa o log temporariamente, mas não fecha o arquivo de log\n",
    "- `%logon`: volta a fazer log das operações\n",
    "- `%logstate`: exibe o estado do log"
   ]
  },
  {
   "cell_type": "markdown",
   "metadata": {},
   "source": [
    "#### Documentação\n",
    "\n",
    "Magics relacionadas a documentação\n",
    "\n",
    "- `%page`: exibe objeto no pager\n",
    "- `%pdef`: exibe assinatura de função\n",
    "- `%pdoc`: exibe docstring de objeto\n",
    "- `%pfile`: exibe arquivo de definição de objeto\n",
    "- `%pinfo`: exibe documentação (equivalente a `?`)\n",
    "- `%pinfo2`: exibe código fonte (equivalente a `??`)\n",
    "- `%psource`: exibe o código fonte de objeto no pager\n",
    "- `%pycat`: exibe o código fonte de objeto no pager com syntax-highlighting\n",
    "\n"
   ]
  },
  {
   "cell_type": "markdown",
   "metadata": {},
   "source": [
    "#### Debug e profile\n",
    "\n",
    "- `%debug`: ativa debug interativo\n",
    "- `%pdb`: configura o uso do debug interativo\n",
    "- `%prun`: executa comando ou expressão com profiler\n",
    "- `%%prun`: executa célula com profiler\n",
    "- `%tb`: exibe último traceback\n",
    "- `%time`: calcula tempo de execução de expressão ou comando\n",
    "- `%timeit`: calcula média de tempo de execução de expressão ou comando ao executar várias vezes\n",
    "- `%%time`: calcula tempo de execução de célula\n",
    "- `%%timeit`: calcula média de tempo de execução de célula ao executar várias vezes\n"
   ]
  },
  {
   "cell_type": "markdown",
   "metadata": {},
   "source": [
    "#### IPython no console\n",
    "\n",
    "- `%colors`: muda o esquema de cores\n",
    "- `%doctest_mode`: altera o modo de execução para ficar parecido com o shell clássico do IPython\n",
    "- `%ed`, `%edit`: abre editor de texto\n",
    "- `%gui`: define a forma de exibição (qt, gtk, tk, wx, ...)\n",
    "- `%recall`, `%rep`: carrega linhas do histórico na próxima linha do prompt\n",
    "- `%rerun`: re-executa input anterior"
   ]
  },
  {
   "cell_type": "markdown",
   "metadata": {},
   "source": [
    "#### Execução externa\n",
    "\n",
    "- `%run`: executa arquivo no IPython como um programa\n",
    "- `%sc`: alternativa descontinuada de bang expression (`!`)\n",
    "- `%sx`, `%system`: alternativa a bang expression que retorna lista (`!!`)\n",
    "- `%%!`, `%%sx`, `%%system`: executa célula com comandos do sistema\n",
    "- `%%bash`: executa célula com bash em um subprocesso\n",
    "- `%%sh`: executa célula com sh em um subprocesso\n",
    "- `%%perl`: executa célula com perl em um subprocesso\n",
    "- `%%pypy`: executa célula com pypy em um subprocesso\n",
    "- `%%python`: executa célula com python em um subprocesso\n",
    "- `%%python2`: executa célula com python2 em um subprocesso\n",
    "- `%%python3`: executa célula com python3 em um subprocesso\n",
    "- `%%ruby`: executa célula com ruby em um subprocesso\n",
    "- `%%script`: executa célula com interpretador externo em um subprocesso (especifique o interpretador com o parâmetro)\n"
   ]
  },
  {
   "cell_type": "markdown",
   "metadata": {},
   "source": [
    "#### Alias para comandos do sistema\n",
    "\n",
    "- `%cat`\n",
    "- `%clear`\n",
    "- `%cp`\n",
    "- `%ldir`\n",
    "- `%less`\n",
    "- `%lf`\n",
    "- `%lk`\n",
    "- `%ll`\n",
    "- `%ls`\n",
    "- `%lx`\n",
    "- `%man`\n",
    "- `%mkdir`\n",
    "- `%more`\n",
    "- `%mv`\n",
    "- `%rm`\n",
    "- `%rmdir`\n",
    "\n",
    "\n"
   ]
  },
  {
   "cell_type": "markdown",
   "metadata": {},
   "source": [
    "#### Outros\n",
    "\n",
    "- `%conda`: executa conda no kernel atual\n",
    "- `%pip`: executa pip no kernel atual\n",
    "- `%pylab`: carrega `matplotlib` e `numpy` e expõe diversos métodos no escopo global\n",
    "- `%killbgscripts`: mata scripts do plano de fundo iniciados pelo notebook\n",
    "- `%pastebin`: envia código para o pastebin. Aceita range do histórico, nome do arquivo, macro, ou string\n",
    "- `%qtconsole`: abre um qtconsole conectado a este kernel\n",
    "- `%store`: salva variáveis Python para usar entre sessões\n",
    "- `%connect_info`: exibe informações de conexão do kernel para que outros clientes possam acessar o mesmo kernel\n",
    "- `%%capture`: executa célula capturando output\n",
    "- `%%file`, `%%writefile`: escreve célula em arquivo"
   ]
  },
  {
   "cell_type": "markdown",
   "metadata": {},
   "source": [
    "&nbsp;\n",
    "\n",
    "&nbsp;\n",
    "\n",
    "&nbsp;\n",
    "\n",
    "&nbsp;\n",
    "\n",
    "&nbsp;\n",
    "\n",
    "&nbsp;\n",
    "\n",
    "&nbsp;\n",
    "\n",
    "&nbsp;\n",
    "\n",
    "&nbsp;\n",
    "\n",
    "&nbsp;\n",
    "\n",
    "&nbsp;\n",
    "\n",
    "&nbsp;\n",
    "\n",
    "&nbsp;\n",
    "\n",
    "&nbsp;\n",
    "\n",
    "&nbsp;\n",
    "\n",
    "&nbsp;\n",
    "\n",
    "&nbsp;\n",
    "\n",
    "&nbsp;\n",
    "\n",
    "&nbsp;\n",
    "\n",
    "&nbsp;\n",
    "\n",
    "&nbsp;\n",
    "\n",
    "\n",
    "&nbsp;\n",
    "\n",
    "&nbsp;\n",
    "\n",
    "&nbsp;\n",
    "\n"
   ]
  }
 ],
 "metadata": {
  "kernelspec": {
   "display_name": "Python 3",
   "language": "python",
   "name": "python3"
  },
  "language_info": {
   "codemirror_mode": {
    "name": "ipython",
    "version": 3
   },
   "file_extension": ".py",
   "mimetype": "text/x-python",
   "name": "python",
   "nbconvert_exporter": "python",
   "pygments_lexer": "ipython3",
   "version": "3.7.3"
  }
 },
 "nbformat": 4,
 "nbformat_minor": 2
}
