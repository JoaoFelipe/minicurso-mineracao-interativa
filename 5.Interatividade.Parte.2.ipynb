{
 "cells": [
  {
   "cell_type": "markdown",
   "metadata": {},
   "source": [
    "Para entrar no modo apresentação, execute a seguinte célula e pressione `-`"
   ]
  },
  {
   "cell_type": "code",
   "execution_count": 1,
   "metadata": {},
   "outputs": [
    {
     "data": {
      "application/javascript": [
       "\n",
       "\n",
       "var TITLE_PREFIX = \"Mineração Interativa - \" + IPython.notebook.get_notebook_name()\n",
       "\n",
       "function scrollToCell(cell) {\n",
       "    $('#site').animate({\n",
       "        scrollTop: cell.element.position().top\n",
       "    }, 500);\n",
       "    \n",
       "}\n",
       "function scrollToSelected() {\n",
       "    var cell = IPython.notebook.get_selected_cell()\n",
       "    scrollToCell(cell);\n",
       "    cell.focus_cell();\n",
       "}\n",
       "\n",
       "function selectCell(index) {\n",
       "    var cells = IPython.notebook.get_cells();\n",
       "    IPython.notebook.select(index);\n",
       "    var cell = IPython.notebook.get_selected_cell();\n",
       "    cell.element.toggle(true);\n",
       "\n",
       "    var rx = /# skip-execution/g;\n",
       "    var match = rx.exec(cell.get_text());\n",
       "    if (cell.cell_type == \"code\" && match == undefined) {\n",
       "        cell.execute();\n",
       "    }\n",
       "    \n",
       "    \n",
       "    if (cell.cell_type == \"markdown\") {\n",
       "        var header = $(cell.get_rendered()).filter(\"h1, h2, h3, h4, h5, h6\");\n",
       "        if (header.length > 0) {\n",
       "            var text = $(header[header.length - 1]).clone().children().remove().end().text();\n",
       "            $(\"#current-title\").text(TITLE_PREFIX + \" - \" + text);\n",
       "        } else {\n",
       "            header = $(cell.get_rendered()).find(\"h1, h2, h3, h4, h5, h6\");\n",
       "            if (header.length > 0) {\n",
       "                var text = $(header[header.length - 1]).clone().children().remove().end().text();\n",
       "                $(\"#current-title\").text(TITLE_PREFIX + \" - \" + text);\n",
       "            }\n",
       "        }\n",
       "    }\n",
       "    \n",
       "    \n",
       "    var scrollIndex = undefined;\n",
       "    rx = /<span class=\"notebook-slide-no-scroll\"\\/>/g;\n",
       "    match = rx.exec(cell.get_text());\n",
       "    if (match == undefined && cell.cell_type == \"markdown\") {\n",
       "        scrollIndex = index;\n",
       "        rx = /<span class=\"notebook-slide-scroll\" data-position=\"(.*)?\"\\/>/g;\n",
       "        match = rx.exec(cell.get_text());\n",
       "        if (match != undefined) {\n",
       "            var n = parseInt(match[1]);\n",
       "            scrollIndex += n;\n",
       "        }\n",
       "        scrollToCell(cells[scrollIndex]);\n",
       "    }\n",
       "\n",
       "    rx = /<span class=\"notebook-slide-extra\" data-count=\"(.*)?\"\\/>/g;\n",
       "    match = rx.exec(cell.get_text());\n",
       "    if (match != undefined) {\n",
       "        var n = parseInt(match[1]);\n",
       "        for (var i = index + 1; i <= index + n; i++) {\n",
       "            cell = cells[i];\n",
       "            cell.element.toggle(true);\n",
       "        }\n",
       "    }\n",
       "\n",
       "    $(\"#current-slide\").text((index + 1) + \"/\" + (cells.length));\n",
       "    \n",
       "}\n",
       "\n",
       "\n",
       "var hide = {\n",
       "    icon: 'fa-eye-slash',\n",
       "    help    : 'Hide all',\n",
       "    help_index : 'zz',\n",
       "    handler : function () {\n",
       "        var cells = IPython.notebook.get_cells();\n",
       "        var found = 0;\n",
       "        var i = 0;\n",
       "        for (var cell of IPython.notebook.get_cells()) {\n",
       "            cell.element.toggle(false);\n",
       "            var rx = /<span class=\"notebook-slide-start\"\\/>/g;\n",
       "            var match = rx.exec(cell.get_text());\n",
       "            if (match) {\n",
       "                found = i;\n",
       "            }\n",
       "            i += 1;\n",
       "        }\n",
       "        for (i = 0; i <= found; i++) {\n",
       "            var cell = cells[i];\n",
       "            cell.element.toggle(true);   \n",
       "        }\n",
       "        var cell = cells[cells.length - 1];\n",
       "        cell.element.toggle(true);\n",
       "        \n",
       "        $(\".navbar-nav\").toggle(false);\n",
       "        $(\"#slide-top\").remove();\n",
       "        $(\".navbar-collapse\").append(\"<div id='slide-top' style='padding: 6px 20px; text-align: center;'></div>\")\n",
       "        $(\"#slide-top\").append(\"<div  style='float: left;' id='current-slide'>1</div>\")\n",
       "        $(\"#slide-top\").append(\"<div style='display: inline-block; padding: 0 20px;' id='current-title'>\"+ TITLE_PREFIX +\"</div>\")\n",
       "        $(\"#slide-top\").append(\"<div style='display: inline-block; padding: 0 20px; float: right;' id='current-name'>João Felipe Pimentel</div>\")\n",
       "        selectCell(found);\n",
       "        document.documentElement.requestFullscreen();\n",
       "    }\n",
       "};\n",
       "var show = {\n",
       "    icon: 'fa-eye',\n",
       "    help    : 'Show all',\n",
       "    help_index : 'zz',\n",
       "    handler : function () {\n",
       "        for (var cell of IPython.notebook.get_cells()) {\n",
       "          cell.element.toggle(true);\n",
       "        }\n",
       "        $(\"#slide-top\").remove();\n",
       "        $(\".navbar-nav\").toggle(true);\n",
       "        \n",
       "        document.exitFullscreen();\n",
       "    }\n",
       "};\n",
       "var view = {\n",
       "    icon: 'fa-eye',\n",
       "    help    : 'Show cell',\n",
       "    help_index : 'zz',\n",
       "    handler : function () {\n",
       "        selectCell(IPython.notebook.get_selected_index());\n",
       "    }\n",
       "};\n",
       "\n",
       "var previous = {\n",
       "    icon: 'fa-arrow-left',\n",
       "    help    : 'Previous slide',\n",
       "    help_index : 'zz',\n",
       "    handler : function () {\n",
       "        var cell = IPython.notebook.get_selected_cell();\n",
       "        cell.element.toggle(false);\n",
       "        var index = IPython.notebook.get_selected_index();\n",
       "        selectCell(index - 1);\n",
       "        IPython.notebook.select(index - 1);\n",
       "        IPython.notebook.get_selected_cell().element.toggle(true);\n",
       "        scrollToSelected();\n",
       "    }\n",
       "};\n",
       "var next = {\n",
       "    icon: 'fa-arrow-right',\n",
       "    help    : 'Previous slide',\n",
       "    help_index : 'zz',\n",
       "    handler : function () {\n",
       "        \n",
       "        var index = IPython.notebook.get_selected_index();\n",
       "        selectCell(index + 1);\n",
       "        \n",
       "    }\n",
       "};\n",
       "var prefix = 'slide-notebook';\n",
       "var actions = Jupyter.actions\n",
       "\n",
       "IPython.notebook.keyboard_manager.command_shortcuts.add_shortcut(\n",
       "    '[', actions.register(previous, 'previous-slide', prefix)\n",
       ")\n",
       "IPython.notebook.keyboard_manager.command_shortcuts.add_shortcut(\n",
       "    ']', actions.register(next, 'next-slide', prefix)\n",
       ")\n",
       "IPython.notebook.keyboard_manager.command_shortcuts.add_shortcut(\n",
       "    '-', actions.register(hide, 'hide-all', prefix)\n",
       ")\n",
       "IPython.notebook.keyboard_manager.command_shortcuts.add_shortcut(\n",
       "    '=', actions.register(show, 'show-all', prefix)\n",
       ")\n",
       "IPython.notebook.keyboard_manager.command_shortcuts.add_shortcut(\n",
       "    '0', actions.register(view, 'show-cell', prefix)\n",
       ")\n"
      ],
      "text/plain": [
       "<IPython.core.display.Javascript object>"
      ]
     },
     "metadata": {},
     "output_type": "display_data"
    }
   ],
   "source": [
    "%reload_ext slide"
   ]
  },
  {
   "cell_type": "markdown",
   "metadata": {},
   "source": [
    "<span class=\"notebook-slide-start\"/>\n",
    "\n",
    "# Interatividade\n",
    "\n",
    "Este notebook apresenta os seguintes tópicos\n",
    "\n",
    "- [Visualizações ricas](#Visualiza%C3%A7%C3%B5es-ricas)\n",
    "- [Exercício 12](#Exerc%C3%ADcio-12)\n",
    "- [Exercício 13](#Exerc%C3%ADcio-13)\n",
    "- [Widgets interativos](#Widgets-Interativos)\n",
    "- [Exercício 14](#Exerc%C3%ADcio-14)\n",
    "- [Widgets completos](#Widgets-completos)\n",
    "- [Exercício 15](#Exerc%C3%ADcio-15)\n",
    "- [Exercício 16](#Exerc%C3%ADcio-16)\n",
    "- [Lista de widgets](#Lista-de-Widgets)"
   ]
  },
  {
   "cell_type": "markdown",
   "metadata": {},
   "source": [
    "## Visualizações ricas\n",
    "\n",
    "Como dito anteriormente, o Jupyter permite misturar texto formatado com código e com visualizações.\n",
    "\n",
    "As visualizações até o momento foram feitas usando as bibliotecas `matplotlib` e `pandas` (que também utiliza a `matplotlib`), mas podemos chegar em situações em que queremos criar nossas próprias visualizações para objetos próprios.\n",
    "\n",
    "Para fazer isso, podemos definir os métodos _repr_*_(self) em classes, on * pode ser algum dos seguintes formatos suportados pelo Jupyter:\n",
    "\n",
    "- svg\n",
    "- png\n",
    "- jpeg\n",
    "- html\n",
    "- javascript\n",
    "- latex\n"
   ]
  },
  {
   "cell_type": "markdown",
   "metadata": {},
   "source": [
    "Por exemplo, podemos definir uma classe `SQRT` que represente uma raiz quadrada de um número usando Latex. <span class=\"notebook-slide-extra\" data-count=\"1\"/>"
   ]
  },
  {
   "cell_type": "code",
   "execution_count": 2,
   "metadata": {},
   "outputs": [
    {
     "data": {
      "text/latex": [
       "$$\\sqrt{25}$$"
      ],
      "text/plain": [
       "<__main__.SQRT at 0x7ff7444262d0>"
      ]
     },
     "execution_count": 2,
     "metadata": {},
     "output_type": "execute_result"
    }
   ],
   "source": [
    "class SQRT:\n",
    "    def __init__(self, number):\n",
    "        self.number = number\n",
    "    \n",
    "    def formula(self):\n",
    "        text = self.number\n",
    "        if hasattr(self.number, \"formula\"):\n",
    "            text = self.number.formula()\n",
    "        return \"\\sqrt{%s}\" % (text,)\n",
    "    \n",
    "    def _repr_latex_(self):\n",
    "        return \"$${}$$\".format(self.formula())\n",
    "    \n",
    "SQRT(25)"
   ]
  },
  {
   "cell_type": "markdown",
   "metadata": {},
   "source": [
    "Essa classe pode ser usada em conjunto com outra. <span class=\"notebook-slide-extra\" data-count=\"1\"/>"
   ]
  },
  {
   "cell_type": "code",
   "execution_count": 3,
   "metadata": {},
   "outputs": [
    {
     "data": {
      "text/latex": [
       "$$\\sqrt{\\sqrt{25}}$$"
      ],
      "text/plain": [
       "<__main__.SQRT at 0x7ff744472150>"
      ]
     },
     "execution_count": 3,
     "metadata": {},
     "output_type": "execute_result"
    }
   ],
   "source": [
    "SQRT(SQRT(25))"
   ]
  },
  {
   "cell_type": "markdown",
   "metadata": {},
   "source": [
    "Também podemos chamar programas externos para construir imagens. A seguir usaremos GraphViz (dot) para construir tanto uma imagem SVG quanto uma imagem PNG. <span class=\"notebook-slide-extra\" data-count=\"2\"/>"
   ]
  },
  {
   "cell_type": "code",
   "execution_count": 4,
   "metadata": {},
   "outputs": [],
   "source": [
    "import os\n",
    "from subprocess import Popen, PIPE as P\n",
    "\n",
    "class Graph:\n",
    "    def __init__(self, definition):\n",
    "        self.definition = definition\n",
    "    \n",
    "    def dottext(self):\n",
    "        result = [\n",
    "            \"  {} -> {};\".format(node, other)\n",
    "            for node, edges in self.definition.items()\n",
    "            for other in edges\n",
    "        ]\n",
    "        return \"digraph G {{\\n  ranksep=0.25;\\n{}\\n}}\".format(\"\\n\".join(result))\n",
    "\n",
    "    def dot(self, format=\"png\"):  # ToDo: Tratar erro\n",
    "        kwargs = {} if os.name != 'nt' else {\"creationflags\": 0x08000000}\n",
    "        p = Popen(['dot', '-T', format], stdout=P, stdin=P, stderr=P, **kwargs)\n",
    "        return p.communicate(self.dottext().encode('utf-8'))[0]\n",
    "    \n",
    "    def __repr__(self):\n",
    "        return self.dottext()\n",
    "    \n",
    "    def _repr_svg_(self):\n",
    "        return self.dot(\"svg\").decode(\"utf-8\")\n",
    "    \n",
    "    def _repr_png_(self):\n",
    "        return self.dot(\"png\")\n",
    "    \n",
    "graph = Graph({\"a\": [\"b\", \"c\"], \"b\": [\"d\"], \"c\": [\"d\"]})"
   ]
  },
  {
   "cell_type": "code",
   "execution_count": 5,
   "metadata": {},
   "outputs": [
    {
     "data": {
      "image/png": "[encoded data removed]",
      "image/svg+xml": [
       "<?xml version=\"1.0\" encoding=\"UTF-8\" standalone=\"no\"?>\n",
       "<!DOCTYPE svg PUBLIC \"-//W3C//DTD SVG 1.1//EN\"\n",
       " \"http://www.w3.org/Graphics/SVG/1.1/DTD/svg11.dtd\">\n",
       "<!-- Generated by graphviz version 2.40.1 (20161225.0304)\n",
       " -->\n",
       "<!-- Title: G Pages: 1 -->\n",
       "<svg width=\"134pt\" height=\"152pt\"\n",
       " viewBox=\"0.00 0.00 134.00 152.00\" xmlns=\"http://www.w3.org/2000/svg\" xmlns:xlink=\"http://www.w3.org/1999/xlink\">\n",
       "<g id=\"graph0\" class=\"graph\" transform=\"scale(1 1) rotate(0) translate(4 148)\">\n",
       "<title>G</title>\n",
       "<polygon fill=\"#ffffff\" stroke=\"transparent\" points=\"-4,4 -4,-148 130,-148 130,4 -4,4\"/>\n",
       "<!-- a -->\n",
       "<g id=\"node1\" class=\"node\">\n",
       "<title>a</title>\n",
       "<ellipse fill=\"none\" stroke=\"#000000\" cx=\"63\" cy=\"-126\" rx=\"27\" ry=\"18\"/>\n",
       "<text text-anchor=\"middle\" x=\"63\" y=\"-122.3\" font-family=\"Times,serif\" font-size=\"14.00\" fill=\"#000000\">a</text>\n",
       "</g>\n",
       "<!-- b -->\n",
       "<g id=\"node2\" class=\"node\">\n",
       "<title>b</title>\n",
       "<ellipse fill=\"none\" stroke=\"#000000\" cx=\"27\" cy=\"-72\" rx=\"27\" ry=\"18\"/>\n",
       "<text text-anchor=\"middle\" x=\"27\" y=\"-68.3\" font-family=\"Times,serif\" font-size=\"14.00\" fill=\"#000000\">b</text>\n",
       "</g>\n",
       "<!-- a&#45;&gt;b -->\n",
       "<g id=\"edge1\" class=\"edge\">\n",
       "<title>a&#45;&gt;b</title>\n",
       "<path fill=\"none\" stroke=\"#000000\" d=\"M52.0032,-109.5048C49.4004,-105.6006 46.5662,-101.3492 43.7716,-97.1574\"/>\n",
       "<polygon fill=\"#000000\" stroke=\"#000000\" points=\"46.6371,-95.1459 38.1779,-88.7669 40.8128,-99.0288 46.6371,-95.1459\"/>\n",
       "</g>\n",
       "<!-- c -->\n",
       "<g id=\"node3\" class=\"node\">\n",
       "<title>c</title>\n",
       "<ellipse fill=\"none\" stroke=\"#000000\" cx=\"99\" cy=\"-72\" rx=\"27\" ry=\"18\"/>\n",
       "<text text-anchor=\"middle\" x=\"99\" y=\"-68.3\" font-family=\"Times,serif\" font-size=\"14.00\" fill=\"#000000\">c</text>\n",
       "</g>\n",
       "<!-- a&#45;&gt;c -->\n",
       "<g id=\"edge2\" class=\"edge\">\n",
       "<title>a&#45;&gt;c</title>\n",
       "<path fill=\"none\" stroke=\"#000000\" d=\"M73.9968,-109.5048C76.5996,-105.6006 79.4338,-101.3492 82.2284,-97.1574\"/>\n",
       "<polygon fill=\"#000000\" stroke=\"#000000\" points=\"85.1872,-99.0288 87.8221,-88.7669 79.3629,-95.1459 85.1872,-99.0288\"/>\n",
       "</g>\n",
       "<!-- d -->\n",
       "<g id=\"node4\" class=\"node\">\n",
       "<title>d</title>\n",
       "<ellipse fill=\"none\" stroke=\"#000000\" cx=\"63\" cy=\"-18\" rx=\"27\" ry=\"18\"/>\n",
       "<text text-anchor=\"middle\" x=\"63\" y=\"-14.3\" font-family=\"Times,serif\" font-size=\"14.00\" fill=\"#000000\">d</text>\n",
       "</g>\n",
       "<!-- b&#45;&gt;d -->\n",
       "<g id=\"edge3\" class=\"edge\">\n",
       "<title>b&#45;&gt;d</title>\n",
       "<path fill=\"none\" stroke=\"#000000\" d=\"M37.9968,-55.5048C40.5996,-51.6006 43.4338,-47.3492 46.2284,-43.1574\"/>\n",
       "<polygon fill=\"#000000\" stroke=\"#000000\" points=\"49.1872,-45.0288 51.8221,-34.7669 43.3629,-41.1459 49.1872,-45.0288\"/>\n",
       "</g>\n",
       "<!-- c&#45;&gt;d -->\n",
       "<g id=\"edge4\" class=\"edge\">\n",
       "<title>c&#45;&gt;d</title>\n",
       "<path fill=\"none\" stroke=\"#000000\" d=\"M88.0032,-55.5048C85.4004,-51.6006 82.5662,-47.3492 79.7716,-43.1574\"/>\n",
       "<polygon fill=\"#000000\" stroke=\"#000000\" points=\"82.6371,-41.1459 74.1779,-34.7669 76.8128,-45.0288 82.6371,-41.1459\"/>\n",
       "</g>\n",
       "</g>\n",
       "</svg>\n"
      ],
      "text/plain": [
       "digraph G {\n",
       "  ranksep=0.25;\n",
       "  a -> b;\n",
       "  a -> c;\n",
       "  b -> d;\n",
       "  c -> d;\n",
       "}"
      ]
     },
     "execution_count": 5,
     "metadata": {},
     "output_type": "execute_result"
    }
   ],
   "source": [
    "graph"
   ]
  },
  {
   "cell_type": "markdown",
   "metadata": {},
   "source": [
    "Por padrão, objetos que oferecem tanto visualização png quanto svg são visualizados como SVG no Jupyter. Porém, podemos forçar que sejam visualizados como PNG. <span class=\"notebook-slide-extra\" data-count=\"1\"/>"
   ]
  },
  {
   "cell_type": "code",
   "execution_count": 6,
   "metadata": {},
   "outputs": [
    {
     "data": {
      "image/png": "[encoded data removed]"
     },
     "metadata": {},
     "output_type": "display_data"
    }
   ],
   "source": [
    "from IPython.display import display_png\n",
    "display_png(graph)"
   ]
  },
  {
   "cell_type": "markdown",
   "metadata": {},
   "source": [
    "Ou podemos forçar o uso do `__repr__` do Python."
   ]
  },
  {
   "cell_type": "code",
   "execution_count": 7,
   "metadata": {},
   "outputs": [
    {
     "data": {
      "text/plain": [
       "digraph G {\n",
       "  ranksep=0.25;\n",
       "  a -> b;\n",
       "  a -> c;\n",
       "  b -> d;\n",
       "  c -> d;\n",
       "}"
      ]
     },
     "metadata": {},
     "output_type": "display_data"
    }
   ],
   "source": [
    "from IPython.display import display_pretty\n",
    "display_pretty(graph)"
   ]
  },
  {
   "cell_type": "markdown",
   "metadata": {},
   "source": [
    "Aproximando do assunto da apresentação, podemos usar esse grafo para exibir a AST. <span class=\"notebook-slide-extra\" data-count=\"1\"/>"
   ]
  },
  {
   "cell_type": "code",
   "execution_count": 8,
   "metadata": {},
   "outputs": [],
   "source": [
    "import ast\n",
    "from collections import defaultdict\n",
    "\n",
    "class GraphVisitor(ast.NodeVisitor):\n",
    "    \n",
    "    def __init__(self):\n",
    "        self.parent = []\n",
    "        self.graph = defaultdict(list)\n",
    "        self.id = 0\n",
    "        \n",
    "    def generic_visit(self, node):\n",
    "        old_parent = self.parent\n",
    "        name = type(node).__name__ + str(self.id)\n",
    "        self.id += 1\n",
    "        if old_parent:\n",
    "            self.graph[old_parent].append(name)\n",
    "        self.parent = name\n",
    "        super().generic_visit(node)\n",
    "        self.parent = old_parent\n"
   ]
  },
  {
   "cell_type": "markdown",
   "metadata": {},
   "source": [
    "Executando para a própria célula. <span class=\"notebook-slide-extra\" data-count=\"1\"/>"
   ]
  },
  {
   "cell_type": "code",
   "execution_count": 9,
   "metadata": {},
   "outputs": [],
   "source": [
    "tree = ast.parse(In[-1])\n",
    "visitor = GraphVisitor()\n",
    "visitor.visit(tree)"
   ]
  },
  {
   "cell_type": "markdown",
   "metadata": {},
   "source": [
    "Visualização da AST. <span class=\"notebook-slide-extra\" data-count=\"1\"/>"
   ]
  },
  {
   "cell_type": "code",
   "execution_count": 10,
   "metadata": {},
   "outputs": [
    {
     "data": {
      "image/png": "[encoded data removed]",
      "image/svg+xml": [
       "<?xml version=\"1.0\" encoding=\"UTF-8\" standalone=\"no\"?>\n",
       "<!DOCTYPE svg PUBLIC \"-//W3C//DTD SVG 1.1//EN\"\n",
       " \"http://www.w3.org/Graphics/SVG/1.1/DTD/svg11.dtd\">\n",
       "<!-- Generated by graphviz version 2.40.1 (20161225.0304)\n",
       " -->\n",
       "<!-- Title: G Pages: 1 -->\n",
       "<svg width=\"984pt\" height=\"368pt\"\n",
       " viewBox=\"0.00 0.00 983.74 368.00\" xmlns=\"http://www.w3.org/2000/svg\" xmlns:xlink=\"http://www.w3.org/1999/xlink\">\n",
       "<g id=\"graph0\" class=\"graph\" transform=\"scale(1 1) rotate(0) translate(4 364)\">\n",
       "<title>G</title>\n",
       "<polygon fill=\"#ffffff\" stroke=\"transparent\" points=\"-4,4 -4,-364 979.7422,-364 979.7422,4 -4,4\"/>\n",
       "<!-- Module0 -->\n",
       "<g id=\"node1\" class=\"node\">\n",
       "<title>Module0</title>\n",
       "<ellipse fill=\"none\" stroke=\"#000000\" cx=\"529.2463\" cy=\"-342\" rx=\"51.1914\" ry=\"18\"/>\n",
       "<text text-anchor=\"middle\" x=\"529.2463\" y=\"-338.3\" font-family=\"Times,serif\" font-size=\"14.00\" fill=\"#000000\">Module0</text>\n",
       "</g>\n",
       "<!-- Assign1 -->\n",
       "<g id=\"node2\" class=\"node\">\n",
       "<title>Assign1</title>\n",
       "<ellipse fill=\"none\" stroke=\"#000000\" cx=\"277.2463\" cy=\"-288\" rx=\"48.1917\" ry=\"18\"/>\n",
       "<text text-anchor=\"middle\" x=\"277.2463\" y=\"-284.3\" font-family=\"Times,serif\" font-size=\"14.00\" fill=\"#000000\">Assign1</text>\n",
       "</g>\n",
       "<!-- Module0&#45;&gt;Assign1 -->\n",
       "<g id=\"edge1\" class=\"edge\">\n",
       "<title>Module0&#45;&gt;Assign1</title>\n",
       "<path fill=\"none\" stroke=\"#000000\" d=\"M485.3512,-332.5939C441.866,-323.2757 375.2713,-309.0054 329.1788,-299.1284\"/>\n",
       "<polygon fill=\"#000000\" stroke=\"#000000\" points=\"329.8924,-295.7019 319.381,-297.0289 328.4257,-302.5466 329.8924,-295.7019\"/>\n",
       "</g>\n",
       "<!-- Assign17 -->\n",
       "<g id=\"node3\" class=\"node\">\n",
       "<title>Assign17</title>\n",
       "<ellipse fill=\"none\" stroke=\"#000000\" cx=\"529.2463\" cy=\"-288\" rx=\"53.8905\" ry=\"18\"/>\n",
       "<text text-anchor=\"middle\" x=\"529.2463\" y=\"-284.3\" font-family=\"Times,serif\" font-size=\"14.00\" fill=\"#000000\">Assign17</text>\n",
       "</g>\n",
       "<!-- Module0&#45;&gt;Assign17 -->\n",
       "<g id=\"edge2\" class=\"edge\">\n",
       "<title>Module0&#45;&gt;Assign17</title>\n",
       "<path fill=\"none\" stroke=\"#000000\" d=\"M529.2463,-323.7181C529.2463,-321.3429 529.2463,-318.867 529.2463,-316.3754\"/>\n",
       "<polygon fill=\"#000000\" stroke=\"#000000\" points=\"532.7464,-316.2631 529.2463,-306.2631 525.7464,-316.2631 532.7464,-316.2631\"/>\n",
       "</g>\n",
       "<!-- Expr23 -->\n",
       "<g id=\"node4\" class=\"node\">\n",
       "<title>Expr23</title>\n",
       "<ellipse fill=\"none\" stroke=\"#000000\" cx=\"712.2463\" cy=\"-288\" rx=\"44.6926\" ry=\"18\"/>\n",
       "<text text-anchor=\"middle\" x=\"712.2463\" y=\"-284.3\" font-family=\"Times,serif\" font-size=\"14.00\" fill=\"#000000\">Expr23</text>\n",
       "</g>\n",
       "<!-- Module0&#45;&gt;Expr23 -->\n",
       "<g id=\"edge3\" class=\"edge\">\n",
       "<title>Module0&#45;&gt;Expr23</title>\n",
       "<path fill=\"none\" stroke=\"#000000\" d=\"M568.9545,-330.2828C597.5712,-321.8386 636.2654,-310.4206 666.2311,-301.5782\"/>\n",
       "<polygon fill=\"#000000\" stroke=\"#000000\" points=\"667.431,-304.8735 676.0316,-298.6863 665.4498,-298.1596 667.431,-304.8735\"/>\n",
       "</g>\n",
       "<!-- Name2 -->\n",
       "<g id=\"node5\" class=\"node\">\n",
       "<title>Name2</title>\n",
       "<ellipse fill=\"none\" stroke=\"#000000\" cx=\"68.2463\" cy=\"-234\" rx=\"44.393\" ry=\"18\"/>\n",
       "<text text-anchor=\"middle\" x=\"68.2463\" y=\"-230.3\" font-family=\"Times,serif\" font-size=\"14.00\" fill=\"#000000\">Name2</text>\n",
       "</g>\n",
       "<!-- Assign1&#45;&gt;Name2 -->\n",
       "<g id=\"edge4\" class=\"edge\">\n",
       "<title>Assign1&#45;&gt;Name2</title>\n",
       "<path fill=\"none\" stroke=\"#000000\" d=\"M237.443,-277.7159C202.8004,-268.7652 152.5187,-255.7737 115.7732,-246.2797\"/>\n",
       "<polygon fill=\"#000000\" stroke=\"#000000\" points=\"116.3499,-242.8138 105.7922,-243.7009 114.5987,-249.5913 116.3499,-242.8138\"/>\n",
       "</g>\n",
       "<!-- Call4 -->\n",
       "<g id=\"node6\" class=\"node\">\n",
       "<title>Call4</title>\n",
       "<ellipse fill=\"none\" stroke=\"#000000\" cx=\"277.2463\" cy=\"-234\" rx=\"35.194\" ry=\"18\"/>\n",
       "<text text-anchor=\"middle\" x=\"277.2463\" y=\"-230.3\" font-family=\"Times,serif\" font-size=\"14.00\" fill=\"#000000\">Call4</text>\n",
       "</g>\n",
       "<!-- Assign1&#45;&gt;Call4 -->\n",
       "<g id=\"edge5\" class=\"edge\">\n",
       "<title>Assign1&#45;&gt;Call4</title>\n",
       "<path fill=\"none\" stroke=\"#000000\" d=\"M277.2463,-269.7181C277.2463,-267.3429 277.2463,-264.867 277.2463,-262.3754\"/>\n",
       "<polygon fill=\"#000000\" stroke=\"#000000\" points=\"280.7464,-262.2631 277.2463,-252.2631 273.7464,-262.2631 280.7464,-262.2631\"/>\n",
       "</g>\n",
       "<!-- Name18 -->\n",
       "<g id=\"node20\" class=\"node\">\n",
       "<title>Name18</title>\n",
       "<ellipse fill=\"none\" stroke=\"#000000\" cx=\"479.2463\" cy=\"-234\" rx=\"50.0912\" ry=\"18\"/>\n",
       "<text text-anchor=\"middle\" x=\"479.2463\" y=\"-230.3\" font-family=\"Times,serif\" font-size=\"14.00\" fill=\"#000000\">Name18</text>\n",
       "</g>\n",
       "<!-- Assign17&#45;&gt;Name18 -->\n",
       "<g id=\"edge19\" class=\"edge\">\n",
       "<title>Assign17&#45;&gt;Name18</title>\n",
       "<path fill=\"none\" stroke=\"#000000\" d=\"M513.1507,-270.6168C509.6714,-266.8592 505.9274,-262.8157 502.2419,-258.8353\"/>\n",
       "<polygon fill=\"#000000\" stroke=\"#000000\" points=\"504.6739,-256.3103 495.3116,-251.3506 499.5376,-261.0662 504.6739,-256.3103\"/>\n",
       "</g>\n",
       "<!-- Call20 -->\n",
       "<g id=\"node21\" class=\"node\">\n",
       "<title>Call20</title>\n",
       "<ellipse fill=\"none\" stroke=\"#000000\" cx=\"590.2463\" cy=\"-234\" rx=\"40.8928\" ry=\"18\"/>\n",
       "<text text-anchor=\"middle\" x=\"590.2463\" y=\"-230.3\" font-family=\"Times,serif\" font-size=\"14.00\" fill=\"#000000\">Call20</text>\n",
       "</g>\n",
       "<!-- Assign17&#45;&gt;Call20 -->\n",
       "<g id=\"edge20\" class=\"edge\">\n",
       "<title>Assign17&#45;&gt;Call20</title>\n",
       "<path fill=\"none\" stroke=\"#000000\" d=\"M548.547,-270.9141C553.5187,-266.5129 558.9515,-261.7036 564.204,-257.0538\"/>\n",
       "<polygon fill=\"#000000\" stroke=\"#000000\" points=\"566.5281,-259.6708 571.6958,-250.4217 561.8882,-254.4295 566.5281,-259.6708\"/>\n",
       "</g>\n",
       "<!-- Call24 -->\n",
       "<g id=\"node25\" class=\"node\">\n",
       "<title>Call24</title>\n",
       "<ellipse fill=\"none\" stroke=\"#000000\" cx=\"761.2463\" cy=\"-234\" rx=\"40.8928\" ry=\"18\"/>\n",
       "<text text-anchor=\"middle\" x=\"761.2463\" y=\"-230.3\" font-family=\"Times,serif\" font-size=\"14.00\" fill=\"#000000\">Call24</text>\n",
       "</g>\n",
       "<!-- Expr23&#45;&gt;Call24 -->\n",
       "<g id=\"edge24\" class=\"edge\">\n",
       "<title>Expr23&#45;&gt;Call24</title>\n",
       "<path fill=\"none\" stroke=\"#000000\" d=\"M727.7502,-270.9141C731.3951,-266.8972 735.3485,-262.5403 739.2188,-258.2751\"/>\n",
       "<polygon fill=\"#000000\" stroke=\"#000000\" points=\"741.883,-260.5475 746.0109,-250.7899 736.699,-255.8436 741.883,-260.5475\"/>\n",
       "</g>\n",
       "<!-- Store3 -->\n",
       "<g id=\"node7\" class=\"node\">\n",
       "<title>Store3</title>\n",
       "<ellipse fill=\"none\" stroke=\"#000000\" cx=\"42.2463\" cy=\"-180\" rx=\"42.4939\" ry=\"18\"/>\n",
       "<text text-anchor=\"middle\" x=\"42.2463\" y=\"-176.3\" font-family=\"Times,serif\" font-size=\"14.00\" fill=\"#000000\">Store3</text>\n",
       "</g>\n",
       "<!-- Name2&#45;&gt;Store3 -->\n",
       "<g id=\"edge6\" class=\"edge\">\n",
       "<title>Name2&#45;&gt;Store3</title>\n",
       "<path fill=\"none\" stroke=\"#000000\" d=\"M59.7329,-216.3184C58.3111,-213.3655 56.8078,-210.2431 55.3034,-207.1187\"/>\n",
       "<polygon fill=\"#000000\" stroke=\"#000000\" points=\"58.3595,-205.3979 50.8678,-197.9062 52.0525,-208.4346 58.3595,-205.3979\"/>\n",
       "</g>\n",
       "<!-- Attribute5 -->\n",
       "<g id=\"node8\" class=\"node\">\n",
       "<title>Attribute5</title>\n",
       "<ellipse fill=\"none\" stroke=\"#000000\" cx=\"162.2463\" cy=\"-180\" rx=\"59.5901\" ry=\"18\"/>\n",
       "<text text-anchor=\"middle\" x=\"162.2463\" y=\"-176.3\" font-family=\"Times,serif\" font-size=\"14.00\" fill=\"#000000\">Attribute5</text>\n",
       "</g>\n",
       "<!-- Call4&#45;&gt;Attribute5 -->\n",
       "<g id=\"edge7\" class=\"edge\">\n",
       "<title>Call4&#45;&gt;Attribute5</title>\n",
       "<path fill=\"none\" stroke=\"#000000\" d=\"M251.151,-221.7466C237.191,-215.1914 219.6684,-206.9634 203.878,-199.5488\"/>\n",
       "<polygon fill=\"#000000\" stroke=\"#000000\" points=\"205.3605,-196.3783 194.821,-195.296 202.3851,-202.7146 205.3605,-196.3783\"/>\n",
       "</g>\n",
       "<!-- Subscript9 -->\n",
       "<g id=\"node9\" class=\"node\">\n",
       "<title>Subscript9</title>\n",
       "<ellipse fill=\"none\" stroke=\"#000000\" cx=\"318.2463\" cy=\"-180\" rx=\"61.99\" ry=\"18\"/>\n",
       "<text text-anchor=\"middle\" x=\"318.2463\" y=\"-176.3\" font-family=\"Times,serif\" font-size=\"14.00\" fill=\"#000000\">Subscript9</text>\n",
       "</g>\n",
       "<!-- Call4&#45;&gt;Subscript9 -->\n",
       "<g id=\"edge8\" class=\"edge\">\n",
       "<title>Call4&#45;&gt;Subscript9</title>\n",
       "<path fill=\"none\" stroke=\"#000000\" d=\"M289.9942,-217.2101C292.7122,-213.6303 295.6434,-209.7696 298.5529,-205.9375\"/>\n",
       "<polygon fill=\"#000000\" stroke=\"#000000\" points=\"301.5369,-207.7953 304.7965,-197.7143 295.9618,-203.5623 301.5369,-207.7953\"/>\n",
       "</g>\n",
       "<!-- Name6 -->\n",
       "<g id=\"node10\" class=\"node\">\n",
       "<title>Name6</title>\n",
       "<ellipse fill=\"none\" stroke=\"#000000\" cx=\"45.2463\" cy=\"-126\" rx=\"44.393\" ry=\"18\"/>\n",
       "<text text-anchor=\"middle\" x=\"45.2463\" y=\"-122.3\" font-family=\"Times,serif\" font-size=\"14.00\" fill=\"#000000\">Name6</text>\n",
       "</g>\n",
       "<!-- Attribute5&#45;&gt;Name6 -->\n",
       "<g id=\"edge9\" class=\"edge\">\n",
       "<title>Attribute5&#45;&gt;Name6</title>\n",
       "<path fill=\"none\" stroke=\"#000000\" d=\"M129.3439,-164.8143C115.261,-158.3145 98.7129,-150.6769 84.0382,-143.904\"/>\n",
       "<polygon fill=\"#000000\" stroke=\"#000000\" points=\"85.2564,-140.6115 74.7101,-139.5987 82.323,-146.9672 85.2564,-140.6115\"/>\n",
       "</g>\n",
       "<!-- Load8 -->\n",
       "<g id=\"node11\" class=\"node\">\n",
       "<title>Load8</title>\n",
       "<ellipse fill=\"none\" stroke=\"#000000\" cx=\"147.2463\" cy=\"-126\" rx=\"39.7935\" ry=\"18\"/>\n",
       "<text text-anchor=\"middle\" x=\"147.2463\" y=\"-122.3\" font-family=\"Times,serif\" font-size=\"14.00\" fill=\"#000000\">Load8</text>\n",
       "</g>\n",
       "<!-- Attribute5&#45;&gt;Load8 -->\n",
       "<g id=\"edge10\" class=\"edge\">\n",
       "<title>Attribute5&#45;&gt;Load8</title>\n",
       "<path fill=\"none\" stroke=\"#000000\" d=\"M157.2515,-162.0188C156.5255,-159.4052 155.7641,-156.6641 154.9992,-153.9105\"/>\n",
       "<polygon fill=\"#000000\" stroke=\"#000000\" points=\"158.3192,-152.7852 152.2704,-144.0868 151.5746,-154.6588 158.3192,-152.7852\"/>\n",
       "</g>\n",
       "<!-- Name10 -->\n",
       "<g id=\"node13\" class=\"node\">\n",
       "<title>Name10</title>\n",
       "<ellipse fill=\"none\" stroke=\"#000000\" cx=\"255.2463\" cy=\"-126\" rx=\"50.0912\" ry=\"18\"/>\n",
       "<text text-anchor=\"middle\" x=\"255.2463\" y=\"-122.3\" font-family=\"Times,serif\" font-size=\"14.00\" fill=\"#000000\">Name10</text>\n",
       "</g>\n",
       "<!-- Subscript9&#45;&gt;Name10 -->\n",
       "<g id=\"edge12\" class=\"edge\">\n",
       "<title>Subscript9&#45;&gt;Name10</title>\n",
       "<path fill=\"none\" stroke=\"#000000\" d=\"M298.3127,-162.9141C293.2748,-158.5959 287.7786,-153.8849 282.4496,-149.3172\"/>\n",
       "<polygon fill=\"#000000\" stroke=\"#000000\" points=\"284.7049,-146.6405 274.8345,-142.7899 280.1493,-151.9553 284.7049,-146.6405\"/>\n",
       "</g>\n",
       "<!-- Index12 -->\n",
       "<g id=\"node14\" class=\"node\">\n",
       "<title>Index12</title>\n",
       "<ellipse fill=\"none\" stroke=\"#000000\" cx=\"372.2463\" cy=\"-126\" rx=\"48.9926\" ry=\"18\"/>\n",
       "<text text-anchor=\"middle\" x=\"372.2463\" y=\"-122.3\" font-family=\"Times,serif\" font-size=\"14.00\" fill=\"#000000\">Index12</text>\n",
       "</g>\n",
       "<!-- Subscript9&#45;&gt;Index12 -->\n",
       "<g id=\"edge13\" class=\"edge\">\n",
       "<title>Subscript9&#45;&gt;Index12</title>\n",
       "<path fill=\"none\" stroke=\"#000000\" d=\"M335.6294,-162.6168C339.5605,-158.6858 343.8044,-154.4418 347.9616,-150.2847\"/>\n",
       "<polygon fill=\"#000000\" stroke=\"#000000\" points=\"350.6683,-152.5277 355.2645,-142.9817 345.7185,-147.5779 350.6683,-152.5277\"/>\n",
       "</g>\n",
       "<!-- Load16 -->\n",
       "<g id=\"node15\" class=\"node\">\n",
       "<title>Load16</title>\n",
       "<ellipse fill=\"none\" stroke=\"#000000\" cx=\"484.2463\" cy=\"-126\" rx=\"45.4919\" ry=\"18\"/>\n",
       "<text text-anchor=\"middle\" x=\"484.2463\" y=\"-122.3\" font-family=\"Times,serif\" font-size=\"14.00\" fill=\"#000000\">Load16</text>\n",
       "</g>\n",
       "<!-- Subscript9&#45;&gt;Load16 -->\n",
       "<g id=\"edge14\" class=\"edge\">\n",
       "<title>Subscript9&#45;&gt;Load16</title>\n",
       "<path fill=\"none\" stroke=\"#000000\" d=\"M360.0322,-166.6863C381.1056,-159.9422 407.0506,-151.5936 430.2463,-144 433.3455,-142.9854 436.543,-141.9333 439.762,-140.8701\"/>\n",
       "<polygon fill=\"#000000\" stroke=\"#000000\" points=\"441.0149,-144.1422 449.4064,-137.6743 438.8131,-137.4975 441.0149,-144.1422\"/>\n",
       "</g>\n",
       "<!-- Load7 -->\n",
       "<g id=\"node12\" class=\"node\">\n",
       "<title>Load7</title>\n",
       "<ellipse fill=\"none\" stroke=\"#000000\" cx=\"45.2463\" cy=\"-72\" rx=\"39.7935\" ry=\"18\"/>\n",
       "<text text-anchor=\"middle\" x=\"45.2463\" y=\"-68.3\" font-family=\"Times,serif\" font-size=\"14.00\" fill=\"#000000\">Load7</text>\n",
       "</g>\n",
       "<!-- Name6&#45;&gt;Load7 -->\n",
       "<g id=\"edge11\" class=\"edge\">\n",
       "<title>Name6&#45;&gt;Load7</title>\n",
       "<path fill=\"none\" stroke=\"#000000\" d=\"M45.2463,-107.7181C45.2463,-105.3429 45.2463,-102.867 45.2463,-100.3754\"/>\n",
       "<polygon fill=\"#000000\" stroke=\"#000000\" points=\"48.7464,-100.2631 45.2463,-90.2631 41.7464,-100.2631 48.7464,-100.2631\"/>\n",
       "</g>\n",
       "<!-- Load11 -->\n",
       "<g id=\"node16\" class=\"node\">\n",
       "<title>Load11</title>\n",
       "<ellipse fill=\"none\" stroke=\"#000000\" cx=\"249.2463\" cy=\"-72\" rx=\"45.4919\" ry=\"18\"/>\n",
       "<text text-anchor=\"middle\" x=\"249.2463\" y=\"-68.3\" font-family=\"Times,serif\" font-size=\"14.00\" fill=\"#000000\">Load11</text>\n",
       "</g>\n",
       "<!-- Name10&#45;&gt;Load11 -->\n",
       "<g id=\"edge15\" class=\"edge\">\n",
       "<title>Name10&#45;&gt;Load11</title>\n",
       "<path fill=\"none\" stroke=\"#000000\" d=\"M253.2149,-107.7181C252.951,-105.3429 252.6759,-102.867 252.3991,-100.3754\"/>\n",
       "<polygon fill=\"#000000\" stroke=\"#000000\" points=\"255.8585,-99.8154 251.2755,-90.2631 248.9013,-100.5885 255.8585,-99.8154\"/>\n",
       "</g>\n",
       "<!-- UnaryOp13 -->\n",
       "<g id=\"node17\" class=\"node\">\n",
       "<title>UnaryOp13</title>\n",
       "<ellipse fill=\"none\" stroke=\"#000000\" cx=\"377.2463\" cy=\"-72\" rx=\"64.9885\" ry=\"18\"/>\n",
       "<text text-anchor=\"middle\" x=\"377.2463\" y=\"-68.3\" font-family=\"Times,serif\" font-size=\"14.00\" fill=\"#000000\">UnaryOp13</text>\n",
       "</g>\n",
       "<!-- Index12&#45;&gt;UnaryOp13 -->\n",
       "<g id=\"edge16\" class=\"edge\">\n",
       "<title>Index12&#45;&gt;UnaryOp13</title>\n",
       "<path fill=\"none\" stroke=\"#000000\" d=\"M373.939,-107.7181C374.1589,-105.3429 374.3882,-102.867 374.6189,-100.3754\"/>\n",
       "<polygon fill=\"#000000\" stroke=\"#000000\" points=\"378.1182,-100.5432 375.5552,-90.2631 371.1481,-99.8978 378.1182,-100.5432\"/>\n",
       "</g>\n",
       "<!-- USub14 -->\n",
       "<g id=\"node18\" class=\"node\">\n",
       "<title>USub14</title>\n",
       "<ellipse fill=\"none\" stroke=\"#000000\" cx=\"321.2463\" cy=\"-18\" rx=\"48.1917\" ry=\"18\"/>\n",
       "<text text-anchor=\"middle\" x=\"321.2463\" y=\"-14.3\" font-family=\"Times,serif\" font-size=\"14.00\" fill=\"#000000\">USub14</text>\n",
       "</g>\n",
       "<!-- UnaryOp13&#45;&gt;USub14 -->\n",
       "<g id=\"edge17\" class=\"edge\">\n",
       "<title>UnaryOp13&#45;&gt;USub14</title>\n",
       "<path fill=\"none\" stroke=\"#000000\" d=\"M359.2193,-54.6168C355.0407,-50.5875 350.5212,-46.2294 346.1072,-41.973\"/>\n",
       "<polygon fill=\"#000000\" stroke=\"#000000\" points=\"348.4849,-39.4037 338.8569,-34.9817 343.6259,-44.4426 348.4849,-39.4037\"/>\n",
       "</g>\n",
       "<!-- Num15 -->\n",
       "<g id=\"node19\" class=\"node\">\n",
       "<title>Num15</title>\n",
       "<ellipse fill=\"none\" stroke=\"#000000\" cx=\"433.2463\" cy=\"-18\" rx=\"45.4919\" ry=\"18\"/>\n",
       "<text text-anchor=\"middle\" x=\"433.2463\" y=\"-14.3\" font-family=\"Times,serif\" font-size=\"14.00\" fill=\"#000000\">Num15</text>\n",
       "</g>\n",
       "<!-- UnaryOp13&#45;&gt;Num15 -->\n",
       "<g id=\"edge18\" class=\"edge\">\n",
       "<title>UnaryOp13&#45;&gt;Num15</title>\n",
       "<path fill=\"none\" stroke=\"#000000\" d=\"M395.2733,-54.6168C399.4518,-50.5875 403.9713,-46.2294 408.3853,-41.973\"/>\n",
       "<polygon fill=\"#000000\" stroke=\"#000000\" points=\"410.8666,-44.4426 415.6356,-34.9817 406.0076,-39.4037 410.8666,-44.4426\"/>\n",
       "</g>\n",
       "<!-- Store19 -->\n",
       "<g id=\"node22\" class=\"node\">\n",
       "<title>Store19</title>\n",
       "<ellipse fill=\"none\" stroke=\"#000000\" cx=\"477.2463\" cy=\"-180\" rx=\"48.1917\" ry=\"18\"/>\n",
       "<text text-anchor=\"middle\" x=\"477.2463\" y=\"-176.3\" font-family=\"Times,serif\" font-size=\"14.00\" fill=\"#000000\">Store19</text>\n",
       "</g>\n",
       "<!-- Name18&#45;&gt;Store19 -->\n",
       "<g id=\"edge21\" class=\"edge\">\n",
       "<title>Name18&#45;&gt;Store19</title>\n",
       "<path fill=\"none\" stroke=\"#000000\" d=\"M478.5691,-215.7181C478.4812,-213.3429 478.3895,-210.867 478.2972,-208.3754\"/>\n",
       "<polygon fill=\"#000000\" stroke=\"#000000\" points=\"481.7905,-208.1267 477.9227,-198.2631 474.7953,-208.3858 481.7905,-208.1267\"/>\n",
       "</g>\n",
       "<!-- Name21 -->\n",
       "<g id=\"node23\" class=\"node\">\n",
       "<title>Name21</title>\n",
       "<ellipse fill=\"none\" stroke=\"#000000\" cx=\"593.2463\" cy=\"-180\" rx=\"50.0912\" ry=\"18\"/>\n",
       "<text text-anchor=\"middle\" x=\"593.2463\" y=\"-176.3\" font-family=\"Times,serif\" font-size=\"14.00\" fill=\"#000000\">Name21</text>\n",
       "</g>\n",
       "<!-- Call20&#45;&gt;Name21 -->\n",
       "<g id=\"edge22\" class=\"edge\">\n",
       "<title>Call20&#45;&gt;Name21</title>\n",
       "<path fill=\"none\" stroke=\"#000000\" d=\"M591.2619,-215.7181C591.3939,-213.3429 591.5314,-210.867 591.6698,-208.3754\"/>\n",
       "<polygon fill=\"#000000\" stroke=\"#000000\" points=\"595.1715,-208.4419 592.2316,-198.2631 588.1822,-208.0535 595.1715,-208.4419\"/>\n",
       "</g>\n",
       "<!-- Load22 -->\n",
       "<g id=\"node24\" class=\"node\">\n",
       "<title>Load22</title>\n",
       "<ellipse fill=\"none\" stroke=\"#000000\" cx=\"593.2463\" cy=\"-126\" rx=\"45.4919\" ry=\"18\"/>\n",
       "<text text-anchor=\"middle\" x=\"593.2463\" y=\"-122.3\" font-family=\"Times,serif\" font-size=\"14.00\" fill=\"#000000\">Load22</text>\n",
       "</g>\n",
       "<!-- Name21&#45;&gt;Load22 -->\n",
       "<g id=\"edge23\" class=\"edge\">\n",
       "<title>Name21&#45;&gt;Load22</title>\n",
       "<path fill=\"none\" stroke=\"#000000\" d=\"M593.2463,-161.7181C593.2463,-159.3429 593.2463,-156.867 593.2463,-154.3754\"/>\n",
       "<polygon fill=\"#000000\" stroke=\"#000000\" points=\"596.7464,-154.2631 593.2463,-144.2631 589.7464,-154.2631 596.7464,-154.2631\"/>\n",
       "</g>\n",
       "<!-- Attribute25 -->\n",
       "<g id=\"node26\" class=\"node\">\n",
       "<title>Attribute25</title>\n",
       "<ellipse fill=\"none\" stroke=\"#000000\" cx=\"761.2463\" cy=\"-180\" rx=\"65.7887\" ry=\"18\"/>\n",
       "<text text-anchor=\"middle\" x=\"761.2463\" y=\"-176.3\" font-family=\"Times,serif\" font-size=\"14.00\" fill=\"#000000\">Attribute25</text>\n",
       "</g>\n",
       "<!-- Call24&#45;&gt;Attribute25 -->\n",
       "<g id=\"edge25\" class=\"edge\">\n",
       "<title>Call24&#45;&gt;Attribute25</title>\n",
       "<path fill=\"none\" stroke=\"#000000\" d=\"M761.2463,-215.7181C761.2463,-213.3429 761.2463,-210.867 761.2463,-208.3754\"/>\n",
       "<polygon fill=\"#000000\" stroke=\"#000000\" points=\"764.7464,-208.2631 761.2463,-198.2631 757.7464,-208.2631 764.7464,-208.2631\"/>\n",
       "</g>\n",
       "<!-- Name29 -->\n",
       "<g id=\"node27\" class=\"node\">\n",
       "<title>Name29</title>\n",
       "<ellipse fill=\"none\" stroke=\"#000000\" cx=\"912.2463\" cy=\"-180\" rx=\"50.0912\" ry=\"18\"/>\n",
       "<text text-anchor=\"middle\" x=\"912.2463\" y=\"-176.3\" font-family=\"Times,serif\" font-size=\"14.00\" fill=\"#000000\">Name29</text>\n",
       "</g>\n",
       "<!-- Call24&#45;&gt;Name29 -->\n",
       "<g id=\"edge26\" class=\"edge\">\n",
       "<title>Call24&#45;&gt;Name29</title>\n",
       "<path fill=\"none\" stroke=\"#000000\" d=\"M793.2695,-222.548C814.7264,-214.8747 843.2902,-204.6598 867.052,-196.1622\"/>\n",
       "<polygon fill=\"#000000\" stroke=\"#000000\" points=\"868.3315,-199.4218 876.569,-192.7588 865.9744,-192.8305 868.3315,-199.4218\"/>\n",
       "</g>\n",
       "<!-- Name26 -->\n",
       "<g id=\"node28\" class=\"node\">\n",
       "<title>Name26</title>\n",
       "<ellipse fill=\"none\" stroke=\"#000000\" cx=\"707.2463\" cy=\"-126\" rx=\"50.0912\" ry=\"18\"/>\n",
       "<text text-anchor=\"middle\" x=\"707.2463\" y=\"-122.3\" font-family=\"Times,serif\" font-size=\"14.00\" fill=\"#000000\">Name26</text>\n",
       "</g>\n",
       "<!-- Attribute25&#45;&gt;Name26 -->\n",
       "<g id=\"edge27\" class=\"edge\">\n",
       "<title>Attribute25&#45;&gt;Name26</title>\n",
       "<path fill=\"none\" stroke=\"#000000\" d=\"M743.8631,-162.6168C739.932,-158.6858 735.6881,-154.4418 731.5309,-150.2847\"/>\n",
       "<polygon fill=\"#000000\" stroke=\"#000000\" points=\"733.774,-147.5779 724.228,-142.9817 728.8242,-152.5277 733.774,-147.5779\"/>\n",
       "</g>\n",
       "<!-- Load28 -->\n",
       "<g id=\"node29\" class=\"node\">\n",
       "<title>Load28</title>\n",
       "<ellipse fill=\"none\" stroke=\"#000000\" cx=\"821.2463\" cy=\"-126\" rx=\"45.4919\" ry=\"18\"/>\n",
       "<text text-anchor=\"middle\" x=\"821.2463\" y=\"-122.3\" font-family=\"Times,serif\" font-size=\"14.00\" fill=\"#000000\">Load28</text>\n",
       "</g>\n",
       "<!-- Attribute25&#45;&gt;Load28 -->\n",
       "<g id=\"edge28\" class=\"edge\">\n",
       "<title>Attribute25&#45;&gt;Load28</title>\n",
       "<path fill=\"none\" stroke=\"#000000\" d=\"M780.5609,-162.6168C785.2371,-158.4083 790.3117,-153.8411 795.2399,-149.4058\"/>\n",
       "<polygon fill=\"#000000\" stroke=\"#000000\" points=\"797.6938,-151.906 802.7854,-142.6148 793.011,-146.7029 797.6938,-151.906\"/>\n",
       "</g>\n",
       "<!-- Load30 -->\n",
       "<g id=\"node31\" class=\"node\">\n",
       "<title>Load30</title>\n",
       "<ellipse fill=\"none\" stroke=\"#000000\" cx=\"930.2463\" cy=\"-126\" rx=\"45.4919\" ry=\"18\"/>\n",
       "<text text-anchor=\"middle\" x=\"930.2463\" y=\"-122.3\" font-family=\"Times,serif\" font-size=\"14.00\" fill=\"#000000\">Load30</text>\n",
       "</g>\n",
       "<!-- Name29&#45;&gt;Load30 -->\n",
       "<g id=\"edge30\" class=\"edge\">\n",
       "<title>Name29&#45;&gt;Load30</title>\n",
       "<path fill=\"none\" stroke=\"#000000\" d=\"M918.24,-162.0188C919.1412,-159.315 920.0879,-156.4749 921.0377,-153.6256\"/>\n",
       "<polygon fill=\"#000000\" stroke=\"#000000\" points=\"924.3754,-154.6805 924.2173,-144.0868 917.7346,-152.4668 924.3754,-154.6805\"/>\n",
       "</g>\n",
       "<!-- Load27 -->\n",
       "<g id=\"node30\" class=\"node\">\n",
       "<title>Load27</title>\n",
       "<ellipse fill=\"none\" stroke=\"#000000\" cx=\"707.2463\" cy=\"-72\" rx=\"45.4919\" ry=\"18\"/>\n",
       "<text text-anchor=\"middle\" x=\"707.2463\" y=\"-68.3\" font-family=\"Times,serif\" font-size=\"14.00\" fill=\"#000000\">Load27</text>\n",
       "</g>\n",
       "<!-- Name26&#45;&gt;Load27 -->\n",
       "<g id=\"edge29\" class=\"edge\">\n",
       "<title>Name26&#45;&gt;Load27</title>\n",
       "<path fill=\"none\" stroke=\"#000000\" d=\"M707.2463,-107.7181C707.2463,-105.3429 707.2463,-102.867 707.2463,-100.3754\"/>\n",
       "<polygon fill=\"#000000\" stroke=\"#000000\" points=\"710.7464,-100.2631 707.2463,-90.2631 703.7464,-100.2631 710.7464,-100.2631\"/>\n",
       "</g>\n",
       "</g>\n",
       "</svg>\n"
      ],
      "text/plain": [
       "digraph G {\n",
       "  ranksep=0.25;\n",
       "  Module0 -> Assign1;\n",
       "  Module0 -> Assign17;\n",
       "  Module0 -> Expr23;\n",
       "  Assign1 -> Name2;\n",
       "  Assign1 -> Call4;\n",
       "  Name2 -> Store3;\n",
       "  Call4 -> Attribute5;\n",
       "  Call4 -> Subscript9;\n",
       "  Attribute5 -> Name6;\n",
       "  Attribute5 -> Load8;\n",
       "  Name6 -> Load7;\n",
       "  Subscript9 -> Name10;\n",
       "  Subscript9 -> Index12;\n",
       "  Subscript9 -> Load16;\n",
       "  Name10 -> Load11;\n",
       "  Index12 -> UnaryOp13;\n",
       "  UnaryOp13 -> USub14;\n",
       "  UnaryOp13 -> Num15;\n",
       "  Assign17 -> Name18;\n",
       "  Assign17 -> Call20;\n",
       "  Name18 -> Store19;\n",
       "  Call20 -> Name21;\n",
       "  Name21 -> Load22;\n",
       "  Expr23 -> Call24;\n",
       "  Call24 -> Attribute25;\n",
       "  Call24 -> Name29;\n",
       "  Attribute25 -> Name26;\n",
       "  Attribute25 -> Load28;\n",
       "  Name26 -> Load27;\n",
       "  Name29 -> Load30;\n",
       "}"
      ]
     },
     "execution_count": 10,
     "metadata": {},
     "output_type": "execute_result"
    }
   ],
   "source": [
    "Graph(visitor.graph)"
   ]
  },
  {
   "cell_type": "markdown",
   "metadata": {},
   "source": [
    "## Exercício 12\n",
    "\n",
    "Modifique a classe `GraphVisitor` para exibir valores nos nós do tipo `Name` e `Num`."
   ]
  },
  {
   "cell_type": "markdown",
   "metadata": {},
   "source": [
    "## Exercício 13\n",
    "\n",
    "Implemente uma cell magic para visualizar a AST."
   ]
  },
  {
   "cell_type": "markdown",
   "metadata": {},
   "source": [
    "## Widgets Interativos\n",
    "\n",
    "Finalmente, uma outra forma de interagir com o Jupyter é a partir de widgets interativos. Esses widgets podem ser usados para fazer formulários, dashboards e até mesmo variar rapidamente parâmetros de funções.\n"
   ]
  },
  {
   "cell_type": "markdown",
   "metadata": {},
   "source": [
    "O widget a seguir interage com a função `fib`, definida no início deste notebook para variar os parâmetros dela. <span class=\"notebook-slide-extra\" data-count=\"1\"/>"
   ]
  },
  {
   "cell_type": "code",
   "execution_count": 11,
   "metadata": {},
   "outputs": [
    {
     "data": {
      "application/vnd.jupyter.widget-view+json": {
       "model_id": "959f3cf34ce54f08b4dfa636e628e3f7",
       "version_major": 2,
       "version_minor": 0
      },
      "text/plain": [
       "interactive(children=(IntSlider(value=15, description='x', max=30, min=1), Output()), _dom_classes=('widget-in…"
      ]
     },
     "metadata": {},
     "output_type": "display_data"
    },
    {
     "data": {
      "text/plain": [
       "<function __main__.fib(x)>"
      ]
     },
     "execution_count": 11,
     "metadata": {},
     "output_type": "execute_result"
    }
   ],
   "source": [
    "from ipywidgets import interact\n",
    "\n",
    "def fib(x):\n",
    "    if x <= 1:\n",
    "        return x\n",
    "    return fib(x - 1) + fib(x - 2)\n",
    "\n",
    "interact(fib, x=(1, 30))"
   ]
  },
  {
   "cell_type": "markdown",
   "metadata": {},
   "source": [
    "Essa função também pode ser usada como um decorador <span class=\"notebook-slide-extra\" data-count=\"1\"/>"
   ]
  },
  {
   "cell_type": "code",
   "execution_count": 12,
   "metadata": {},
   "outputs": [
    {
     "data": {
      "application/vnd.jupyter.widget-view+json": {
       "model_id": "450f0df6d0f94c339d60d60b36ad8a85",
       "version_major": 2,
       "version_minor": 0
      },
      "text/plain": [
       "interactive(children=(IntSlider(value=1, description='x', max=3, min=-1), IntSlider(value=2, description='y', …"
      ]
     },
     "metadata": {},
     "output_type": "display_data"
    }
   ],
   "source": [
    "@interact\n",
    "def add(x=1, y=2, template=\"A soma de {x} com {y} resulta em {z}\"):\n",
    "    z = x + y\n",
    "    print(template.format(x=x, y=y, z=z))"
   ]
  },
  {
   "cell_type": "markdown",
   "metadata": {},
   "source": [
    "Podemos definir o intervalo dos valores <span class=\"notebook-slide-extra\" data-count=\"1\"/>"
   ]
  },
  {
   "cell_type": "code",
   "execution_count": 13,
   "metadata": {},
   "outputs": [
    {
     "data": {
      "application/vnd.jupyter.widget-view+json": {
       "model_id": "375e4f453541465c9a277393a383e6a2",
       "version_major": 2,
       "version_minor": 0
      },
      "text/plain": [
       "interactive(children=(IntSlider(value=1, description='x'), IntSlider(value=2, description='y'), Text(value='A …"
      ]
     },
     "metadata": {},
     "output_type": "display_data"
    }
   ],
   "source": [
    "@interact(x=(0, 100), y=(0, 100))\n",
    "def add(x=1, y=2, template=\"A soma de {x} com {y} resulta em {z}\"):\n",
    "    z = x + y\n",
    "    print(template.format(x=x, y=y, z=z))"
   ]
  },
  {
   "cell_type": "markdown",
   "metadata": {},
   "source": [
    "O widget também pode ser usado com visualizações ricas <span class=\"notebook-slide-extra\" data-count=\"1\"/>"
   ]
  },
  {
   "cell_type": "code",
   "execution_count": 15,
   "metadata": {},
   "outputs": [
    {
     "data": {
      "application/vnd.jupyter.widget-view+json": {
       "model_id": "de001401e8df46c6bd587390bccff573",
       "version_major": 2,
       "version_minor": 0
      },
      "text/plain": [
       "interactive(children=(IntSlider(value=15, description='count', max=35, min=1), Output()), _dom_classes=('widge…"
      ]
     },
     "metadata": {},
     "output_type": "display_data"
    }
   ],
   "source": [
    "import matplotlib.pyplot as plt\n",
    "%matplotlib inline\n",
    "\n",
    "@interact(count=(1, 35))\n",
    "def generate_plot(count=15):\n",
    "    x = range(count)\n",
    "    y = [fib(n) for n in x]\n",
    "    plt.plot(x, y)"
   ]
  },
  {
   "cell_type": "markdown",
   "metadata": {},
   "source": [
    "Para números grandes, o uso do `interact` com a nossa implementação de fibonacci começou a não ser tão interativa.\n",
    "\n",
    "Em funções de longa duração, a atualização automatica do `interact` pode atrapalhar mais do que ajudar. Para resolver isso, podemos usar o `interact_manual` <span class=\"notebook-slide-extra\" data-count=\"1\"/>"
   ]
  },
  {
   "cell_type": "code",
   "execution_count": 16,
   "metadata": {},
   "outputs": [
    {
     "data": {
      "application/vnd.jupyter.widget-view+json": {
       "model_id": "b1c8abd010e34969a0d7ab4bd829e8f2",
       "version_major": 2,
       "version_minor": 0
      },
      "text/plain": [
       "interactive(children=(IntSlider(value=15, description='count', max=35, min=1), Button(description='Run Interac…"
      ]
     },
     "metadata": {},
     "output_type": "display_data"
    }
   ],
   "source": [
    "from ipywidgets import interact_manual\n",
    "\n",
    "@interact_manual(count=(1, 35))\n",
    "def generate_plot(count=15):\n",
    "    x = range(count)\n",
    "    y = [fib(n) for n in x]\n",
    "    plt.plot(x, y)"
   ]
  },
  {
   "cell_type": "markdown",
   "metadata": {},
   "source": [
    "## Exercício 14\n",
    "\n",
    "Implemente uma função interativa que permita escolher um arquivo de código fonte usando um drop-down e imprima a quantidade de letras do arquivo após a escolha.\n",
    "\n",
    "Dica: ao passar uma lista ou dicionário para o `interact`, é criado um elemento drop-down."
   ]
  },
  {
   "cell_type": "markdown",
   "metadata": {},
   "source": [
    "## Widgets completos\n",
    "\n",
    "O `interact` é uma simplificação do sistema de widgets para facilitar o uso em funções. Porém, quando estamos criando dashboards ou formulários mais completos, podemos usar o sistema mais completo.\n",
    "\n",
    "A seguir, criaremos um slider que não depende de nenhuma função `interact` <span class=\"notebook-slide-extra\" data-count=\"1\"/>"
   ]
  },
  {
   "cell_type": "code",
   "execution_count": 17,
   "metadata": {},
   "outputs": [
    {
     "data": {
      "application/vnd.jupyter.widget-view+json": {
       "model_id": "b013b190470841af8302467a18f10da1",
       "version_major": 2,
       "version_minor": 0
      },
      "text/plain": [
       "IntSlider(value=7, description='Test:', max=10)"
      ]
     },
     "metadata": {},
     "output_type": "display_data"
    }
   ],
   "source": [
    "from ipywidgets import IntSlider\n",
    "\n",
    "slider = IntSlider(\n",
    "    value=7,\n",
    "    min=0,\n",
    "    max=10,\n",
    "    step=1,\n",
    "    description='Test:'\n",
    ")\n",
    "slider"
   ]
  },
  {
   "cell_type": "markdown",
   "metadata": {},
   "source": [
    "<span class=\"notebook-slide-extra\" data-count=\"1\"/>\n",
    "<span class=\"notebook-slide-scroll\" data-position=\"-1\"/>\n",
    "\n",
    "Podemos acessar o valor do slider através do atributo `.value`"
   ]
  },
  {
   "cell_type": "code",
   "execution_count": 18,
   "metadata": {},
   "outputs": [
    {
     "data": {
      "text/plain": [
       "7"
      ]
     },
     "execution_count": 18,
     "metadata": {},
     "output_type": "execute_result"
    }
   ],
   "source": [
    "slider.value"
   ]
  },
  {
   "cell_type": "markdown",
   "metadata": {},
   "source": [
    "Se quisermos ter o efeito do `interact` de executar alguma função ao alterar o slider, podemos definir funções de observação <span class=\"notebook-slide-extra\" data-count=\"1\"/>"
   ]
  },
  {
   "cell_type": "code",
   "execution_count": 19,
   "metadata": {},
   "outputs": [
    {
     "data": {
      "application/vnd.jupyter.widget-view+json": {
       "model_id": "b013b190470841af8302467a18f10da1",
       "version_major": 2,
       "version_minor": 0
      },
      "text/plain": [
       "IntSlider(value=7, description='Test:', max=10)"
      ]
     },
     "metadata": {},
     "output_type": "display_data"
    }
   ],
   "source": [
    "def add1(change):\n",
    "    if change.name == \"value\":\n",
    "        print(change.new + 1)\n",
    "\n",
    "slider.observe(add1)\n",
    "slider"
   ]
  },
  {
   "cell_type": "markdown",
   "metadata": {},
   "source": [
    "<span class=\"notebook-slide-scroll\" data-position=\"-1\"/>\n",
    "\n",
    "Note que verificamos o tipo da observação ao receber a mudança. Algumas mudanças no widget não ocorrem no valor e isso acaba mudando o resultado de `change.new`. Além de `change.new` e `change.name`, podemos acessar outros atributos de `change`, como `change.old`\n",
    "\n",
    "Note também que ao fazermos `print` nessa função, os outputs anteriores foram preservados"
   ]
  },
  {
   "cell_type": "markdown",
   "metadata": {},
   "source": [
    "Se quisermos ter um controle maior do output, podemos usar um widget específico de output <span class=\"notebook-slide-extra\" data-count=\"1\"/>"
   ]
  },
  {
   "cell_type": "code",
   "execution_count": 20,
   "metadata": {},
   "outputs": [
    {
     "name": "stdout",
     "output_type": "stream",
     "text": [
      "Fora do output novo\n"
     ]
    },
    {
     "data": {
      "application/vnd.jupyter.widget-view+json": {
       "model_id": "0a827ff2325c48749492c13ec594c384",
       "version_major": 2,
       "version_minor": 0
      },
      "text/plain": [
       "Output()"
      ]
     },
     "metadata": {},
     "output_type": "display_data"
    }
   ],
   "source": [
    "from ipywidgets import Output\n",
    "\n",
    "out = Output()\n",
    "with out:\n",
    "    print(\"Dentro do output novo\")\n",
    "print(\"Fora do output novo\")\n",
    "out"
   ]
  },
  {
   "cell_type": "markdown",
   "metadata": {},
   "source": [
    "<span class=\"notebook-slide-scroll\" data-position=\"-1\"/>\n",
    "<span class=\"notebook-slide-extra\" data-count=\"1\"/>\n",
    "\n",
    "Podemos usar o objeto de output para apagar o conteúdo"
   ]
  },
  {
   "cell_type": "code",
   "execution_count": 21,
   "metadata": {},
   "outputs": [],
   "source": [
    "out.clear_output()"
   ]
  },
  {
   "cell_type": "markdown",
   "metadata": {},
   "source": [
    "Agora vamos combinar o slider com o output para gerar o efeito do `interact`\n",
    "\n",
    "Primeiro, precisamos limpar todos os eventos de observação que registramos no slider. <span class=\"notebook-slide-extra\" data-count=\"1\"/>"
   ]
  },
  {
   "cell_type": "code",
   "execution_count": 22,
   "metadata": {},
   "outputs": [],
   "source": [
    "slider.unobserve_all()"
   ]
  },
  {
   "cell_type": "markdown",
   "metadata": {},
   "source": [
    "Em seguida, podemos criar um novo evento que imprima dentro do objeto de output <span class=\"notebook-slide-extra\" data-count=\"1\"/>"
   ]
  },
  {
   "cell_type": "markdown",
   "metadata": {},
   "source": [
    "def add1(change):\n",
    "    if change.name == \"value\":\n",
    "        out.clear_output()\n",
    "        with out:\n",
    "            print(change.new + 1)\n",
    "\n",
    "slider.observe(add1)"
   ]
  },
  {
   "cell_type": "markdown",
   "metadata": {},
   "source": [
    "Por fim, criamos um widget que combine os dois no mesmo lugar usando `VBox` <span class=\"notebook-slide-extra\" data-count=\"1\"/>"
   ]
  },
  {
   "cell_type": "code",
   "execution_count": 23,
   "metadata": {},
   "outputs": [
    {
     "data": {
      "application/vnd.jupyter.widget-view+json": {
       "model_id": "84f15b24ef6c4ffca366b60f15c7c596",
       "version_major": 2,
       "version_minor": 0
      },
      "text/plain": [
       "VBox(children=(IntSlider(value=7, description='Test:', max=10), Output()))"
      ]
     },
     "metadata": {},
     "output_type": "display_data"
    }
   ],
   "source": [
    "from ipywidgets import VBox\n",
    "\n",
    "VBox([slider, out])"
   ]
  },
  {
   "cell_type": "markdown",
   "metadata": {},
   "source": [
    "## Exercício 15\n",
    "\n",
    "Use o widget `Button` para simular o `interact_manual`. Esse widget possui um método `on_click` para definir funções de callback"
   ]
  },
  {
   "cell_type": "markdown",
   "metadata": {},
   "source": [
    "## Exercício 16\n",
    "\n",
    "Faça um widget que imprima a soma acumulada de todas as suas execuções\n",
    "\n",
    "O objetivo desse exercício é pensar em como criar widgets com estados que continuem existindo além de uma execução da função observadora ou do interact"
   ]
  },
  {
   "cell_type": "markdown",
   "metadata": {},
   "source": [
    "## Lista de Widgets\n",
    "\n",
    "Foram apresentados `IntSlider`, `Output`, `VBox` e `Button` até agora. No restante deste notebook, vou apresentar outros widgets que existem na biblioteca `ipywidgets`\n",
    "\n",
    "Parte do material tirado de https://ipywidgets.readthedocs.io/en/latest/examples/Widget%20List.html"
   ]
  },
  {
   "cell_type": "markdown",
   "metadata": {},
   "source": [
    "### Widgets de texto"
   ]
  },
  {
   "cell_type": "markdown",
   "metadata": {},
   "source": [
    "#### Label\n",
    "\n",
    "Apenas um label somente leitura <span class=\"notebook-slide-extra\" data-count=\"1\"/>"
   ]
  },
  {
   "cell_type": "code",
   "execution_count": 24,
   "metadata": {},
   "outputs": [
    {
     "data": {
      "application/vnd.jupyter.widget-view+json": {
       "model_id": "96510ca0f7b74b4db3b955190a7dff24",
       "version_major": 2,
       "version_minor": 0
      },
      "text/plain": [
       "Label(value='Texto')"
      ]
     },
     "metadata": {},
     "output_type": "display_data"
    }
   ],
   "source": [
    "from ipywidgets import Label\n",
    "Label(\"Texto\")"
   ]
  },
  {
   "cell_type": "markdown",
   "metadata": {},
   "source": [
    "#### Text\n",
    "\n",
    "Campo de texto <span class=\"notebook-slide-extra\" data-count=\"1\"/>"
   ]
  },
  {
   "cell_type": "code",
   "execution_count": 25,
   "metadata": {},
   "outputs": [
    {
     "data": {
      "application/vnd.jupyter.widget-view+json": {
       "model_id": "8d2532c01c8c495cb2157f63f2e38fb6",
       "version_major": 2,
       "version_minor": 0
      },
      "text/plain": [
       "Text(value='Hello World', description='String:', placeholder='Type something')"
      ]
     },
     "metadata": {},
     "output_type": "display_data"
    }
   ],
   "source": [
    "from ipywidgets import Text\n",
    "Text(\n",
    "    value='Hello World',\n",
    "    placeholder='Type something',\n",
    "    description='String:',\n",
    "    disabled=False\n",
    ")"
   ]
  },
  {
   "cell_type": "markdown",
   "metadata": {},
   "source": [
    "#### Textarea\n",
    "\n",
    "Área de texto <span class=\"notebook-slide-extra\" data-count=\"1\"/>"
   ]
  },
  {
   "cell_type": "code",
   "execution_count": 26,
   "metadata": {},
   "outputs": [
    {
     "data": {
      "application/vnd.jupyter.widget-view+json": {
       "model_id": "b5c23381e387490ebb7c5acbe2dedfa4",
       "version_major": 2,
       "version_minor": 0
      },
      "text/plain": [
       "Textarea(value='Hello World', description='String:', placeholder='Type something')"
      ]
     },
     "metadata": {},
     "output_type": "display_data"
    }
   ],
   "source": [
    "from ipywidgets import Textarea\n",
    "Textarea(\n",
    "    value='Hello World',\n",
    "    placeholder='Type something',\n",
    "    description='String:',\n",
    "    disabled=False\n",
    ")"
   ]
  },
  {
   "cell_type": "markdown",
   "metadata": {},
   "source": [
    "#### Combobox\n",
    "\n",
    "Combobox com autocomplete <span class=\"notebook-slide-extra\" data-count=\"1\"/>\n"
   ]
  },
  {
   "cell_type": "code",
   "execution_count": 27,
   "metadata": {},
   "outputs": [
    {
     "data": {
      "application/vnd.jupyter.widget-view+json": {
       "model_id": "410c8c06e65b47348182ac35431e76b1",
       "version_major": 2,
       "version_minor": 0
      },
      "text/plain": [
       "Combobox(value='', description='Combobox:', ensure_option=True, options=('Paul', 'John', 'George', 'Ringo'), p…"
      ]
     },
     "metadata": {},
     "output_type": "display_data"
    }
   ],
   "source": [
    "from ipywidgets import Combobox\n",
    "Combobox(\n",
    "    # value='John',\n",
    "    placeholder='Choose Someone',\n",
    "    options=['Paul', 'John', 'George', 'Ringo'],\n",
    "    description='Combobox:',\n",
    "    ensure_option=True,\n",
    "    disabled=False\n",
    ")"
   ]
  },
  {
   "cell_type": "markdown",
   "metadata": {},
   "source": [
    "#### HTML\n",
    "\n",
    "HTML somente leitura <span class=\"notebook-slide-extra\" data-count=\"1\"/>"
   ]
  },
  {
   "cell_type": "code",
   "execution_count": 28,
   "metadata": {},
   "outputs": [
    {
     "data": {
      "application/vnd.jupyter.widget-view+json": {
       "model_id": "99fc99814f9641388b0139d83b09fedd",
       "version_major": 2,
       "version_minor": 0
      },
      "text/plain": [
       "HTML(value='Hello <b>World</b>', description='Some HTML', placeholder='Some HTML')"
      ]
     },
     "metadata": {},
     "output_type": "display_data"
    }
   ],
   "source": [
    "from ipywidgets import HTML\n",
    "HTML(\n",
    "    value=\"Hello <b>World</b>\",\n",
    "    placeholder='Some HTML',\n",
    "    description='Some HTML',\n",
    ")"
   ]
  },
  {
   "cell_type": "markdown",
   "metadata": {},
   "source": [
    "#### HTMLMath\n",
    "\n",
    "HTML somente leitura com fórmulas <span class=\"notebook-slide-extra\" data-count=\"1\"/>"
   ]
  },
  {
   "cell_type": "code",
   "execution_count": 29,
   "metadata": {},
   "outputs": [
    {
     "data": {
      "application/vnd.jupyter.widget-view+json": {
       "model_id": "2b14164ba0c14421905c741c9e9e8cd7",
       "version_major": 2,
       "version_minor": 0
      },
      "text/plain": [
       "HTMLMath(value='Some math and <i>HTML</i>: \\\\(x^2\\\\) and $$\\\\frac{x+1}{x-1}$$', description='Some HTML', place…"
      ]
     },
     "metadata": {},
     "output_type": "display_data"
    }
   ],
   "source": [
    "from ipywidgets import HTMLMath\n",
    "HTMLMath(\n",
    "    value=r\"Some math and <i>HTML</i>: \\(x^2\\) and $$\\frac{x+1}{x-1}$$\",\n",
    "    placeholder='Some HTML',\n",
    "    description='Some HTML',\n",
    ")"
   ]
  },
  {
   "cell_type": "markdown",
   "metadata": {},
   "source": [
    "### Widgets numéricos"
   ]
  },
  {
   "cell_type": "markdown",
   "metadata": {},
   "source": [
    "#### FloatSlider\n",
    "\n",
    "Semelhante a `IntSlider`, mas para `float` <span class=\"notebook-slide-extra\" data-count=\"1\"/>"
   ]
  },
  {
   "cell_type": "code",
   "execution_count": 30,
   "metadata": {},
   "outputs": [
    {
     "data": {
      "application/vnd.jupyter.widget-view+json": {
       "model_id": "41a4617f35b647248176adeb68356966",
       "version_major": 2,
       "version_minor": 0
      },
      "text/plain": [
       "FloatSlider(value=7.5, max=10.0, readout_format='.1f')"
      ]
     },
     "metadata": {},
     "output_type": "display_data"
    }
   ],
   "source": [
    "from ipywidgets import FloatSlider\n",
    "FloatSlider(\n",
    "    value=7.5,\n",
    "    min=0,\n",
    "    max=10.0,\n",
    "    step=0.1,\n",
    "    readout_format='.1f'\n",
    ")"
   ]
  },
  {
   "cell_type": "markdown",
   "metadata": {},
   "source": [
    "#### FloatLogSlider\n",
    "\n",
    "`FloatSlider` com escala logaritimica <span class=\"notebook-slide-extra\" data-count=\"1\"/>"
   ]
  },
  {
   "cell_type": "code",
   "execution_count": 31,
   "metadata": {},
   "outputs": [
    {
     "data": {
      "application/vnd.jupyter.widget-view+json": {
       "model_id": "5d1c7f15a2024038925d77c0d2566399",
       "version_major": 2,
       "version_minor": 0
      },
      "text/plain": [
       "FloatLogSlider(value=10.0, description='Log Slider', max=10.0, min=-10.0, step=0.2)"
      ]
     },
     "metadata": {},
     "output_type": "display_data"
    }
   ],
   "source": [
    "from ipywidgets import FloatLogSlider\n",
    "FloatLogSlider(\n",
    "    value=10,\n",
    "    base=10,\n",
    "    min=-10, # max exponent of base\n",
    "    max=10, # min exponent of base\n",
    "    step=0.2, # exponent step\n",
    "    description='Log Slider'\n",
    ")"
   ]
  },
  {
   "cell_type": "markdown",
   "metadata": {},
   "source": [
    "#### IntRangeSlider, FloatRangeSlider\n",
    "\n",
    "Sliders com dois valores <span class=\"notebook-slide-extra\" data-count=\"2\"/>"
   ]
  },
  {
   "cell_type": "code",
   "execution_count": 32,
   "metadata": {},
   "outputs": [
    {
     "data": {
      "application/vnd.jupyter.widget-view+json": {
       "model_id": "1e21d01900d84becb0748847cc00ffd5",
       "version_major": 2,
       "version_minor": 0
      },
      "text/plain": [
       "IntRangeSlider(value=(5, 7), max=10)"
      ]
     },
     "metadata": {},
     "output_type": "display_data"
    }
   ],
   "source": [
    "from ipywidgets import IntRangeSlider\n",
    "IntRangeSlider(\n",
    "    value=[5, 7],\n",
    "    min=0,\n",
    "    max=10,\n",
    "    step=1,\n",
    ")"
   ]
  },
  {
   "cell_type": "code",
   "execution_count": 33,
   "metadata": {},
   "outputs": [
    {
     "data": {
      "text/plain": [
       "(5, 7)"
      ]
     },
     "execution_count": 33,
     "metadata": {},
     "output_type": "execute_result"
    }
   ],
   "source": [
    "_.value"
   ]
  },
  {
   "cell_type": "markdown",
   "metadata": {},
   "source": [
    "#### IntProgress, FloatProgress\n",
    "\n",
    "Widgets que representam barra de progresso <span class=\"notebook-slide-extra\" data-count=\"1\"/>\n"
   ]
  },
  {
   "cell_type": "code",
   "execution_count": 34,
   "metadata": {},
   "outputs": [
    {
     "data": {
      "application/vnd.jupyter.widget-view+json": {
       "model_id": "5959f1ac822a433fbe70a0d41d173753",
       "version_major": 2,
       "version_minor": 0
      },
      "text/plain": [
       "IntProgress(value=7, description='Loading:', max=10)"
      ]
     },
     "metadata": {},
     "output_type": "display_data"
    }
   ],
   "source": [
    "from ipywidgets import IntProgress\n",
    "IntProgress(\n",
    "    value=7,\n",
    "    min=0,\n",
    "    max=10,\n",
    "    step=1,\n",
    "    description='Loading:',\n",
    "    bar_style='', # 'success', 'info', 'warning', 'danger' or ''\n",
    "    orientation='horizontal'\n",
    ")"
   ]
  },
  {
   "cell_type": "markdown",
   "metadata": {},
   "source": [
    "#### IntText, FloatText\n",
    "\n",
    "Campos de texto numéricos <span class=\"notebook-slide-extra\" data-count=\"1\"/>\n"
   ]
  },
  {
   "cell_type": "code",
   "execution_count": 35,
   "metadata": {},
   "outputs": [
    {
     "data": {
      "application/vnd.jupyter.widget-view+json": {
       "model_id": "e9dc28d7c37d436c83896f03d7fe79be",
       "version_major": 2,
       "version_minor": 0
      },
      "text/plain": [
       "IntText(value=7, description='Any:')"
      ]
     },
     "metadata": {},
     "output_type": "display_data"
    }
   ],
   "source": [
    "from ipywidgets import IntText\n",
    "IntText(\n",
    "    value=7,\n",
    "    description='Any:',\n",
    "    disabled=False\n",
    ")"
   ]
  },
  {
   "cell_type": "markdown",
   "metadata": {},
   "source": [
    "#### BoundedIntText, BoundedFloatText\n",
    "\n",
    "Campos de texto numéricos limitados <span class=\"notebook-slide-extra\" data-count=\"1\"/>\n"
   ]
  },
  {
   "cell_type": "code",
   "execution_count": 36,
   "metadata": {},
   "outputs": [
    {
     "data": {
      "application/vnd.jupyter.widget-view+json": {
       "model_id": "83a87af89ddf435cb2112d1cdfd777bc",
       "version_major": 2,
       "version_minor": 0
      },
      "text/plain": [
       "BoundedFloatText(value=7.5, description='Text:', max=10.0, step=0.1)"
      ]
     },
     "metadata": {},
     "output_type": "display_data"
    }
   ],
   "source": [
    "from ipywidgets import BoundedFloatText\n",
    "BoundedFloatText(\n",
    "    value=7.5,\n",
    "    min=0,\n",
    "    max=10.0,\n",
    "    step=0.1,\n",
    "    description='Text:',\n",
    ")"
   ]
  },
  {
   "cell_type": "markdown",
   "metadata": {},
   "source": [
    "### Widgets booleanos"
   ]
  },
  {
   "cell_type": "markdown",
   "metadata": {},
   "source": [
    "#### ToggleButton\n",
    "\n",
    "Botão com estado booleano <span class=\"notebook-slide-extra\" data-count=\"1\"/>\n"
   ]
  },
  {
   "cell_type": "code",
   "execution_count": 37,
   "metadata": {},
   "outputs": [
    {
     "data": {
      "application/vnd.jupyter.widget-view+json": {
       "model_id": "0f7a4d33271141ddbc4053b8b4340548",
       "version_major": 2,
       "version_minor": 0
      },
      "text/plain": [
       "ToggleButton(value=False, description='Click me', icon='check', tooltip='Description')"
      ]
     },
     "metadata": {},
     "output_type": "display_data"
    }
   ],
   "source": [
    "from ipywidgets import ToggleButton\n",
    "ToggleButton(\n",
    "    value=False,\n",
    "    description='Click me',\n",
    "    button_style='', # 'success', 'info', 'warning', 'danger' or ''\n",
    "    tooltip='Description',\n",
    "    icon='check'\n",
    ")"
   ]
  },
  {
   "cell_type": "markdown",
   "metadata": {},
   "source": [
    "#### Checkbox\n",
    "\n",
    "<span class=\"notebook-slide-extra\" data-count=\"1\"/>\n"
   ]
  },
  {
   "cell_type": "code",
   "execution_count": 38,
   "metadata": {},
   "outputs": [
    {
     "data": {
      "application/vnd.jupyter.widget-view+json": {
       "model_id": "7c98189af5864d12bb698e9257c1843f",
       "version_major": 2,
       "version_minor": 0
      },
      "text/plain": [
       "Checkbox(value=False, description='Check me')"
      ]
     },
     "metadata": {},
     "output_type": "display_data"
    }
   ],
   "source": [
    "from ipywidgets import Checkbox\n",
    "Checkbox(\n",
    "    value=False,\n",
    "    description='Check me',\n",
    ")"
   ]
  },
  {
   "cell_type": "markdown",
   "metadata": {},
   "source": [
    "#### Valid\n",
    "\n",
    "Indicador somente leitura  <span class=\"notebook-slide-extra\" data-count=\"1\"/>\n"
   ]
  },
  {
   "cell_type": "code",
   "execution_count": 39,
   "metadata": {},
   "outputs": [
    {
     "data": {
      "application/vnd.jupyter.widget-view+json": {
       "model_id": "60ae7454ff56467f88fa99c58994ea88",
       "version_major": 2,
       "version_minor": 0
      },
      "text/plain": [
       "Valid(value=False, description='Valid!')"
      ]
     },
     "metadata": {},
     "output_type": "display_data"
    }
   ],
   "source": [
    "from ipywidgets import Valid\n",
    "Valid(\n",
    "    value=False,\n",
    "    description='Valid!',\n",
    ")"
   ]
  },
  {
   "cell_type": "markdown",
   "metadata": {},
   "source": [
    "### Widgets de seleção"
   ]
  },
  {
   "cell_type": "markdown",
   "metadata": {},
   "source": [
    "#### Dropdown\n",
    "\n",
    "Widget para selecionar elementos de uma lista <span class=\"notebook-slide-extra\" data-count=\"1\"/>"
   ]
  },
  {
   "cell_type": "code",
   "execution_count": 40,
   "metadata": {},
   "outputs": [
    {
     "data": {
      "application/vnd.jupyter.widget-view+json": {
       "model_id": "a0e581676ab141ca9513adc583d9a0a5",
       "version_major": 2,
       "version_minor": 0
      },
      "text/plain": [
       "Dropdown(description='Number:', index=1, options=('1', '2', '3'), value='2')"
      ]
     },
     "metadata": {},
     "output_type": "display_data"
    }
   ],
   "source": [
    "from ipywidgets import Dropdown\n",
    "Dropdown(\n",
    "    options=['1', '2', '3'], # [('One', 1), ('Two', 2), ('Three', 3)]\n",
    "    value='2',\n",
    "    description='Number:',\n",
    "    disabled=False,\n",
    ")"
   ]
  },
  {
   "cell_type": "markdown",
   "metadata": {},
   "source": [
    "#### RadioButtons\n",
    "\n",
    "Selecionar usando radio buttons <span class=\"notebook-slide-extra\" data-count=\"1\"/>"
   ]
  },
  {
   "cell_type": "code",
   "execution_count": 41,
   "metadata": {},
   "outputs": [
    {
     "data": {
      "application/vnd.jupyter.widget-view+json": {
       "model_id": "ef84bc5dfd5c47f8bd353930ae768eeb",
       "version_major": 2,
       "version_minor": 0
      },
      "text/plain": [
       "RadioButtons(description='Number:', options=('One', 'Two', 'Three'), value='One')"
      ]
     },
     "metadata": {},
     "output_type": "display_data"
    }
   ],
   "source": [
    "from ipywidgets import RadioButtons\n",
    "RadioButtons(\n",
    "    options=['One', 'Two', 'Three'],\n",
    "    description='Number:',\n",
    "    disabled=False\n",
    ")"
   ]
  },
  {
   "cell_type": "markdown",
   "metadata": {},
   "source": [
    "#### Select\n",
    "\n",
    "Selecionar usando uma lista visível <span class=\"notebook-slide-extra\" data-count=\"1\"/>"
   ]
  },
  {
   "cell_type": "code",
   "execution_count": 42,
   "metadata": {},
   "outputs": [
    {
     "data": {
      "application/vnd.jupyter.widget-view+json": {
       "model_id": "d0e1d38fcbc140faa2de611bcffc1848",
       "version_major": 2,
       "version_minor": 0
      },
      "text/plain": [
       "Select(description='OS:', index=2, options=('Linux', 'Windows', 'OSX'), value='OSX')"
      ]
     },
     "metadata": {},
     "output_type": "display_data"
    }
   ],
   "source": [
    "from ipywidgets import Select\n",
    "Select(\n",
    "    options=['Linux', 'Windows', 'OSX'],\n",
    "    value='OSX',\n",
    "    # rows=10,\n",
    "    description='OS:',\n",
    "    disabled=False\n",
    ")"
   ]
  },
  {
   "cell_type": "markdown",
   "metadata": {},
   "source": [
    "#### SelectionSlider\n",
    "\n",
    "Slider para seleção de campos nominais <span class=\"notebook-slide-extra\" data-count=\"1\"/>"
   ]
  },
  {
   "cell_type": "code",
   "execution_count": 43,
   "metadata": {},
   "outputs": [
    {
     "data": {
      "application/vnd.jupyter.widget-view+json": {
       "model_id": "027218890bab4cd2989fc1a472d808da",
       "version_major": 2,
       "version_minor": 0
      },
      "text/plain": [
       "SelectionSlider(continuous_update=False, description='Carne ...', index=1, options=('mal passada', 'ao ponto',…"
      ]
     },
     "metadata": {},
     "output_type": "display_data"
    }
   ],
   "source": [
    "from ipywidgets import SelectionSlider\n",
    "SelectionSlider(\n",
    "    options=['mal passada', 'ao ponto', 'bem passada'],\n",
    "    value='ao ponto',\n",
    "    description='Carne ...',\n",
    "    disabled=False,\n",
    "    continuous_update=False,\n",
    "    orientation='horizontal',\n",
    "    readout=True\n",
    ")"
   ]
  },
  {
   "cell_type": "markdown",
   "metadata": {},
   "source": [
    "#### SelectionRangeSlider\n",
    "\n",
    "Slider para seleção de intervalo nominal <span class=\"notebook-slide-extra\" data-count=\"1\"/>"
   ]
  },
  {
   "cell_type": "code",
   "execution_count": 44,
   "metadata": {},
   "outputs": [
    {
     "data": {
      "application/vnd.jupyter.widget-view+json": {
       "model_id": "fecba3f9006f44fd9028fc68f9b7b93d",
       "version_major": 2,
       "version_minor": 0
      },
      "text/plain": [
       "SelectionRangeSlider(description='2019', index=(0, 11), options=(('Jan', datetime.date(2019, 1, 1)), ('Feb', d…"
      ]
     },
     "metadata": {},
     "output_type": "display_data"
    }
   ],
   "source": [
    "import datetime\n",
    "from ipywidgets import SelectionRangeSlider\n",
    "dates = [datetime.date(2019,i,1) for i in range(1,13)]\n",
    "options = [(i.strftime('%b'), i) for i in dates]\n",
    "SelectionRangeSlider(\n",
    "    options=options,\n",
    "    index=(0,11),\n",
    "    description='2019',\n",
    "    disabled=False\n",
    ")"
   ]
  },
  {
   "cell_type": "markdown",
   "metadata": {},
   "source": [
    "#### ToggleButtons\n",
    "\n",
    "`ToggleButton` para escolher um único elemento de lista <span class=\"notebook-slide-extra\" data-count=\"1\"/>"
   ]
  },
  {
   "cell_type": "code",
   "execution_count": 45,
   "metadata": {},
   "outputs": [
    {
     "data": {
      "application/vnd.jupyter.widget-view+json": {
       "model_id": "a625e93a306e4b3a8ba65c6bb5b8a68a",
       "version_major": 2,
       "version_minor": 0
      },
      "text/plain": [
       "ToggleButtons(description='Speed:', options=('Slow', 'Regular', 'Fast'), tooltips=('Description of slow', 'Des…"
      ]
     },
     "metadata": {},
     "output_type": "display_data"
    }
   ],
   "source": [
    "from ipywidgets import ToggleButtons\n",
    "ToggleButtons(\n",
    "    options=['Slow', 'Regular', 'Fast'],\n",
    "    description='Speed:',\n",
    "    disabled=False,\n",
    "    button_style='', # 'success', 'info', 'warning', 'danger' or ''\n",
    "    tooltips=['Description of slow', 'Description of regular', 'Description of fast'],\n",
    "#     icons=['check'] * 3\n",
    ")"
   ]
  },
  {
   "cell_type": "markdown",
   "metadata": {},
   "source": [
    "#### SelectMultiple\n",
    "\n",
    "Seleção de vários elementos <span class=\"notebook-slide-extra\" data-count=\"1\"/>"
   ]
  },
  {
   "cell_type": "code",
   "execution_count": 46,
   "metadata": {},
   "outputs": [
    {
     "data": {
      "application/vnd.jupyter.widget-view+json": {
       "model_id": "d756d5b29b054be1b13b8ba089272596",
       "version_major": 2,
       "version_minor": 0
      },
      "text/plain": [
       "SelectMultiple(description='Fruits', index=(1,), options=('Apples', 'Oranges', 'Pears'), value=('Oranges',))"
      ]
     },
     "metadata": {},
     "output_type": "display_data"
    }
   ],
   "source": [
    "from ipywidgets import SelectMultiple\n",
    "SelectMultiple(\n",
    "    options=['Apples', 'Oranges', 'Pears'],\n",
    "    value=['Oranges'],\n",
    "    #rows=10,\n",
    "    description='Fruits',\n",
    "    disabled=False\n",
    ")"
   ]
  },
  {
   "cell_type": "markdown",
   "metadata": {},
   "source": [
    "### Widgets de estrutura"
   ]
  },
  {
   "cell_type": "markdown",
   "metadata": {},
   "source": [
    "#### HBox\n",
    "\n",
    "Semelhante ao `VBox`, mas exibe widgets na horizontal ao invés de na vertical <span class=\"notebook-slide-extra\" data-count=\"1\"/>"
   ]
  },
  {
   "cell_type": "code",
   "execution_count": 47,
   "metadata": {},
   "outputs": [
    {
     "data": {
      "application/vnd.jupyter.widget-view+json": {
       "model_id": "35a93572090d415081a1d1c994e6093b",
       "version_major": 2,
       "version_minor": 0
      },
      "text/plain": [
       "HBox(children=(IntSlider(value=7, description='Test:', max=10), IntSlider(value=7, description='Test:', max=10…"
      ]
     },
     "metadata": {},
     "output_type": "display_data"
    }
   ],
   "source": [
    "from ipywidgets import HBox\n",
    "HBox([slider, slider])"
   ]
  },
  {
   "cell_type": "markdown",
   "metadata": {},
   "source": [
    "#### GridBox\n",
    "\n",
    "Semelhante a `VBox` e `HBox`, mas usa `HTML Grid` para fazer a exibição <span class=\"notebook-slide-extra\" data-count=\"1\"/>\n",
    "\n",
    "Aqui estamos usando Layout também para definir atributos do `CSS`"
   ]
  },
  {
   "cell_type": "code",
   "execution_count": 48,
   "metadata": {},
   "outputs": [
    {
     "data": {
      "application/vnd.jupyter.widget-view+json": {
       "model_id": "8c20e2fa6d1e4b488ae011c62fe49180",
       "version_major": 2,
       "version_minor": 0
      },
      "text/plain": [
       "GridBox(children=(Label(value='0'), Label(value='1'), Label(value='2'), Label(value='3'), Label(value='4'), La…"
      ]
     },
     "metadata": {},
     "output_type": "display_data"
    }
   ],
   "source": [
    "from ipywidgets import GridBox, Layout\n",
    "items = [Label(str(i)) for i in range(8)]\n",
    "GridBox(items, layout=Layout(grid_template_columns=\"repeat(3, 100px)\"))"
   ]
  },
  {
   "cell_type": "markdown",
   "metadata": {},
   "source": [
    "#### Accordion\n",
    "\n",
    "Exibe widgets em páginas diferentes de Accordion <span class=\"notebook-slide-extra\" data-count=\"1\"/>"
   ]
  },
  {
   "cell_type": "code",
   "execution_count": 49,
   "metadata": {},
   "outputs": [
    {
     "data": {
      "application/vnd.jupyter.widget-view+json": {
       "model_id": "5f1eaee22ddf47c3b548dc7de1b129c9",
       "version_major": 2,
       "version_minor": 0
      },
      "text/plain": [
       "Accordion(children=(IntSlider(value=7, description='Test:', max=10), IntSlider(value=7, description='Test:', m…"
      ]
     },
     "metadata": {},
     "output_type": "display_data"
    }
   ],
   "source": [
    "from ipywidgets import Accordion\n",
    "accordion = Accordion([slider, slider])\n",
    "accordion.set_title(0, 'Page 0')\n",
    "accordion.set_title(1, 'Page 1')\n",
    "accordion"
   ]
  },
  {
   "cell_type": "markdown",
   "metadata": {},
   "source": [
    "#### Tab\n",
    "\n",
    "Exibe widgets em abas diferentes <span class=\"notebook-slide-extra\" data-count=\"1\"/>"
   ]
  },
  {
   "cell_type": "code",
   "execution_count": 50,
   "metadata": {},
   "outputs": [
    {
     "data": {
      "application/vnd.jupyter.widget-view+json": {
       "model_id": "7d8947a529ae432b80be1778f2d10837",
       "version_major": 2,
       "version_minor": 0
      },
      "text/plain": [
       "Tab(children=(IntSlider(value=7, description='Test:', max=10), IntSlider(value=7, description='Test:', max=10)…"
      ]
     },
     "metadata": {},
     "output_type": "display_data"
    }
   ],
   "source": [
    "from ipywidgets import Tab\n",
    "tab = Tab([slider, slider])\n",
    "tab.set_title(0, 'Page 0')\n",
    "tab.set_title(1, 'Page 1')\n",
    "tab"
   ]
  },
  {
   "cell_type": "markdown",
   "metadata": {},
   "source": [
    "### Outros widgets"
   ]
  },
  {
   "cell_type": "markdown",
   "metadata": {},
   "source": [
    "#### Play\n",
    "\n",
    "Widget útil para controlar animações <span class=\"notebook-slide-extra\" data-count=\"1\"/>"
   ]
  },
  {
   "cell_type": "code",
   "execution_count": 51,
   "metadata": {},
   "outputs": [
    {
     "data": {
      "application/vnd.jupyter.widget-view+json": {
       "model_id": "ac8f838c05094f8199524b4e942126a8",
       "version_major": 2,
       "version_minor": 0
      },
      "text/plain": [
       "HBox(children=(Play(value=50, description='Press play'), IntSlider(value=0)))"
      ]
     },
     "metadata": {},
     "output_type": "display_data"
    }
   ],
   "source": [
    "from ipywidgets import Play, jslink\n",
    "play = Play(\n",
    "#     interval=10,\n",
    "    value=50,\n",
    "    min=0,\n",
    "    max=100,\n",
    "    step=1,\n",
    "    description=\"Press play\",\n",
    "    disabled=False\n",
    ")\n",
    "slider = IntSlider()\n",
    "jslink((play, 'value'), (slider, 'value'))\n",
    "HBox([play, slider])"
   ]
  },
  {
   "cell_type": "markdown",
   "metadata": {},
   "source": [
    "#### DatePicker\n",
    "\n",
    "Widget para escolher datas <span class=\"notebook-slide-extra\" data-count=\"1\"/>"
   ]
  },
  {
   "cell_type": "code",
   "execution_count": 52,
   "metadata": {},
   "outputs": [
    {
     "data": {
      "application/vnd.jupyter.widget-view+json": {
       "model_id": "3c3ac308207c410bb7d30ae5612c90e0",
       "version_major": 2,
       "version_minor": 0
      },
      "text/plain": [
       "DatePicker(value=None, description='Pick a Date')"
      ]
     },
     "metadata": {},
     "output_type": "display_data"
    }
   ],
   "source": [
    "from ipywidgets import DatePicker\n",
    "DatePicker(\n",
    "    description='Pick a Date',\n",
    "    disabled=False\n",
    ")"
   ]
  },
  {
   "cell_type": "markdown",
   "metadata": {},
   "source": [
    "#### ColorPicker\n",
    "\n",
    "Widget para escolher cor <span class=\"notebook-slide-extra\" data-count=\"1\"/>"
   ]
  },
  {
   "cell_type": "code",
   "execution_count": 53,
   "metadata": {},
   "outputs": [
    {
     "data": {
      "application/vnd.jupyter.widget-view+json": {
       "model_id": "24656c9ac9c2491baf725d5aff73d4f0",
       "version_major": 2,
       "version_minor": 0
      },
      "text/plain": [
       "ColorPicker(value='blue', description='Pick a color')"
      ]
     },
     "metadata": {},
     "output_type": "display_data"
    }
   ],
   "source": [
    "from ipywidgets import ColorPicker\n",
    "ColorPicker(\n",
    "    concise=False,\n",
    "    description='Pick a color',\n",
    "    value='blue',\n",
    "    disabled=False\n",
    ")"
   ]
  },
  {
   "cell_type": "markdown",
   "metadata": {},
   "source": [
    "#### FileUpload\n",
    "\n",
    "Widget para fazer upload de arquivos e receber em bytes <span class=\"notebook-slide-extra\" data-count=\"1\"/>"
   ]
  },
  {
   "cell_type": "code",
   "execution_count": 54,
   "metadata": {},
   "outputs": [
    {
     "data": {
      "application/vnd.jupyter.widget-view+json": {
       "model_id": "781ace0d288149d6acf4f52d9617b86b",
       "version_major": 2,
       "version_minor": 0
      },
      "text/plain": [
       "FileUpload(value={}, description='Upload')"
      ]
     },
     "metadata": {},
     "output_type": "display_data"
    }
   ],
   "source": [
    "from ipywidgets import FileUpload\n",
    "FileUpload(\n",
    "    accept='',  # Accepted file extension e.g. '.txt', '.pdf', 'image/*', 'image/*,.pdf'\n",
    "    multiple=False  # True to accept multiple files upload else False\n",
    ")"
   ]
  },
  {
   "cell_type": "markdown",
   "metadata": {},
   "source": [
    "#### Image\n",
    "\n",
    "Widget para visualizar imagem <span class=\"notebook-slide-extra\" data-count=\"1\"/>"
   ]
  },
  {
   "cell_type": "code",
   "execution_count": 55,
   "metadata": {},
   "outputs": [
    {
     "data": {
      "application/vnd.jupyter.widget-view+json": {
       "model_id": "af1c920ff68a4767a01a43cd04ca2d19",
       "version_major": 2,
       "version_minor": 0
      },
      "text/plain": [
       "Image(value=b'\\x89PNG\\r\\n\\x1a\\n\\x00\\x00\\x00\\rIHDR\\x00\\x00\\x00X\\x00\\x00\\x00f\\x08\\x06\\x00\\x00\\x00O\\xe5V\\xe9\\x00\\…"
      ]
     },
     "metadata": {},
     "output_type": "display_data"
    }
   ],
   "source": [
    "from ipywidgets import Image\n",
    "file = open(\"images/jupyter.png\", \"rb\")\n",
    "image = file.read()\n",
    "Image(\n",
    "    value=image,\n",
    "    format='png',\n",
    "    width=50,\n",
    "    height=50,\n",
    ")"
   ]
  },
  {
   "cell_type": "markdown",
   "metadata": {},
   "source": [
    "#### Controller\n",
    "\n",
    "Widget para usar controle de jogo como entrada <span class=\"notebook-slide-extra\" data-count=\"1\"/>"
   ]
  },
  {
   "cell_type": "code",
   "execution_count": 56,
   "metadata": {},
   "outputs": [
    {
     "data": {
      "application/vnd.jupyter.widget-view+json": {
       "model_id": "09d76bf21ca24187ad576a3771d493e4",
       "version_major": 2,
       "version_minor": 0
      },
      "text/plain": [
       "Controller()"
      ]
     },
     "metadata": {},
     "output_type": "display_data"
    }
   ],
   "source": [
    "from ipywidgets import Controller\n",
    "Controller(\n",
    "    index=0,\n",
    ")"
   ]
  },
  {
   "cell_type": "markdown",
   "metadata": {},
   "source": [
    "&nbsp;\n",
    "\n",
    "&nbsp;\n",
    "\n",
    "&nbsp;\n",
    "\n",
    "&nbsp;\n",
    "\n",
    "&nbsp;\n",
    "\n",
    "&nbsp;\n",
    "\n",
    "&nbsp;\n",
    "\n",
    "&nbsp;\n",
    "\n",
    "&nbsp;\n",
    "\n",
    "&nbsp;\n",
    "\n",
    "&nbsp;\n",
    "\n",
    "&nbsp;\n",
    "\n",
    "&nbsp;\n",
    "\n",
    "&nbsp;\n",
    "\n",
    "&nbsp;\n",
    "\n",
    "&nbsp;\n",
    "\n",
    "&nbsp;\n",
    "\n",
    "&nbsp;\n",
    "\n",
    "&nbsp;\n",
    "\n",
    "&nbsp;\n",
    "\n",
    "&nbsp;\n",
    "\n",
    "\n",
    "&nbsp;\n",
    "\n",
    "&nbsp;\n",
    "\n",
    "&nbsp;\n",
    "\n"
   ]
  }
 ],
 "metadata": {
  "kernelspec": {
   "display_name": "Python 3",
   "language": "python",
   "name": "python3"
  },
  "language_info": {
   "codemirror_mode": {
    "name": "ipython",
    "version": 3
   },
   "file_extension": ".py",
   "mimetype": "text/x-python",
   "name": "python",
   "nbconvert_exporter": "python",
   "pygments_lexer": "ipython3",
   "version": "3.7.4"
  }
 },
 "nbformat": 4,
 "nbformat_minor": 2
}
