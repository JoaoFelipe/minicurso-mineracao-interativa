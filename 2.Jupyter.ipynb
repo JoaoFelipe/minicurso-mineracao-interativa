{
 "cells": [
  {
   "cell_type": "markdown",
   "metadata": {},
   "source": [
    "Para entrar no modo apresentação, execute a seguinte célula e pressione `-`"
   ]
  },
  {
   "cell_type": "code",
   "execution_count": null,
   "metadata": {},
   "outputs": [],
   "source": [
    "%reload_ext slide"
   ]
  },
  {
   "cell_type": "markdown",
   "metadata": {},
   "source": [
    "<span class=\"notebook-slide-start\"/>\n",
    "\n",
    "# Jupyter\n",
    "\n",
    "Este notebook apresenta os seguintes tópicos:\n",
    "\n",
    "- [Sobre o Jupyter](#Sobre-o-Jupyter)\n",
    "- [Exercício 1](#Exerc%C3%ADcio-1)\n",
    "- [Análise de Código](#An%C3%A1lise-de-c%C3%B3digo)\n",
    "- [Análise de AST](#An%C3%A1lise-de-AST)\n",
    "- [Análise de Complexidade ciclomática e linhas de código](#Complexidade-ciclom%C3%A1tica-(radon))\n"
   ]
  },
  {
   "cell_type": "markdown",
   "metadata": {},
   "source": [
    "## Sobre o Jupyter\n",
    "\n",
    "Ferramenta que permite combinar código, texto formatado com markdown, visualizações e interações.\n",
    "\n",
    "O Jupyter funciona com diversas linguagens. A mais usada é Python, que é a linguagem que será usada neste minicurso.\n",
    "\n",
    "Outras linguagens podem ser usadas a partir da instalação de Kernels diferentes.\n"
   ]
  },
  {
   "cell_type": "markdown",
   "metadata": {},
   "source": [
    "<span class=\"notebook-slide-extra\" data-count=\"1\"/>\n",
    "\n",
    "A seguinte célula define a variável `x` e atribui o valor **1** a ela."
   ]
  },
  {
   "cell_type": "code",
   "execution_count": null,
   "metadata": {},
   "outputs": [],
   "source": [
    "x = 1"
   ]
  },
  {
   "cell_type": "markdown",
   "metadata": {},
   "source": [
    "<span class=\"notebook-slide-extra\" data-count=\"1\"/>\n",
    "<span class=\"notebook-slide-no-scroll\"/>\n",
    "\n",
    "A seguinte célula apresenta o valor de `x`. O Jupyter apresenta como resultado de uma célula a última expressão que aparece na mesma."
   ]
  },
  {
   "cell_type": "code",
   "execution_count": null,
   "metadata": {},
   "outputs": [],
   "source": [
    "x"
   ]
  },
  {
   "cell_type": "markdown",
   "metadata": {},
   "source": [
    "<span class=\"notebook-slide-scroll\" data-position=\"-1\"/>\n",
    "\n",
    "Ao executar uma célula, o Jupyter atribui o resultado à variável `_` e adiciona no dicionário `Out`, que pode ser acessado por um índice.\n",
    "\n",
    "Além de atribuir o resultado de uma célula, o código usado fica armazenado na lista `In`."
   ]
  },
  {
   "cell_type": "code",
   "execution_count": null,
   "metadata": {},
   "outputs": [],
   "source": [
    "if _:\n",
    "    print(\"Code:\", In[3])\n",
    "    print(\"Result:\", Out[3])"
   ]
  },
  {
   "cell_type": "markdown",
   "metadata": {},
   "source": [
    "<span class=\"notebook-slide-scroll\" data-position=\"-1\"/>\n",
    "\n",
    "Note que a última célula apresentou os valores do print, mas não teve saída, pois não teve nenhuma expressão no final da célula. Nesse caso, o Jupyter não sobreescreve o valor de `_` e não insere nada em `Out`."
   ]
  },
  {
   "cell_type": "code",
   "execution_count": null,
   "metadata": {},
   "outputs": [],
   "source": [
    "print(_)"
   ]
  },
  {
   "cell_type": "markdown",
   "metadata": {},
   "source": [
    "<span class=\"notebook-slide-extra\" data-count=\"1\"/>\n",
    "\n",
    "Para evitar que uma expressão no final de uma célula seja interpretada como expressão, basta adicionar `;` a ela."
   ]
  },
  {
   "cell_type": "code",
   "execution_count": null,
   "metadata": {},
   "outputs": [],
   "source": [
    "x + 1;"
   ]
  },
  {
   "cell_type": "code",
   "execution_count": null,
   "metadata": {},
   "outputs": [],
   "source": [
    "_"
   ]
  },
  {
   "cell_type": "markdown",
   "metadata": {},
   "source": [
    "### Exercício 1\n",
    "\n",
    "Faça um algoritmo que calcule a soma de todos elementos ímpares e soma de todos os números pares da seguinte lista e apresente como resultado da célula: `[1, 51, 2, 5, 7, 0, 10, 22, 3, 4, 9, 8, 2, 6, 12, 18, 43]`. <span class=\"notebook-slide-extra\" data-count=\"1\"/>\n",
    "\n"
   ]
  },
  {
   "cell_type": "code",
   "execution_count": null,
   "metadata": {},
   "outputs": [],
   "source": [
    "lista = [1, 47, -2, 5, 7, 0, 12, 12, 3, 6, 9, 8, 2, 6, 2, 18, 43, 13]\n",
    "impar = 0\n",
    "par = 0\n",
    "...\n",
    "impar, par"
   ]
  },
  {
   "cell_type": "markdown",
   "metadata": {},
   "source": [
    "## Análise de código\n",
    "\n",
    "Como temos acesso a todo o código escrito no Jupyter a partir da variável `In`, podemos usar código escrito no próprio notebook para fazer análises. A seguir contamos a quantidade de caracteres do exercício. <span class=\"notebook-slide-extra\" data-count=\"1\"/>"
   ]
  },
  {
   "cell_type": "code",
   "execution_count": null,
   "metadata": {},
   "outputs": [],
   "source": [
    "code = In[-2]\n",
    "len(code)"
   ]
  },
  {
   "cell_type": "markdown",
   "metadata": {},
   "source": [
    "<span class=\"notebook-slide-no-scroll\"/>\n",
    "\n",
    "Note que usamos `In[-2]` para acessar a célula anterior, pois o índice `-1` representa a própria célula."
   ]
  },
  {
   "cell_type": "markdown",
   "metadata": {},
   "source": [
    "## Bibliotecas\n",
    "\n",
    "Por usarmos Python normalmente nas células, também podemos usar as formas de import do Python, como o `import` e o `from ... import` para importar bibliotecas."
   ]
  },
  {
   "cell_type": "markdown",
   "metadata": {},
   "source": [
    "### Análise de AST\n",
    "\n",
    "A seguir, importaremos a biblioteca `ast` do Python para analisar o código que fizemos no exercício 1.\n",
    "\n",
    "**Se você adicionou alguma célula depois do exercício, lembrar de atualizar o índice de In**.\n",
    "\n",
    "<span class=\"notebook-slide-extra\" data-count=\"1\"/>"
   ]
  },
  {
   "cell_type": "code",
   "execution_count": null,
   "metadata": {},
   "outputs": [],
   "source": [
    "import ast\n",
    "\n",
    "class AssignmentVisitor(ast.NodeVisitor):\n",
    "    \n",
    "    def __init__(self):\n",
    "        self.assignments = 0\n",
    "    \n",
    "    def visit_Assign(self, node):\n",
    "        self.assignments += 1\n",
    "    \n",
    "    def visit_AugAssign(self, node):\n",
    "        self.assignments += 1\n",
    "\n",
    "tree = ast.parse(code)\n",
    "visitor = AssignmentVisitor()\n",
    "visitor.visit(tree)\n",
    "visitor.assignments"
   ]
  },
  {
   "cell_type": "markdown",
   "metadata": {},
   "source": [
    "<span class=\"notebook-slide-scroll\" data-position=\"-1\"/>\n",
    "\n",
    "Nessa célula, definimos uma classe AssignmentVisitor que herda de `ast.NodeVisitor` e implementa as funções `visit_Assign` e `visit_AugAssign`. Essas funções são chamadas ao visitar elementos dos tipos Assign e AugAssign na árvore sintática abstrata do Python. Ao visitar esses elementos, nossa função incrementa um contador de assignments.\n",
    "\n",
    "Para executar esse visitor, precisamos chamar `ast.parse` para gerar uma raiz de uma `ast` e executar `visitor.visit` para visitá-la."
   ]
  },
  {
   "cell_type": "markdown",
   "metadata": {},
   "source": [
    "<span class=\"notebook-slide-scroll\" data-position=\"-1\"/>\n",
    "\n",
    "A definição da AST do Python com todos os elementos possíveis pode ser encontrada na documentação oficial: https://docs.python.org/3/library/ast.html\n",
    "\n",
    "Existe uma outra documentação mais completa relacionada à AST do Python (Green Tree Snakes): https://greentreesnakes.readthedocs.io/en/latest/"
   ]
  },
  {
   "cell_type": "markdown",
   "metadata": {},
   "source": [
    "### Complexidade ciclomática (radon)\n",
    "Além de bibliotecas builtin, também podemos importar bibliotecas externas. A seguir instalamos e usamos a biblioteca `radon`, que serve para calcular métricas do código.\n",
    "\n",
    "Se a biblioteca já estiver instalada no ambiente, a seguinte célula não terá efeito algum. Não é necessário instalar bibliotecas sempre que for usar o notebook.\n",
    "\n",
    "<span class=\"notebook-slide-extra\" data-count=\"1\"/>"
   ]
  },
  {
   "cell_type": "code",
   "execution_count": null,
   "metadata": {
    "scrolled": true
   },
   "outputs": [],
   "source": [
    "!pip install radon"
   ]
  },
  {
   "cell_type": "markdown",
   "metadata": {},
   "source": [
    "Note que a célula anterior usou uma **bang expression** para executar diretamente comandos no sistema. Essas expressões fazem parte do kernel que usamos para Python (IPython)."
   ]
  },
  {
   "cell_type": "markdown",
   "metadata": {},
   "source": [
    "<span class=\"notebook-slide-extra\" data-count=\"1\"/>\n",
    "\n",
    "Agora podemos importar funções que caculam a complexidade ciclomática usando `radon`."
   ]
  },
  {
   "cell_type": "code",
   "execution_count": null,
   "metadata": {},
   "outputs": [],
   "source": [
    "from radon.complexity import cc_visit\n",
    "code_with_def = \"\"\"\n",
    "def f():\n",
    "    {}\n",
    "\"\"\".format(\n",
    "    \"\\n    \".join(code.split(\"\\n\"))\n",
    ")\n",
    "\n",
    "cc_visit(code_with_def)"
   ]
  },
  {
   "cell_type": "markdown",
   "metadata": {},
   "source": [
    "<span class=\"notebook-slide-scroll\" data-position=\"-1\"/>\n",
    "\n",
    "A função `cc_visit` apenas calcula a complexidade de funções e classes e não de código isolado. Para permitir esse cálculo, foi necessário quebrar o código em cada `\\n` e inserir indentado em uma função."
   ]
  },
  {
   "cell_type": "markdown",
   "metadata": {},
   "source": [
    "<span class=\"notebook-slide-extra\" data-count=\"1\"/>\n",
    "\n",
    "A biblioteca `radon` também calcula outras métricas, como número de linhas lógicas (lloc), linhas de código (sloc), linhas de comentário (comments), linhas de comentário sem código (single_comments), strings de multilinha (multi), linhas em branco (blank), e total de linhas, respeitando a seguinte equação:\n",
    "\n",
    "$ loc = sloc + blanks + multi + single\\_comments $"
   ]
  },
  {
   "cell_type": "code",
   "execution_count": null,
   "metadata": {},
   "outputs": [],
   "source": [
    "from radon.raw import analyze\n",
    "analyze(code)"
   ]
  },
  {
   "cell_type": "markdown",
   "metadata": {},
   "source": [
    "Continua: [3.IPython.ipynb](3.IPython.ipynb)"
   ]
  },
  {
   "cell_type": "markdown",
   "metadata": {},
   "source": [
    "&nbsp;\n",
    "\n",
    "&nbsp;\n",
    "\n",
    "&nbsp;\n",
    "\n",
    "&nbsp;\n",
    "\n",
    "&nbsp;\n",
    "\n",
    "&nbsp;\n",
    "\n",
    "&nbsp;\n",
    "\n",
    "&nbsp;\n",
    "\n",
    "&nbsp;\n",
    "\n",
    "&nbsp;\n",
    "\n",
    "&nbsp;\n",
    "\n",
    "&nbsp;\n",
    "\n",
    "&nbsp;\n",
    "\n",
    "&nbsp;\n",
    "\n",
    "&nbsp;\n",
    "\n",
    "&nbsp;\n",
    "\n",
    "&nbsp;\n",
    "\n",
    "&nbsp;\n",
    "\n",
    "&nbsp;\n",
    "\n",
    "&nbsp;\n",
    "\n",
    "&nbsp;\n",
    "\n",
    "\n",
    "&nbsp;\n",
    "\n",
    "&nbsp;\n",
    "\n",
    "&nbsp;\n",
    "\n"
   ]
  }
 ],
 "metadata": {
  "kernelspec": {
   "display_name": "Python 3",
   "language": "python",
   "name": "python3"
  },
  "language_info": {
   "codemirror_mode": {
    "name": "ipython",
    "version": 3
   },
   "file_extension": ".py",
   "mimetype": "text/x-python",
   "name": "python",
   "nbconvert_exporter": "python",
   "pygments_lexer": "ipython3",
   "version": "3.7.3"
  },
  "toc": {
   "base_numbering": 1,
   "nav_menu": {},
   "number_sections": false,
   "sideBar": true,
   "skip_h1_title": false,
   "title_cell": "Table of Contents",
   "title_sidebar": "Contents",
   "toc_cell": false,
   "toc_position": {},
   "toc_section_display": true,
   "toc_window_display": true
  }
 },
 "nbformat": 4,
 "nbformat_minor": 2
}
