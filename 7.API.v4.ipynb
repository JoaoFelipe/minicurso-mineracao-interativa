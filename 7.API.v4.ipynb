{
 "cells": [
  {
   "cell_type": "markdown",
   "metadata": {},
   "source": [
    "Para entrar no modo apresentação, execute a seguinte célula e pressione `-`"
   ]
  },
  {
   "cell_type": "code",
   "execution_count": null,
   "metadata": {},
   "outputs": [],
   "source": [
    "%reload_ext slide"
   ]
  },
  {
   "cell_type": "markdown",
   "metadata": {},
   "source": [
    "<span class=\"notebook-slide-start\"/>\n",
    "\n",
    "# API v4\n",
    "\n",
    "Este notebook apenas apresenta a API v4.\n",
    "\n",
    "Anteriormente, o minicurso abordou a API v3 do GitHub, que utiliza REST. Agora, o minicurso abordará a API v4, que usa GraphQL (https://developer.github.com/v4/).\n",
    "\n",
    "Antes de qualquer coisa, vamos iniciar o servidor de proxy, caso ele esteja fechado:\n",
    "```bash\n",
    "python proxy.py https://api.github.com/\n",
    "```\n"
   ]
  },
  {
   "cell_type": "markdown",
   "metadata": {},
   "source": [
    "Além do servidor de proxy, precisamos carregar o token e preparar a função de autenticação.  <span class=\"notebook-slide-extra\" data-count=\"2\"/>"
   ]
  },
  {
   "cell_type": "code",
   "execution_count": null,
   "metadata": {},
   "outputs": [],
   "source": [
    "from ipywidgets import FileUpload, interact\n",
    "@interact(files=FileUpload())\n",
    "def set_token(files={}):\n",
    "    global token\n",
    "    if files:\n",
    "        for key, values in files.items():\n",
    "            token = values['content'].decode(\"utf-8\").strip()\n",
    "            print(\"Token Loaded!\")"
   ]
  },
  {
   "cell_type": "code",
   "execution_count": null,
   "metadata": {},
   "outputs": [],
   "source": [
    "import requests\n",
    "\n",
    "def token_auth(request):\n",
    "    request.headers[\"User-Agent\"] = \"Minicurso\" # Necessário\n",
    "    request.headers[\"Authorization\"] = \"token {}\".format(token)\n",
    "    return request"
   ]
  },
  {
   "cell_type": "markdown",
   "metadata": {},
   "source": [
    "Agora podemos tentar conectar na API v4 e verificar se a autenticação funcionou. Note que usamos POST e URL original é https://api.github.com/graphql. <span class=\"notebook-slide-extra\" data-count=\"2\"/>"
   ]
  },
  {
   "cell_type": "code",
   "execution_count": null,
   "metadata": {},
   "outputs": [],
   "source": [
    "SITE = \"http://localhost:5000/\" # ou https://api.github.com\n",
    "\n",
    "query = \"\"\"\n",
    "{\n",
    "  rateLimit {\n",
    "    limit\n",
    "    cost\n",
    "    remaining\n",
    "    resetAt\n",
    "  }\n",
    "}\n",
    "\"\"\"\n",
    "\n",
    "response = requests.post(SITE + \"graphql\", json={'query': query}, auth=token_auth)\n",
    "response.status_code"
   ]
  },
  {
   "cell_type": "code",
   "execution_count": null,
   "metadata": {},
   "outputs": [],
   "source": [
    "response.json()"
   ]
  },
  {
   "cell_type": "markdown",
   "metadata": {},
   "source": [
    "A consulta com a API v4 é um pouco mais verbosa, porém existe uma única URL de acesso e o resultado vem exatamente o que consultamos. <span class=\"notebook-slide-scroll\" data-count=\"-1\"/>"
   ]
  },
  {
   "cell_type": "markdown",
   "metadata": {},
   "source": [
    "A seguir temos um exemplo de uma consulta quase completa em relação ao que fizemos na APIv3. <span class=\"notebook-slide-extra\" data-count=\"1\"/>"
   ]
  },
  {
   "cell_type": "code",
   "execution_count": null,
   "metadata": {},
   "outputs": [],
   "source": [
    "query = \"\"\"\n",
    "query {\n",
    "  repository(owner:\"gems-uff\", name:\"sapos\") {\n",
    "      stargazers {\n",
    "          totalCount\n",
    "      }\n",
    "      forks {\n",
    "          totalCount\n",
    "      }\n",
    "      watchers {\n",
    "          totalCount\n",
    "      }\n",
    "      primaryLanguage {\n",
    "          name\n",
    "      }\n",
    "      open_issues: issues(states:OPEN, first:100) {\n",
    "          totalCount\n",
    "          edges {\n",
    "              node {\n",
    "                  number\n",
    "                  closedAt\n",
    "                  createdAt\n",
    "                  labels(first:100) {\n",
    "                    edges { \n",
    "                      node {\n",
    "                        name\n",
    "                      }\n",
    "                    }\n",
    "                    pageInfo {\n",
    "                      startCursor\n",
    "                      hasNextPage\n",
    "                      endCursor\n",
    "                    }\n",
    "                  }\n",
    "              }\n",
    "          }\n",
    "          pageInfo {\n",
    "            startCursor\n",
    "            hasNextPage\n",
    "            endCursor\n",
    "          }\n",
    "      }\n",
    "      closed_issues: issues(states:CLOSED, first:100) {\n",
    "          totalCount\n",
    "          edges {\n",
    "              node {\n",
    "                  number\n",
    "                  closedAt\n",
    "                  createdAt\n",
    "                  labels(first:100) {\n",
    "                    edges { \n",
    "                      node {\n",
    "                        name\n",
    "                      }\n",
    "                    }\n",
    "                    pageInfo {\n",
    "                      startCursor\n",
    "                      hasNextPage\n",
    "                      endCursor\n",
    "                    }\n",
    "                  }\n",
    "              }\n",
    "          }\n",
    "          pageInfo {\n",
    "            startCursor\n",
    "            hasNextPage\n",
    "            endCursor\n",
    "          }\n",
    "      }\n",
    "      mentionableUsers(first:100) {\n",
    "          edges {\n",
    "              node {\n",
    "                  login\n",
    "              }\n",
    "          }\n",
    "          pageInfo {\n",
    "            startCursor\n",
    "            hasNextPage\n",
    "            endCursor\n",
    "          }\n",
    "      }\n",
    "  }\n",
    "  \n",
    "}\n",
    "\"\"\"\n",
    "\n",
    "response = requests.post(SITE + \"graphql\", json={'query': query}, auth=token_auth)\n",
    "print(response.status_code)\n",
    "data = response.json()\n",
    "data"
   ]
  },
  {
   "cell_type": "markdown",
   "metadata": {},
   "source": [
    "Uma única consulta é capaz de retornar boa parte das informações que precisamos.\n",
    "\n",
    "Mas ATENÇÃO! Paginação ainda é necessária e é feita com os argumentos `first:100` e `after:{endCursor}`. <span class=\"notebook-slide-extra\" data-count=\"3\"/>"
   ]
  },
  {
   "cell_type": "code",
   "execution_count": null,
   "metadata": {},
   "outputs": [],
   "source": [
    "data[\"data\"][\"repository\"][\"closed_issues\"][\"pageInfo\"]"
   ]
  },
  {
   "cell_type": "code",
   "execution_count": null,
   "metadata": {},
   "outputs": [],
   "source": [
    "query_base = \"\"\"\n",
    "query {\n",
    "  repository(owner:\"gems-uff\", name:\"sapos\") {\n",
    "      closed_issues: issues(states:CLOSED, first:100, after:\"%s\") {\n",
    "          totalCount\n",
    "          edges {\n",
    "              node {\n",
    "                  number\n",
    "                  closedAt\n",
    "                  createdAt\n",
    "                  labels(first:100) {\n",
    "                    edges { \n",
    "                      node {\n",
    "                        name\n",
    "                      }\n",
    "                    }\n",
    "                    pageInfo {\n",
    "                      startCursor\n",
    "                      hasNextPage\n",
    "                      endCursor\n",
    "                    }\n",
    "                  }\n",
    "              }\n",
    "          }\n",
    "          pageInfo {\n",
    "            startCursor\n",
    "            hasNextPage\n",
    "            endCursor\n",
    "          }\n",
    "      }\n",
    "  }\n",
    "}\n",
    "\"\"\"\n",
    "query = query_base % (data[\"data\"][\"repository\"][\"closed_issues\"][\"pageInfo\"]['endCursor'], )\n",
    "\n",
    "response = requests.post(SITE + \"graphql\", json={'query': query}, auth=token_auth)\n",
    "print(response.status_code)\n",
    "data2 = response.json()\n",
    "data2"
   ]
  },
  {
   "cell_type": "code",
   "execution_count": null,
   "metadata": {},
   "outputs": [],
   "source": [
    "data2[\"data\"][\"repository\"][\"closed_issues\"][\"pageInfo\"]"
   ]
  },
  {
   "cell_type": "markdown",
   "metadata": {},
   "source": [
    "Mais uma página. <span class=\"notebook-slide-extra\" data-count=\"2\"/>"
   ]
  },
  {
   "cell_type": "code",
   "execution_count": null,
   "metadata": {},
   "outputs": [],
   "source": [
    "query = query_base % (data2[\"data\"][\"repository\"][\"closed_issues\"][\"pageInfo\"]['endCursor'], )\n",
    "\n",
    "response = requests.post(SITE + \"graphql\", json={'query': query}, auth=token_auth)\n",
    "print(response.status_code)\n",
    "data3 = response.json()\n",
    "data3"
   ]
  },
  {
   "cell_type": "code",
   "execution_count": null,
   "metadata": {},
   "outputs": [],
   "source": [
    "data3[\"data\"][\"repository\"][\"closed_issues\"][\"pageInfo\"]"
   ]
  },
  {
   "cell_type": "markdown",
   "metadata": {},
   "source": [
    "Foi a última. <span class=\"notebook-slide-scroll\" data-position=\"-1\"/>"
   ]
  },
  {
   "cell_type": "markdown",
   "metadata": {},
   "source": [
    "### Schema\n",
    "\n",
    "O schema da API v4 pode ser encontrado na documentação: https://developer.github.com/v4/object/repository/\n",
    "\n",
    "Além disso, é possível fazer consultas para obter o schema. <span class=\"notebook-slide-extra\" data-count=\"1\"/>\n"
   ]
  },
  {
   "cell_type": "code",
   "execution_count": null,
   "metadata": {},
   "outputs": [],
   "source": [
    "SITE = \"http://localhost:5000/\" # ou https://api.github.com\n",
    "\n",
    "query = \"\"\"\n",
    "query {\n",
    "  __type(name: \"Repository\") {\n",
    "    name\n",
    "    kind\n",
    "    description\n",
    "    fields {\n",
    "      name\n",
    "      description\n",
    "    }\n",
    "  }\n",
    "}\n",
    "\"\"\"\n",
    "\n",
    "response = requests.post(SITE + \"graphql\", json={'query': query}, auth=token_auth)\n",
    "print(response.status_code)\n",
    "response.json()"
   ]
  },
  {
   "cell_type": "markdown",
   "metadata": {},
   "source": [
    "&nbsp;\n",
    "\n",
    "&nbsp;\n",
    "\n",
    "&nbsp;\n",
    "\n",
    "&nbsp;\n",
    "\n",
    "&nbsp;\n",
    "\n",
    "&nbsp;\n",
    "\n",
    "&nbsp;\n",
    "\n",
    "&nbsp;\n",
    "\n",
    "&nbsp;\n",
    "\n",
    "&nbsp;\n",
    "\n",
    "&nbsp;\n",
    "\n",
    "&nbsp;\n",
    "\n",
    "&nbsp;\n",
    "\n",
    "&nbsp;\n",
    "\n",
    "&nbsp;\n",
    "\n",
    "&nbsp;\n",
    "\n",
    "&nbsp;\n",
    "\n",
    "&nbsp;\n",
    "\n",
    "&nbsp;\n",
    "\n",
    "&nbsp;\n",
    "\n",
    "&nbsp;\n",
    "\n",
    "\n",
    "&nbsp;\n",
    "\n",
    "&nbsp;\n",
    "\n",
    "&nbsp;\n",
    "\n"
   ]
  }
 ],
 "metadata": {
  "kernelspec": {
   "display_name": "Python 3",
   "language": "python",
   "name": "python3"
  },
  "language_info": {
   "codemirror_mode": {
    "name": "ipython",
    "version": 3
   },
   "file_extension": ".py",
   "mimetype": "text/x-python",
   "name": "python",
   "nbconvert_exporter": "python",
   "pygments_lexer": "ipython3",
   "version": "3.7.4"
  },
  "toc": {
   "base_numbering": 1,
   "nav_menu": {},
   "number_sections": true,
   "sideBar": true,
   "skip_h1_title": false,
   "title_cell": "Table of Contents",
   "title_sidebar": "Contents",
   "toc_cell": false,
   "toc_position": {},
   "toc_section_display": true,
   "toc_window_display": false
  }
 },
 "nbformat": 4,
 "nbformat_minor": 2
}
