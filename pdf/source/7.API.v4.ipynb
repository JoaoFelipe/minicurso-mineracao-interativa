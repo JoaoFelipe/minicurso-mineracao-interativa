{
 "cells": [
  {
   "cell_type": "markdown",
   "metadata": {},
   "source": [
    "<span class=\"notebook-slide-start\"/>\n",
    "\n",
    "# API v4\n",
    "\n",
    "Este notebook apenas apresenta a API v4.\n",
    "\n",
    "Anteriormente, o minicurso abordou a API v3 do GitHub, que utiliza REST. Agora, o minicurso abordará a API v4, que usa GraphQL (https://developer.github.com/v4/).\n",
    "\n",
    "Antes de qualquer coisa, vamos iniciar o servidor de proxy, caso ele esteja fechado:\n",
    "```bash\n",
    "python proxy.py https://api.github.com/\n",
    "```\n"
   ]
  },
  {
   "cell_type": "markdown",
   "metadata": {},
   "source": [
    "Além do servidor de proxy, precisamos carregar o token e preparar a função de autenticação.  <span class=\"notebook-slide-extra\" data-count=\"2\"/>"
   ]
  },
  {
   "cell_type": "code",
   "execution_count": 1,
   "metadata": {},
   "outputs": [
    {
     "data": {
      "application/vnd.jupyter.widget-view+json": {
       "model_id": "6dd91d28079848a99e61c94a77302f0e",
       "version_major": 2,
       "version_minor": 0
      },
      "text/plain": [
       "interactive(children=(FileUpload(value={}, description='Upload'), Output()), _dom_classes=('widget-interact',)…"
      ]
     },
     "metadata": {},
     "output_type": "display_data"
    }
   ],
   "source": [
    "from ipywidgets import FileUpload, interact\n",
    "@interact(files=FileUpload())\n",
    "def set_token(files={}):\n",
    "    global token\n",
    "    if files:\n",
    "        for key, values in files.items():\n",
    "            token = values['content'].decode(\"utf-8\").strip()\n",
    "            print(\"Token Loaded!\")"
   ]
  },
  {
   "cell_type": "code",
   "execution_count": 2,
   "metadata": {},
   "outputs": [],
   "source": [
    "import requests\n",
    "\n",
    "def token_auth(request):\n",
    "    request.headers[\"User-Agent\"] = \"Minicurso\" # Necessário\n",
    "    request.headers[\"Authorization\"] = \"token {}\".format(token)\n",
    "    return request"
   ]
  },
  {
   "cell_type": "markdown",
   "metadata": {},
   "source": [
    "Agora podemos tentar conectar na API v4 e verificar se a autenticação funcionou. Note que usamos POST e URL original é https://api.github.com/graphql. <span class=\"notebook-slide-extra\" data-count=\"2\"/>"
   ]
  },
  {
   "cell_type": "code",
   "execution_count": 3,
   "metadata": {},
   "outputs": [
    {
     "data": {
      "text/plain": [
       "200"
      ]
     },
     "execution_count": 3,
     "metadata": {},
     "output_type": "execute_result"
    }
   ],
   "source": [
    "SITE = \"http://localhost:5000/\" # ou https://api.github.com\n",
    "\n",
    "query = \"\"\"\n",
    "{\n",
    "  rateLimit {\n",
    "    limit\n",
    "    cost\n",
    "    remaining\n",
    "    resetAt\n",
    "  }\n",
    "}\n",
    "\"\"\"\n",
    "\n",
    "response = requests.post(SITE + \"graphql\", json={'query': query}, auth=token_auth)\n",
    "response.status_code"
   ]
  },
  {
   "cell_type": "code",
   "execution_count": 4,
   "metadata": {},
   "outputs": [
    {
     "name": "stdout",
     "output_type": "stream",
     "text": [
      "{'data': {'rateLimit': {'cost': 1,\n",
      "                        'limit': 5000,\n",
      "                        'remaining': 4991,\n",
      "                        'resetAt': '2019-10-25T06:44:31Z'}}}\n"
     ]
    }
   ],
   "source": [
    "import pdffallback\n",
    "data = response.json()\n",
    "pdffallback.show(data, convert=True)"
   ]
  },
  {
   "cell_type": "markdown",
   "metadata": {},
   "source": [
    "A consulta com a API v4 é um pouco mais verbosa, porém existe uma única URL de acesso e o resultado vem exatamente o que consultamos. <span class=\"notebook-slide-scroll\" data-count=\"-1\"/>"
   ]
  },
  {
   "cell_type": "markdown",
   "metadata": {},
   "source": [
    "A seguir temos um exemplo de uma consulta quase completa em relação ao que fizemos na APIv3. <span class=\"notebook-slide-extra\" data-count=\"1\"/>"
   ]
  },
  {
   "cell_type": "code",
   "execution_count": 5,
   "metadata": {},
   "outputs": [
    {
     "name": "stdout",
     "output_type": "stream",
     "text": [
      "200\n",
      "{'data': {'repository': {'closed_issues': {'edges': [{'node': {'closedAt': '2013-07-19T14:21:51Z',\n",
      "                                                               'createdAt': '2013-06-29T15:23:48Z',\n",
      "                                                               'labels': {'edges': [{'node': {'name': 'bug'}}],\n",
      "                                                                          'pageInfo': {'endCursor': 'Y3Vyc29yOnYyOpKjYnVnzgAUplA=',\n",
      "                                                                                       'hasNextPage': False,\n",
      "...\n"
     ]
    }
   ],
   "source": [
    "query = \"\"\"\n",
    "query {\n",
    "  repository(owner:\"gems-uff\", name:\"sapos\") {\n",
    "      stargazers {\n",
    "          totalCount\n",
    "      }\n",
    "      forks {\n",
    "          totalCount\n",
    "      }\n",
    "      watchers {\n",
    "          totalCount\n",
    "      }\n",
    "      primaryLanguage {\n",
    "          name\n",
    "      }\n",
    "      open_issues: issues(states:OPEN, first:100) {\n",
    "          totalCount\n",
    "          edges {\n",
    "              node {\n",
    "                  number\n",
    "                  closedAt\n",
    "                  createdAt\n",
    "                  labels(first:100) {\n",
    "                    edges { \n",
    "                      node {\n",
    "                        name\n",
    "                      }\n",
    "                    }\n",
    "                    pageInfo {\n",
    "                      startCursor\n",
    "                      hasNextPage\n",
    "                      endCursor\n",
    "                    }\n",
    "                  }\n",
    "              }\n",
    "          }\n",
    "          pageInfo {\n",
    "            startCursor\n",
    "            hasNextPage\n",
    "            endCursor\n",
    "          }\n",
    "      }\n",
    "      closed_issues: issues(states:CLOSED, first:100) {\n",
    "          totalCount\n",
    "          edges {\n",
    "              node {\n",
    "                  number\n",
    "                  closedAt\n",
    "                  createdAt\n",
    "                  labels(first:100) {\n",
    "                    edges { \n",
    "                      node {\n",
    "                        name\n",
    "                      }\n",
    "                    }\n",
    "                    pageInfo {\n",
    "                      startCursor\n",
    "                      hasNextPage\n",
    "                      endCursor\n",
    "                    }\n",
    "                  }\n",
    "              }\n",
    "          }\n",
    "          pageInfo {\n",
    "            startCursor\n",
    "            hasNextPage\n",
    "            endCursor\n",
    "          }\n",
    "      }\n",
    "      mentionableUsers(first:100) {\n",
    "          edges {\n",
    "              node {\n",
    "                  login\n",
    "              }\n",
    "          }\n",
    "          pageInfo {\n",
    "            startCursor\n",
    "            hasNextPage\n",
    "            endCursor\n",
    "          }\n",
    "      }\n",
    "  }\n",
    "  \n",
    "}\n",
    "\"\"\"\n",
    "\n",
    "response = requests.post(SITE + \"graphql\", json={'query': query}, auth=token_auth)\n",
    "print(response.status_code)\n",
    "data = response.json()\n",
    "pdffallback.show(data, convert=True)"
   ]
  },
  {
   "cell_type": "markdown",
   "metadata": {},
   "source": [
    "Uma única consulta é capaz de retornar boa parte das informações que precisamos.\n",
    "\n",
    "Mas ATENÇÃO! Paginação ainda é necessária e é feita com os argumentos `first:100` e `after:{endCursor}`. <span class=\"notebook-slide-extra\" data-count=\"3\"/>"
   ]
  },
  {
   "cell_type": "code",
   "execution_count": 6,
   "metadata": {},
   "outputs": [
    {
     "data": {
      "text/plain": [
       "{'startCursor': 'Y3Vyc29yOnYyOpHOAPbUBA==',\n",
       " 'hasNextPage': True,\n",
       " 'endCursor': 'Y3Vyc29yOnYyOpHOAa3MGw=='}"
      ]
     },
     "execution_count": 6,
     "metadata": {},
     "output_type": "execute_result"
    }
   ],
   "source": [
    "data[\"data\"][\"repository\"][\"closed_issues\"][\"pageInfo\"]"
   ]
  },
  {
   "cell_type": "code",
   "execution_count": 7,
   "metadata": {},
   "outputs": [
    {
     "name": "stdout",
     "output_type": "stream",
     "text": [
      "200\n",
      "{'data': {'repository': {'closed_issues': {'edges': [{'node': {'closedAt': '2014-02-24T18:37:47Z',\n",
      "                                                               'createdAt': '2014-02-24T15:02:00Z',\n",
      "                                                               'labels': {'edges': [{'node': {'name': '3.3.1'}}],\n",
      "                                                                          'pageInfo': {'endCursor': 'Y3Vyc29yOnYyOpKlMy4zLjHOBRR8KQ==',\n",
      "                                                                                       'hasNextPage': False,\n",
      "...\n"
     ]
    }
   ],
   "source": [
    "query_base = \"\"\"\n",
    "query {\n",
    "  repository(owner:\"gems-uff\", name:\"sapos\") {\n",
    "      closed_issues: issues(states:CLOSED, first:100, after:\"%s\") {\n",
    "          totalCount\n",
    "          edges {\n",
    "              node {\n",
    "                  number\n",
    "                  closedAt\n",
    "                  createdAt\n",
    "                  labels(first:100) {\n",
    "                    edges { \n",
    "                      node {\n",
    "                        name\n",
    "                      }\n",
    "                    }\n",
    "                    pageInfo {\n",
    "                      startCursor\n",
    "                      hasNextPage\n",
    "                      endCursor\n",
    "                    }\n",
    "                  }\n",
    "              }\n",
    "          }\n",
    "          pageInfo {\n",
    "            startCursor\n",
    "            hasNextPage\n",
    "            endCursor\n",
    "          }\n",
    "      }\n",
    "  }\n",
    "}\n",
    "\"\"\"\n",
    "query = query_base % (data[\"data\"][\"repository\"][\"closed_issues\"][\"pageInfo\"]['endCursor'], )\n",
    "\n",
    "response = requests.post(SITE + \"graphql\", json={'query': query}, auth=token_auth)\n",
    "print(response.status_code)\n",
    "data2 = response.json()\n",
    "pdffallback.show(data2, convert=True)"
   ]
  },
  {
   "cell_type": "code",
   "execution_count": 8,
   "metadata": {},
   "outputs": [
    {
     "data": {
      "text/plain": [
       "{'startCursor': 'Y3Vyc29yOnYyOpHOAa3MmA==',\n",
       " 'hasNextPage': True,\n",
       " 'endCursor': 'Y3Vyc29yOnYyOpHOEd1YdA=='}"
      ]
     },
     "execution_count": 8,
     "metadata": {},
     "output_type": "execute_result"
    }
   ],
   "source": [
    "data2[\"data\"][\"repository\"][\"closed_issues\"][\"pageInfo\"]"
   ]
  },
  {
   "cell_type": "markdown",
   "metadata": {},
   "source": [
    "Mais uma página. <span class=\"notebook-slide-extra\" data-count=\"2\"/>"
   ]
  },
  {
   "cell_type": "code",
   "execution_count": 9,
   "metadata": {},
   "outputs": [
    {
     "name": "stdout",
     "output_type": "stream",
     "text": [
      "200\n",
      "{'data': {'repository': {'closed_issues': {'edges': [{'node': {'closedAt': '2018-03-02T20:39:40Z',\n",
      "                                                               'createdAt': '2018-02-28T13:59:51Z',\n",
      "                                                               'labels': {'edges': [{'node': {'name': '4.4.13'}},\n",
      "                                                                                    {'node': {'name': '4.4.14'}},\n",
      "                                                                                    {'node': {'name': 'bug'}}],\n",
      "...\n"
     ]
    }
   ],
   "source": [
    "query = query_base % (data2[\"data\"][\"repository\"][\"closed_issues\"][\"pageInfo\"]['endCursor'], )\n",
    "\n",
    "response = requests.post(SITE + \"graphql\", json={'query': query}, auth=token_auth)\n",
    "print(response.status_code)\n",
    "data3 = response.json()\n",
    "pdffallback.show(data3, convert=True)"
   ]
  },
  {
   "cell_type": "code",
   "execution_count": 10,
   "metadata": {},
   "outputs": [
    {
     "data": {
      "text/plain": [
       "{'startCursor': 'Y3Vyc29yOnYyOpHOEfFpzw==',\n",
       " 'hasNextPage': False,\n",
       " 'endCursor': 'Y3Vyc29yOnYyOpHOHWjK4g=='}"
      ]
     },
     "execution_count": 10,
     "metadata": {},
     "output_type": "execute_result"
    }
   ],
   "source": [
    "data3[\"data\"][\"repository\"][\"closed_issues\"][\"pageInfo\"]"
   ]
  },
  {
   "cell_type": "markdown",
   "metadata": {},
   "source": [
    "Foi a última. <span class=\"notebook-slide-scroll\" data-position=\"-1\"/>"
   ]
  },
  {
   "cell_type": "markdown",
   "metadata": {},
   "source": [
    "### Schema\n",
    "\n",
    "O schema da API v4 pode ser encontrado na documentação: https://developer.github.com/v4/object/repository/\n",
    "\n",
    "Além disso, é possível fazer consultas para obter o schema. <span class=\"notebook-slide-extra\" data-count=\"1\"/>\n"
   ]
  },
  {
   "cell_type": "code",
   "execution_count": 11,
   "metadata": {},
   "outputs": [
    {
     "name": "stdout",
     "output_type": "stream",
     "text": [
      "200\n",
      "{'data': {'__type': {'description': 'A repository contains the content for a '\n",
      "                                    'project.',\n",
      "                     'fields': [{'description': 'A list of users that can be '\n",
      "                                                'assigned to issues in this '\n",
      "                                                'repository.',\n",
      "                                 'name': 'assignableUsers'},\n",
      "                                {'description': 'A list of branch protection '\n",
      "                                                'rules for this repository.',\n",
      "                                 'name': 'branchProtectionRules'},\n",
      "                                {'description': 'Returns the code of conduct '\n",
      "...\n"
     ]
    }
   ],
   "source": [
    "SITE = \"http://localhost:5000/\" # ou https://api.github.com\n",
    "\n",
    "query = \"\"\"\n",
    "query {\n",
    "  __type(name: \"Repository\") {\n",
    "    name\n",
    "    kind\n",
    "    description\n",
    "    fields {\n",
    "      name\n",
    "      description\n",
    "    }\n",
    "  }\n",
    "}\n",
    "\"\"\"\n",
    "\n",
    "response = requests.post(SITE + \"graphql\", json={'query': query}, auth=token_auth)\n",
    "print(response.status_code)\n",
    "data = response.json()\n",
    "pdffallback.show(data, convert=True, count=10)"
   ]
  },
  {
   "cell_type": "markdown",
   "metadata": {},
   "source": [
    "Continua: [8.Git.pdf](8.Git.pdf)"
   ]
  }
 ],
 "metadata": {
  "kernelspec": {
   "display_name": "Python 3",
   "language": "python",
   "name": "python3"
  },
  "language_info": {
   "codemirror_mode": {
    "name": "ipython",
    "version": 3
   },
   "file_extension": ".py",
   "mimetype": "text/x-python",
   "name": "python",
   "nbconvert_exporter": "python",
   "pygments_lexer": "ipython3",
   "version": "3.7.3"
  },
  "toc": {
   "base_numbering": 1,
   "nav_menu": {},
   "number_sections": true,
   "sideBar": true,
   "skip_h1_title": false,
   "title_cell": "Table of Contents",
   "title_sidebar": "Contents",
   "toc_cell": false,
   "toc_position": {},
   "toc_section_display": true,
   "toc_window_display": false
  }
 },
 "nbformat": 4,
 "nbformat_minor": 2
}
