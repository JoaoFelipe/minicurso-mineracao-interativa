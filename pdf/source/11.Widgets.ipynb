{
 "cells": [
  {
   "cell_type": "markdown",
   "metadata": {},
   "source": [
    "<span class=\"notebook-slide-start\"/>\n",
    "\n",
    "# Widgets\n",
    "\n",
    "Este notebook apresenta os seguintes tópicos\n",
    "\n",
    "- [Widgets interativos](#Widgets-Interativos) - Widgets interativos\n",
    "- [Exercício 14](#Exercicio-14) - Exercício 14\n",
    "- [Widgets completos](#Widgets-completos) - Widgets completos\n",
    "- [Exercício 15](#Exercicio-15) - Exercício 15\n",
    "- [Exercício 16](#Exercicio-16) - Exercício 16"
   ]
  },
  {
   "cell_type": "markdown",
   "metadata": {},
   "source": [
    "## Widgets Interativos\n",
    "\n",
    "Finalmente, uma outra forma de interagir com o Jupyter é a partir de widgets interativos. Esses widgets podem ser usados para fazer formulários, dashboards e até mesmo variar rapidamente parâmetros de funções.\n"
   ]
  },
  {
   "cell_type": "markdown",
   "metadata": {},
   "source": [
    "O widget a seguir interage com a função `fib`, definida no início deste notebook para variar os parâmetros dela. <span class=\"notebook-slide-extra\" data-count=\"1\"/>"
   ]
  },
  {
   "cell_type": "code",
   "execution_count": 1,
   "metadata": {},
   "outputs": [
    {
     "data": {
      "application/vnd.jupyter.widget-view+json": {
       "model_id": "35098af8872949829ed6e03578dab1be",
       "version_major": 2,
       "version_minor": 0
      },
      "text/plain": [
       "interactive(children=(IntSlider(value=15, description='x', max=30, min=1), Output()), _dom_classes=('widget-in…"
      ]
     },
     "metadata": {},
     "output_type": "display_data"
    },
    {
     "data": {
      "text/plain": [
       "<function __main__.fib(x)>"
      ]
     },
     "execution_count": 1,
     "metadata": {},
     "output_type": "execute_result"
    }
   ],
   "source": [
    "from ipywidgets import interact\n",
    "\n",
    "def fib(x):\n",
    "    if x <= 1:\n",
    "        return x\n",
    "    return fib(x - 1) + fib(x - 2)\n",
    "\n",
    "interact(fib, x=(1, 30))"
   ]
  },
  {
   "cell_type": "markdown",
   "metadata": {},
   "source": [
    "![Widget](images/interact1.png)"
   ]
  },
  {
   "cell_type": "markdown",
   "metadata": {},
   "source": [
    "Essa função também pode ser usada como um decorador. <span class=\"notebook-slide-extra\" data-count=\"1\"/>"
   ]
  },
  {
   "cell_type": "code",
   "execution_count": 2,
   "metadata": {},
   "outputs": [
    {
     "data": {
      "application/vnd.jupyter.widget-view+json": {
       "model_id": "fac2842c01924025ae0cc73bd9e163db",
       "version_major": 2,
       "version_minor": 0
      },
      "text/plain": [
       "interactive(children=(IntSlider(value=1, description='x', max=3, min=-1), IntSlider(value=2, description='y', …"
      ]
     },
     "metadata": {},
     "output_type": "display_data"
    }
   ],
   "source": [
    "@interact\n",
    "def add(x=1, y=2, template=\"A soma de {x} com {y} resulta em {z}\"):\n",
    "    z = x + y\n",
    "    print(template.format(x=x, y=y, z=z))"
   ]
  },
  {
   "cell_type": "markdown",
   "metadata": {},
   "source": [
    "![Widget](images/interact2.png)"
   ]
  },
  {
   "cell_type": "markdown",
   "metadata": {},
   "source": [
    "Podemos definir o intervalo dos valores. <span class=\"notebook-slide-extra\" data-count=\"1\"/>"
   ]
  },
  {
   "cell_type": "code",
   "execution_count": 3,
   "metadata": {},
   "outputs": [
    {
     "data": {
      "application/vnd.jupyter.widget-view+json": {
       "model_id": "6c583dd94b0d4fc6ace02880134397e3",
       "version_major": 2,
       "version_minor": 0
      },
      "text/plain": [
       "interactive(children=(IntSlider(value=1, description='x'), IntSlider(value=2, description='y'), Text(value='A …"
      ]
     },
     "metadata": {},
     "output_type": "display_data"
    }
   ],
   "source": [
    "@interact(x=(0, 100), y=(0, 100))\n",
    "def add(x=1, y=2, template=\"A soma de {x} com {y} resulta em {z}\"):\n",
    "    z = x + y\n",
    "    print(template.format(x=x, y=y, z=z))"
   ]
  },
  {
   "cell_type": "markdown",
   "metadata": {},
   "source": [
    "![Widget](images/interact3.png)"
   ]
  },
  {
   "cell_type": "markdown",
   "metadata": {},
   "source": [
    "O widget também pode ser usado com visualizações ricas. <span class=\"notebook-slide-extra\" data-count=\"1\"/>"
   ]
  },
  {
   "cell_type": "code",
   "execution_count": 4,
   "metadata": {},
   "outputs": [
    {
     "data": {
      "application/vnd.jupyter.widget-view+json": {
       "model_id": "295d2a3edf65433cad0b4b5a39889d5f",
       "version_major": 2,
       "version_minor": 0
      },
      "text/plain": [
       "interactive(children=(IntSlider(value=15, description='count', max=35, min=1), Output()), _dom_classes=('widge…"
      ]
     },
     "metadata": {},
     "output_type": "display_data"
    }
   ],
   "source": [
    "import matplotlib.pyplot as plt\n",
    "%matplotlib inline\n",
    "\n",
    "@interact(count=(1, 35))\n",
    "def generate_plot(count=15):\n",
    "    x = range(count)\n",
    "    y = [fib(n) for n in x]\n",
    "    plt.plot(x, y)"
   ]
  },
  {
   "cell_type": "markdown",
   "metadata": {},
   "source": [
    "![Widget](images/interact4.png)"
   ]
  },
  {
   "cell_type": "markdown",
   "metadata": {},
   "source": [
    "Para números grandes, o uso do `interact` com a nossa implementação de fibonacci começou a não ser tão interativa.\n",
    "\n",
    "Em funções de longa duração, a atualização automatica do `interact` pode atrapalhar mais do que ajudar. Para resolver isso, podemos usar o `interact_manual`. <span class=\"notebook-slide-extra\" data-count=\"1\"/>"
   ]
  },
  {
   "cell_type": "code",
   "execution_count": 5,
   "metadata": {},
   "outputs": [
    {
     "data": {
      "application/vnd.jupyter.widget-view+json": {
       "model_id": "700e5fa9450c4b31a0e14c0ed2f71ab1",
       "version_major": 2,
       "version_minor": 0
      },
      "text/plain": [
       "interactive(children=(IntSlider(value=15, description='count', max=35, min=1), Button(description='Run Interac…"
      ]
     },
     "metadata": {},
     "output_type": "display_data"
    }
   ],
   "source": [
    "from ipywidgets import interact_manual\n",
    "\n",
    "@interact_manual(count=(1, 35))\n",
    "def generate_plot(count=15):\n",
    "    x = range(count)\n",
    "    y = [fib(n) for n in x]\n",
    "    plt.plot(x, y)"
   ]
  },
  {
   "cell_type": "markdown",
   "metadata": {},
   "source": [
    "![Widget](images/interact5.png)"
   ]
  },
  {
   "cell_type": "markdown",
   "metadata": {},
   "source": [
    "## Exercicio 14\n",
    "\n",
    "Implemente uma função interativa que permita escolher um arquivo de código fonte usando um drop-down e imprima a quantidade de letras do arquivo após a escolha.\n",
    "\n",
    "Dica: ao passar uma lista ou dicionário para o `interact`, é criado um elemento drop-down."
   ]
  },
  {
   "cell_type": "code",
   "execution_count": 6,
   "metadata": {},
   "outputs": [
    {
     "data": {
      "text/plain": [
       "Ellipsis"
      ]
     },
     "execution_count": 6,
     "metadata": {},
     "output_type": "execute_result"
    }
   ],
   "source": [
    "..."
   ]
  },
  {
   "cell_type": "markdown",
   "metadata": {},
   "source": [
    "## Widgets completos\n",
    "\n",
    "O `interact` é uma simplificação do sistema de widgets para facilitar o uso em funções. Porém, quando estamos criando dashboards ou formulários mais completos, podemos usar o sistema mais completo.\n",
    "\n",
    "A seguir, criaremos um slider que não depende de nenhuma função `interact`. <span class=\"notebook-slide-extra\" data-count=\"1\"/>"
   ]
  },
  {
   "cell_type": "code",
   "execution_count": 7,
   "metadata": {},
   "outputs": [
    {
     "data": {
      "application/vnd.jupyter.widget-view+json": {
       "model_id": "49e7e4c262c74036be9239f2a7d27460",
       "version_major": 2,
       "version_minor": 0
      },
      "text/plain": [
       "IntSlider(value=7, description='Test:', max=10)"
      ]
     },
     "metadata": {},
     "output_type": "display_data"
    }
   ],
   "source": [
    "from ipywidgets import IntSlider\n",
    "\n",
    "slider = IntSlider(\n",
    "    value=7,\n",
    "    min=0,\n",
    "    max=10,\n",
    "    step=1,\n",
    "    description='Test:'\n",
    ")\n",
    "slider"
   ]
  },
  {
   "cell_type": "markdown",
   "metadata": {},
   "source": [
    "![Widget](images/interact6.png)"
   ]
  },
  {
   "cell_type": "markdown",
   "metadata": {},
   "source": [
    "<span class=\"notebook-slide-extra\" data-count=\"1\"/>\n",
    "<span class=\"notebook-slide-scroll\" data-position=\"-1\"/>\n",
    "\n",
    "Podemos acessar o valor do slider através do atributo `.value`."
   ]
  },
  {
   "cell_type": "code",
   "execution_count": 8,
   "metadata": {},
   "outputs": [
    {
     "data": {
      "text/plain": [
       "7"
      ]
     },
     "execution_count": 8,
     "metadata": {},
     "output_type": "execute_result"
    }
   ],
   "source": [
    "slider.value"
   ]
  },
  {
   "cell_type": "markdown",
   "metadata": {},
   "source": [
    "Se quisermos ter o efeito do `interact` de executar alguma função ao alterar o slider, podemos definir funções de observação. <span class=\"notebook-slide-extra\" data-count=\"1\"/>"
   ]
  },
  {
   "cell_type": "code",
   "execution_count": 9,
   "metadata": {},
   "outputs": [
    {
     "data": {
      "application/vnd.jupyter.widget-view+json": {
       "model_id": "49e7e4c262c74036be9239f2a7d27460",
       "version_major": 2,
       "version_minor": 0
      },
      "text/plain": [
       "IntSlider(value=7, description='Test:', max=10)"
      ]
     },
     "metadata": {},
     "output_type": "display_data"
    }
   ],
   "source": [
    "def add1(change):\n",
    "    if change.name == \"value\":\n",
    "        print(change.new + 1)\n",
    "\n",
    "slider.observe(add1)\n",
    "slider"
   ]
  },
  {
   "cell_type": "markdown",
   "metadata": {},
   "source": [
    "![Widget](images/interact6.png)\n",
    "\n",
    "9<br>\n",
    "8<br>\n",
    "7<br>\n",
    "6<br>\n",
    "7<br>\n",
    "8"
   ]
  },
  {
   "cell_type": "markdown",
   "metadata": {},
   "source": [
    "<span class=\"notebook-slide-scroll\" data-position=\"-1\"/>\n",
    "\n",
    "Note que verificamos o tipo da observação ao receber a mudança. Algumas mudanças no widget não ocorrem no valor e isso acaba mudando o resultado de `change.new`. Além de `change.new` e `change.name`, podemos acessar outros atributos de `change`, como `change.old`.\n",
    "\n",
    "Note também que ao fazermos `print` nessa função, os outputs anteriores foram preservados."
   ]
  },
  {
   "cell_type": "markdown",
   "metadata": {},
   "source": [
    "Se quisermos ter um controle maior do output, podemos usar um widget específico de output. <span class=\"notebook-slide-extra\" data-count=\"1\"/>"
   ]
  },
  {
   "cell_type": "code",
   "execution_count": 10,
   "metadata": {},
   "outputs": [
    {
     "name": "stdout",
     "output_type": "stream",
     "text": [
      "Fora do output novo\n"
     ]
    },
    {
     "data": {
      "application/vnd.jupyter.widget-view+json": {
       "model_id": "54e1e2691c6a44c68e2e7202278d2fbf",
       "version_major": 2,
       "version_minor": 0
      },
      "text/plain": [
       "Output()"
      ]
     },
     "metadata": {},
     "output_type": "display_data"
    }
   ],
   "source": [
    "from ipywidgets import Output\n",
    "\n",
    "out = Output()\n",
    "with out:\n",
    "    print(\"Dentro do output novo\")\n",
    "print(\"Fora do output novo\")\n",
    "out"
   ]
  },
  {
   "cell_type": "markdown",
   "metadata": {},
   "source": [
    "<span class=\"notebook-slide-scroll\" data-position=\"-1\"/>\n",
    "<span class=\"notebook-slide-extra\" data-count=\"1\"/>\n",
    "\n",
    "Podemos usar o objeto de output para apagar o conteúdo."
   ]
  },
  {
   "cell_type": "code",
   "execution_count": 11,
   "metadata": {},
   "outputs": [],
   "source": [
    "out.clear_output()"
   ]
  },
  {
   "cell_type": "markdown",
   "metadata": {},
   "source": [
    "Nota da versão em PDF: ao excutar o `clear_output` na última célula, o resultado da célula anterior foi apagado. Portanto, não aparece no PDF estático."
   ]
  },
  {
   "cell_type": "markdown",
   "metadata": {},
   "source": [
    "Agora vamos combinar o slider com o output para gerar o efeito do `interact`.\n",
    "\n",
    "Primeiro, precisamos limpar todos os eventos de observação que registramos no slider. <span class=\"notebook-slide-extra\" data-count=\"1\"/>"
   ]
  },
  {
   "cell_type": "code",
   "execution_count": 12,
   "metadata": {},
   "outputs": [],
   "source": [
    "slider.unobserve_all()"
   ]
  },
  {
   "cell_type": "markdown",
   "metadata": {},
   "source": [
    "Em seguida, podemos criar um novo evento que imprima dentro do objeto de output. <span class=\"notebook-slide-extra\" data-count=\"1\"/>"
   ]
  },
  {
   "cell_type": "code",
   "execution_count": 13,
   "metadata": {},
   "outputs": [],
   "source": [
    "def add1(change):\n",
    "    if change.name == \"value\":\n",
    "        out.clear_output()\n",
    "        with out:\n",
    "            print(change.new + 1)\n",
    "\n",
    "slider.observe(add1)"
   ]
  },
  {
   "cell_type": "markdown",
   "metadata": {},
   "source": [
    "Por fim, criamos um widget que combine os dois no mesmo lugar usando `VBox`. <span class=\"notebook-slide-extra\" data-count=\"1\"/>"
   ]
  },
  {
   "cell_type": "code",
   "execution_count": 14,
   "metadata": {},
   "outputs": [
    {
     "data": {
      "application/vnd.jupyter.widget-view+json": {
       "model_id": "d47b040e7cf64aee95d188dc8ce8fcf5",
       "version_major": 2,
       "version_minor": 0
      },
      "text/plain": [
       "VBox(children=(IntSlider(value=7, description='Test:', max=10), Output()))"
      ]
     },
     "metadata": {},
     "output_type": "display_data"
    }
   ],
   "source": [
    "from ipywidgets import VBox\n",
    "\n",
    "VBox([slider, out])"
   ]
  },
  {
   "cell_type": "markdown",
   "metadata": {},
   "source": [
    "![Widget](images/interact6.png)\n",
    "\n",
    "8"
   ]
  },
  {
   "cell_type": "markdown",
   "metadata": {},
   "source": [
    "## Exercicio 15\n",
    "\n",
    "Use o widget `Button` para simular o `interact_manual`. Esse widget possui um método `on_click` para definir funções de callback. <span class=\"notebook-slide-extra\" data-count=\"1\"/>"
   ]
  },
  {
   "cell_type": "code",
   "execution_count": null,
   "metadata": {},
   "outputs": [],
   "source": [
    "from ipywidgets import Button\n",
    "\n",
    "button = Button(description=\"run\")\n",
    "..."
   ]
  },
  {
   "cell_type": "markdown",
   "metadata": {},
   "source": [
    "## Exercicio 16\n",
    "\n",
    "Faça um widget que imprima a soma acumulada de todas as suas execuções.\n",
    "\n",
    "O objetivo desse exercício é pensar em como criar widgets com estados que continuem existindo além de uma execução da função observadora ou do interact. <span class=\"notebook-slide-extra\" data-count=\"2\"/>"
   ]
  },
  {
   "cell_type": "code",
   "execution_count": null,
   "metadata": {},
   "outputs": [],
   "source": [
    "class AccWidget:\n",
    "    ..."
   ]
  },
  {
   "cell_type": "code",
   "execution_count": null,
   "metadata": {},
   "outputs": [],
   "source": [
    "widget = AccWidget()\n",
    "widget.view"
   ]
  },
  {
   "cell_type": "markdown",
   "metadata": {},
   "source": [
    "Chegamos ao fim da apresentação principal do minicurso, mas não é o fim do conteúdo preparado. Temos mais dois notebooks que listam e explicam as magics do IPython e os ipywidgets disponíveis:\n",
    "\n",
    "- [Extra/Lista.Magics.ipynb](Extra/Lista.Magics.pdf)\n",
    "- [Extra/Lista.Widgets.ipynb](Extra/Lista.Widgets.pdf)"
   ]
  }
 ],
 "metadata": {
  "kernelspec": {
   "display_name": "Python 3",
   "language": "python",
   "name": "python3"
  },
  "language_info": {
   "codemirror_mode": {
    "name": "ipython",
    "version": 3
   },
   "file_extension": ".py",
   "mimetype": "text/x-python",
   "name": "python",
   "nbconvert_exporter": "python",
   "pygments_lexer": "ipython3",
   "version": "3.7.3"
  },
  "toc": {
   "base_numbering": 1,
   "nav_menu": {},
   "number_sections": true,
   "sideBar": true,
   "skip_h1_title": false,
   "title_cell": "Table of Contents",
   "title_sidebar": "Contents",
   "toc_cell": false,
   "toc_position": {},
   "toc_section_display": true,
   "toc_window_display": false
  }
 },
 "nbformat": 4,
 "nbformat_minor": 2
}
