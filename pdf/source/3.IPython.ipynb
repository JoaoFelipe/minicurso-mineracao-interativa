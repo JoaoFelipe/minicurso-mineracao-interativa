{
 "cells": [
  {
   "cell_type": "markdown",
   "metadata": {},
   "source": [
    "<span class=\"notebook-slide-start\"/>\n",
    "\n",
    "# IPython\n",
    "\n",
    "Este notebook apresenta os seguintes tópicos:\n",
    "\n",
    "- [Mágicas do IPython](#Magicas-do-IPython) - Mágicas do IPython\n",
    "- [Como definir Mágicas](#Registrando-novas-magics) - Como definir Mágicas\n",
    "- [Exercício 2](#Exercicio-2) - Exercício 2\n",
    "- [Exercício 3](#Exercicio-3) - Exercício 3\n",
    "- [Exercício 4](#Exercicio-4) - Exercício 4"
   ]
  },
  {
   "cell_type": "markdown",
   "metadata": {},
   "source": [
    "## Magicas do IPython\n",
    "\n",
    "Na parte anterior do minicurso, apresentamos **bang expression** como uma extensão da linguagem Python fornecida pelo kernel IPython para executar comandos no sistema.\n",
    "\n",
    "Além dessa extensão, o IPython também permite escrever \"mágicas\"/\"magics\" que modificam a forma de executar operações. Existem duas principais formas de \"magics\":\n",
    "\n",
    "- line magic: altera o restante da linha\n",
    "- cell magic: altera a célula inteira"
   ]
  },
  {
   "cell_type": "markdown",
   "metadata": {},
   "source": [
    "### Line magic\n",
    "\n",
    "A seguir temos um exemplo de line magic que mostra o histórico de células executadas com a numeração de células.\n",
    "\n",
    "<span class=\"notebook-slide-extra\" data-count=\"3\"/>"
   ]
  },
  {
   "cell_type": "code",
   "execution_count": 1,
   "metadata": {},
   "outputs": [],
   "source": [
    "a = 1"
   ]
  },
  {
   "cell_type": "code",
   "execution_count": 2,
   "metadata": {},
   "outputs": [],
   "source": [
    "b = a"
   ]
  },
  {
   "cell_type": "code",
   "execution_count": 3,
   "metadata": {
    "scrolled": true
   },
   "outputs": [
    {
     "name": "stdout",
     "output_type": "stream",
     "text": [
      "   1: a = 1\n",
      "   2: b = a\n",
      "   3: %history -n\n"
     ]
    }
   ],
   "source": [
    "%history -n"
   ]
  },
  {
   "cell_type": "markdown",
   "metadata": {},
   "source": [
    "Essa line magic apenas imprimiu o histórico, porém existem outras que podem ser usadas no meio de expressões do Python, como a `%who_ls`, que retorna todas as variáveis de um determinado tipo definidas no notebook.\n",
    "\n",
    "<span class=\"notebook-slide-extra\" data-count=\"1\"/>"
   ]
  },
  {
   "cell_type": "code",
   "execution_count": 4,
   "metadata": {},
   "outputs": [
    {
     "name": "stdout",
     "output_type": "stream",
     "text": [
      "a 1\n",
      "b 1\n"
     ]
    }
   ],
   "source": [
    "variaveis = %who_ls int\n",
    "for var, _ in zip(variaveis, range(5)):\n",
    "    print(var, eval(var))"
   ]
  },
  {
   "cell_type": "markdown",
   "metadata": {},
   "source": [
    "<span class=\"notebook-slide-extra\" data-count=\"1\"/>\n",
    "\n",
    "Além de estender a sintaxe do Python para adicionar bang expressions e magics, o IPython também permite consultar a documentação de módulos, classes, funções e magics, ao adicionar `?` após o nome."
   ]
  },
  {
   "cell_type": "code",
   "execution_count": 5,
   "metadata": {},
   "outputs": [],
   "source": [
    "%who_ls?"
   ]
  },
  {
   "cell_type": "markdown",
   "metadata": {},
   "source": [
    "![Pager com documentação](images/doc.png)"
   ]
  },
  {
   "cell_type": "markdown",
   "metadata": {},
   "source": [
    "<span class=\"notebook-slide-extra\" data-count=\"1\"/>\n",
    "\n",
    "O uso de duas interrogações (`??`) exibe o código fonte."
   ]
  },
  {
   "cell_type": "code",
   "execution_count": 6,
   "metadata": {},
   "outputs": [],
   "source": [
    "%who_ls??"
   ]
  },
  {
   "cell_type": "markdown",
   "metadata": {},
   "source": [
    "![Pager com código fonte](images/docsource.png)"
   ]
  },
  {
   "cell_type": "markdown",
   "metadata": {},
   "source": [
    "### Cell magic\n",
    "\n",
    "Cell magics permitem alterar a execução de uma célula por completo. A cell magic a seguir executa código javascript no navegador. <span class=\"notebook-slide-extra\" data-count=\"1\"/>\n",
    "\n"
   ]
  },
  {
   "cell_type": "code",
   "execution_count": 7,
   "metadata": {},
   "outputs": [
    {
     "data": {
      "application/javascript": [
       "\n",
       "console.log(\"Teste\")\n"
      ],
      "text/plain": [
       "<IPython.core.display.Javascript object>"
      ]
     },
     "metadata": {},
     "output_type": "display_data"
    }
   ],
   "source": [
    "%%javascript\n",
    "\n",
    "console.log(\"Teste\")"
   ]
  },
  {
   "cell_type": "markdown",
   "metadata": {},
   "source": [
    "Log do Console do navegador:\n",
    "```\n",
    "Teste           main.min.js:2:9\n",
    "```"
   ]
  },
  {
   "cell_type": "markdown",
   "metadata": {},
   "source": [
    "<span class=\"notebook-slide-extra\" data-count=\"1\"/>\n",
    "\n",
    "Já a cell magic a seguir calcula o tempo de execução de uma célula Python."
   ]
  },
  {
   "cell_type": "code",
   "execution_count": 8,
   "metadata": {},
   "outputs": [
    {
     "name": "stdout",
     "output_type": "stream",
     "text": [
      "CPU times: user 783 µs, sys: 104 µs, total: 887 µs\n",
      "Wall time: 2 s\n"
     ]
    }
   ],
   "source": [
    "%%time\n",
    "from time import sleep\n",
    "sleep(2)"
   ]
  },
  {
   "cell_type": "markdown",
   "metadata": {},
   "source": [
    "### Como ocorre a execução\n",
    "\n",
    "A line magic `%history` apresentada anteriormente pode ser usada para entender o que o IPython está fazendo quando usamos essas magics. Para isso, precisamos ver o histórico traduzido para Python, utilizando a flag `-t`. <span class=\"notebook-slide-extra\" data-count=\"1\"/>"
   ]
  },
  {
   "cell_type": "code",
   "execution_count": 9,
   "metadata": {},
   "outputs": [
    {
     "name": "stdout",
     "output_type": "stream",
     "text": [
      "get_ipython().run_line_magic('history', '-n')\n",
      "variaveis = get_ipython().run_line_magic('who_ls', 'int')\n",
      "for var, _ in zip(variaveis, range(5)):\n",
      "    print(var, eval(var))\n",
      "get_ipython().run_line_magic('pinfo', '%who_ls')\n",
      "get_ipython().run_line_magic('pinfo2', '%who_ls')\n",
      "get_ipython().run_cell_magic('javascript', '', '\\nconsole.log(\"Teste\")\\n')\n",
      "get_ipython().run_cell_magic('time', '', 'from time import sleep\\nsleep(2)\\n')\n"
     ]
    }
   ],
   "source": [
    "%history -t -l 6"
   ]
  },
  {
   "cell_type": "markdown",
   "metadata": {},
   "source": [
    "<span class=\"notebook-slide-extra\" data-count=\"1\"/>\n",
    "\n",
    "Note os seguintes comandos:\n",
    "\n",
    "```python\n",
    "get_ipython().run_cell_magic('time', '', 'from time import sleep\\nsleep(2)\\n')\n",
    "get_ipython().run_line_magic('who_ls', 'int')\n",
    "```\n",
    "\n",
    "Eles indicam o que o shell do IPython (resultado de `get_ipython()`) deve executar. A função indica se deve executar cell magic ou line magic. O primeiro parâmetro indica o nome da magic. Por fim, os últimos parâmetros indicam os parâmetros para a função da magic.\n",
    "\n",
    "Esses comandos podem ser executados diretamente no notebook:"
   ]
  },
  {
   "cell_type": "code",
   "execution_count": 10,
   "metadata": {},
   "outputs": [
    {
     "data": {
      "text/plain": [
       "['a', 'b']"
      ]
     },
     "execution_count": 10,
     "metadata": {},
     "output_type": "execute_result"
    }
   ],
   "source": [
    "get_ipython().run_line_magic('who_ls', 'int')"
   ]
  },
  {
   "cell_type": "markdown",
   "metadata": {},
   "source": [
    "### Lista de magics\n",
    "\n",
    "Podemos usar a magic `%lsmagic` para listar quais são todas as magics do IPython e a magic `%magic` para entender como funciona a parte de magics. <span class=\"notebook-slide-extra\" data-count=\"1\"/>"
   ]
  },
  {
   "cell_type": "code",
   "execution_count": 11,
   "metadata": {},
   "outputs": [
    {
     "data": {
      "application/json": {
       "cell": {
        "!": "OSMagics",
        "HTML": "Other",
        "SVG": "Other",
        "bash": "Other",
        "capture": "ExecutionMagics",
        "debug": "ExecutionMagics",
        "file": "Other",
        "html": "DisplayMagics",
        "javascript": "DisplayMagics",
        "js": "DisplayMagics",
        "latex": "DisplayMagics",
        "markdown": "DisplayMagics",
        "perl": "Other",
        "prun": "ExecutionMagics",
        "pypy": "Other",
        "python": "Other",
        "python2": "Other",
        "python3": "Other",
        "ruby": "Other",
        "script": "ScriptMagics",
        "sh": "Other",
        "svg": "DisplayMagics",
        "sx": "OSMagics",
        "system": "OSMagics",
        "time": "ExecutionMagics",
        "timeit": "ExecutionMagics",
        "writefile": "OSMagics"
       },
       "line": {
        "alias": "OSMagics",
        "alias_magic": "BasicMagics",
        "autoawait": "AsyncMagics",
        "autocall": "AutoMagics",
        "automagic": "AutoMagics",
        "autosave": "KernelMagics",
        "bookmark": "OSMagics",
        "cat": "Other",
        "cd": "OSMagics",
        "clear": "KernelMagics",
        "colors": "BasicMagics",
        "conda": "PackagingMagics",
        "config": "ConfigMagics",
        "connect_info": "KernelMagics",
        "cp": "Other",
        "debug": "ExecutionMagics",
        "dhist": "OSMagics",
        "dirs": "OSMagics",
        "doctest_mode": "BasicMagics",
        "ed": "Other",
        "edit": "KernelMagics",
        "env": "OSMagics",
        "gui": "BasicMagics",
        "hist": "Other",
        "history": "HistoryMagics",
        "killbgscripts": "ScriptMagics",
        "ldir": "Other",
        "less": "KernelMagics",
        "lf": "Other",
        "lk": "Other",
        "ll": "Other",
        "load": "CodeMagics",
        "load_ext": "ExtensionMagics",
        "loadpy": "CodeMagics",
        "logoff": "LoggingMagics",
        "logon": "LoggingMagics",
        "logstart": "LoggingMagics",
        "logstate": "LoggingMagics",
        "logstop": "LoggingMagics",
        "ls": "Other",
        "lsmagic": "BasicMagics",
        "lx": "Other",
        "macro": "ExecutionMagics",
        "magic": "BasicMagics",
        "man": "KernelMagics",
        "matplotlib": "PylabMagics",
        "mkdir": "Other",
        "more": "KernelMagics",
        "mv": "Other",
        "notebook": "BasicMagics",
        "page": "BasicMagics",
        "pastebin": "CodeMagics",
        "pdb": "ExecutionMagics",
        "pdef": "NamespaceMagics",
        "pdoc": "NamespaceMagics",
        "pfile": "NamespaceMagics",
        "pinfo": "NamespaceMagics",
        "pinfo2": "NamespaceMagics",
        "pip": "PackagingMagics",
        "popd": "OSMagics",
        "pprint": "BasicMagics",
        "precision": "BasicMagics",
        "prun": "ExecutionMagics",
        "psearch": "NamespaceMagics",
        "psource": "NamespaceMagics",
        "pushd": "OSMagics",
        "pwd": "OSMagics",
        "pycat": "OSMagics",
        "pylab": "PylabMagics",
        "qtconsole": "KernelMagics",
        "quickref": "BasicMagics",
        "recall": "HistoryMagics",
        "rehashx": "OSMagics",
        "reload_ext": "ExtensionMagics",
        "rep": "Other",
        "rerun": "HistoryMagics",
        "reset": "NamespaceMagics",
        "reset_selective": "NamespaceMagics",
        "rm": "Other",
        "rmdir": "Other",
        "run": "ExecutionMagics",
        "save": "CodeMagics",
        "sc": "OSMagics",
        "set_env": "OSMagics",
        "store": "StoreMagics",
        "sx": "OSMagics",
        "system": "OSMagics",
        "tb": "ExecutionMagics",
        "time": "ExecutionMagics",
        "timeit": "ExecutionMagics",
        "unalias": "OSMagics",
        "unload_ext": "ExtensionMagics",
        "who": "NamespaceMagics",
        "who_ls": "NamespaceMagics",
        "whos": "NamespaceMagics",
        "xdel": "NamespaceMagics",
        "xmode": "BasicMagics"
       }
      },
      "text/plain": [
       "Available line magics:\n",
       "%alias  %alias_magic  %autoawait  %autocall  %automagic  %autosave  %bookmark  %cat  %cd  %clear  %colors  %conda  %config  %connect_info  %cp  %debug  %dhist  %dirs  %doctest_mode  %ed  %edit  %env  %gui  %hist  %history  %killbgscripts  %ldir  %less  %lf  %lk  %ll  %load  %load_ext  %loadpy  %logoff  %logon  %logstart  %logstate  %logstop  %ls  %lsmagic  %lx  %macro  %magic  %man  %matplotlib  %mkdir  %more  %mv  %notebook  %page  %pastebin  %pdb  %pdef  %pdoc  %pfile  %pinfo  %pinfo2  %pip  %popd  %pprint  %precision  %prun  %psearch  %psource  %pushd  %pwd  %pycat  %pylab  %qtconsole  %quickref  %recall  %rehashx  %reload_ext  %rep  %rerun  %reset  %reset_selective  %rm  %rmdir  %run  %save  %sc  %set_env  %store  %sx  %system  %tb  %time  %timeit  %unalias  %unload_ext  %who  %who_ls  %whos  %xdel  %xmode\n",
       "\n",
       "Available cell magics:\n",
       "%%!  %%HTML  %%SVG  %%bash  %%capture  %%debug  %%file  %%html  %%javascript  %%js  %%latex  %%markdown  %%perl  %%prun  %%pypy  %%python  %%python2  %%python3  %%ruby  %%script  %%sh  %%svg  %%sx  %%system  %%time  %%timeit  %%writefile\n",
       "\n",
       "Automagic is ON, % prefix IS NOT needed for line magics."
      ]
     },
     "execution_count": 11,
     "metadata": {},
     "output_type": "execute_result"
    }
   ],
   "source": [
    "%lsmagic"
   ]
  },
  {
   "cell_type": "markdown",
   "metadata": {},
   "source": [
    "<span class=\"notebook-slide-scroll\" data-position=\"-1\"/>\n",
    "\n",
    "Perceba que automagic está ativo, isso significa que podemos usar line magics sem `%` explícito: <span class=\"notebook-slide-extra\" data-count=\"1\"/>"
   ]
  },
  {
   "cell_type": "code",
   "execution_count": 12,
   "metadata": {},
   "outputs": [
    {
     "data": {
      "text/plain": [
       "['a', 'b']"
      ]
     },
     "execution_count": 12,
     "metadata": {},
     "output_type": "execute_result"
    }
   ],
   "source": [
    "who_ls int"
   ]
  },
  {
   "cell_type": "markdown",
   "metadata": {},
   "source": [
    "Para outras magics, veja o arquivo InteratividadeExtra.ipynb"
   ]
  },
  {
   "cell_type": "markdown",
   "metadata": {},
   "source": [
    "### Registrando novas magics\n",
    "\n",
    "Agora que sabemos como o IPython executa as magics, podemos pensar em criar e registrar novas magics. <span class=\"notebook-slide-extra\" data-count=\"1\"/>"
   ]
  },
  {
   "cell_type": "code",
   "execution_count": 13,
   "metadata": {},
   "outputs": [],
   "source": [
    "from IPython.core.magic import Magics, magics_class, cell_magic\n",
    "\n",
    "@magics_class\n",
    "class LenMagic(Magics):\n",
    "    @cell_magic\n",
    "    def size(self, line, cell):\n",
    "        return len(cell)\n",
    "        "
   ]
  },
  {
   "cell_type": "markdown",
   "metadata": {},
   "source": [
    "Em seguida registramos a magic: <span class=\"notebook-slide-extra\" data-count=\"1\"/>"
   ]
  },
  {
   "cell_type": "code",
   "execution_count": 14,
   "metadata": {},
   "outputs": [],
   "source": [
    "shell = get_ipython()\n",
    "shell.register_magics(LenMagic)"
   ]
  },
  {
   "cell_type": "markdown",
   "metadata": {},
   "source": [
    "Com isso, podemos usar para obter o tamanho de códigos de células: <span class=\"notebook-slide-extra\" data-count=\"1\"/>"
   ]
  },
  {
   "cell_type": "code",
   "execution_count": 15,
   "metadata": {},
   "outputs": [
    {
     "data": {
      "text/plain": [
       "11"
      ]
     },
     "execution_count": 15,
     "metadata": {},
     "output_type": "execute_result"
    }
   ],
   "source": [
    "%%size\n",
    "print(\"a\")"
   ]
  },
  {
   "cell_type": "markdown",
   "metadata": {},
   "source": [
    "<span class=\"notebook-slide-no-scroll\"/>\n",
    "\n",
    "Note que o conteúdo da célula não foi executado. Ao invés disso, ele foi passado para a função size que o processou e retornou `11`"
   ]
  },
  {
   "cell_type": "markdown",
   "metadata": {},
   "source": [
    "Agora vamos para um exemplo mais complicado, com argumentos, criação dinâmica de classes e análise da AST. <span class=\"notebook-slide-extra\" data-count=\"1\"/>"
   ]
  },
  {
   "cell_type": "code",
   "execution_count": 16,
   "metadata": {},
   "outputs": [],
   "source": [
    "import ast\n",
    "from IPython.core.magic_arguments import magic_arguments, argument, parse_argstring\n",
    "\n",
    "@magics_class\n",
    "class ASTMagic(Magics):\n",
    "    \n",
    "    @magic_arguments()\n",
    "    @argument(\n",
    "        \"methods\",\n",
    "        default=[\"visit_Assign\", \"visit_AugAssign\"],\n",
    "        nargs=\"*\",\n",
    "        help=\"method names to be defined on AST Visitor\"\n",
    "    )\n",
    "    @cell_magic\n",
    "    def count_ast(self, line, cell):\n",
    "        args = parse_argstring(self.count_ast, line)\n",
    "        class CustomVisitor(ast.NodeVisitor):\n",
    "            def __init__(self):\n",
    "                self.count = 0\n",
    "            \n",
    "            def _increment_counter(self, node):\n",
    "                self.count += 1\n",
    "            \n",
    "        for method in args.methods:\n",
    "            setattr(CustomVisitor, method, CustomVisitor._increment_counter)\n",
    "        \n",
    "        tree = ast.parse(cell)\n",
    "        visitor = CustomVisitor()\n",
    "        visitor.visit(tree)\n",
    "        return visitor.count\n",
    "\n",
    "shell = get_ipython()\n",
    "shell.register_magics(ASTMagic)"
   ]
  },
  {
   "cell_type": "markdown",
   "metadata": {},
   "source": [
    "Neste exemplo, definimos argumentos usando decoradores e usamos a função `parse_argstring` para transformá-los em uma estrutura. A definição segue o `argparse` do Python: https://docs.python.org/3/library/argparse.html\n",
    "\n",
    "```python\n",
    "@magic_arguments()\n",
    "@argument(\n",
    "    \"methods\",\n",
    "    default=[\"visit_Assign\", \"visit_AugAssign\"],\n",
    "    nargs=\"*\",\n",
    "    help=\"method names to be defined on AST Visitor\"\n",
    ")\n",
    "```"
   ]
  },
  {
   "cell_type": "markdown",
   "metadata": {},
   "source": [
    "Além da parte dos argumentos, criamos classes dinamicamente dentro da função e definimos os métodos dela como sendo referências ao método `_increment_counter`.\n",
    "\n",
    "```python\n",
    "for method in args.methods:\n",
    "    setattr(CustomVisitor, method, CustomVisitor._increment_counter)\n",
    "```"
   ]
  },
  {
   "cell_type": "markdown",
   "metadata": {},
   "source": [
    "Por fim, executamos o visitor e retornamos a contagem.\n",
    "\n",
    "```python\n",
    "tree = ast.parse(cell)\n",
    "visitor = CustomVisitor()\n",
    "visitor.visit(tree)\n",
    "return visitor.count\n",
    "```"
   ]
  },
  {
   "cell_type": "code",
   "execution_count": 17,
   "metadata": {},
   "outputs": [
    {
     "data": {
      "text/plain": [
       "3"
      ]
     },
     "execution_count": 17,
     "metadata": {},
     "output_type": "execute_result"
    }
   ],
   "source": [
    "%%count_ast\n",
    "def f():\n",
    "    pass\n",
    "a = 1\n",
    "b = 2\n",
    "c = 3"
   ]
  },
  {
   "cell_type": "code",
   "execution_count": 18,
   "metadata": {},
   "outputs": [
    {
     "data": {
      "text/plain": [
       "1"
      ]
     },
     "execution_count": 18,
     "metadata": {},
     "output_type": "execute_result"
    }
   ],
   "source": [
    "%%count_ast visit_FunctionDef\n",
    "def f():\n",
    "    pass\n",
    "a = 10\n",
    "b = 2\n",
    "c = 3"
   ]
  },
  {
   "cell_type": "markdown",
   "metadata": {},
   "source": [
    "## Exercicio 2\n",
    "\n",
    "Modifique a magic `count_ast` para retornar um dicionário ou counter com uma contagem de todos os nós da ast. O nome da magic resultante deve ser `ast_counter`.\n",
    "\n",
    "Dicas:\n",
    "- Use o método `generic_visit(self, node)` para visitar os nós da AST sem especificar o nome\n",
    "- Obtenha o nome do elemento na AST usando `type(node).__name__`\n",
    "- Visite nós recursivamente\n",
    "\n",
    "<span class=\"notebook-slide-extra\" data-count=\"2\"/>"
   ]
  },
  {
   "cell_type": "code",
   "execution_count": null,
   "metadata": {},
   "outputs": [],
   "source": [
    "..."
   ]
  },
  {
   "cell_type": "code",
   "execution_count": null,
   "metadata": {},
   "outputs": [],
   "source": [
    "%%ast_counter\n",
    "def f():\n",
    "    pass\n",
    "a = 1\n",
    "b = 2\n",
    "c = 3"
   ]
  },
  {
   "cell_type": "markdown",
   "metadata": {},
   "source": [
    "## Exercicio 3\n",
    "\n",
    "Crie uma magic, `%%radon`, que utilize radon para extrair informações de complexidade ciclomática e linhas de código de uma célula. <span class=\"notebook-slide-extra\" data-count=\"2\"/>"
   ]
  },
  {
   "cell_type": "code",
   "execution_count": null,
   "metadata": {},
   "outputs": [],
   "source": [
    "from radon.raw import analyze\n",
    "from radon.complexity import cc_visit\n",
    "\n",
    "template = \"\"\"\n",
    "def __radon_analysis():\n",
    "    {}\n",
    "\"\"\"\n",
    "\n",
    "..."
   ]
  },
  {
   "cell_type": "code",
   "execution_count": null,
   "metadata": {},
   "outputs": [],
   "source": [
    "%%radon\n",
    "def f():\n",
    "    pass\n",
    "a = 1\n",
    "if a:\n",
    "    b = 2\n",
    "    if b:\n",
    "        c = 3"
   ]
  },
  {
   "cell_type": "markdown",
   "metadata": {},
   "source": [
    "## Exercicio 4\n",
    "\n",
    "Faça uma line magic para clonar repositórios do GitHub recebendo o repositório no formato `Organizacao/Repositorio` e com argumentos para especificar o diretório e o commit.\n",
    "\n",
    "Exemplo de uso:\n",
    "\n",
    "```\n",
    "%clone gems-uff/sapos -d repos/sapos -c a9b0f7b3\n",
    "```\n",
    "\n",
    "Dicas:\n",
    "\n",
    "- Você pode usar **bang expressions** para chamar os comandos `git clone` e `git checkout`.\n",
    "- Bang expressions aceitam combinar variáveis do Python usando usando `{variavel}`, entre chaves\n",
    "- A URL de um repositório do tipo `owner/name` no GitHub é `https://github.com/owner/name.git` <span class=\"notebook-slide-extra\" data-count=\"2\"/>\n"
   ]
  },
  {
   "cell_type": "code",
   "execution_count": null,
   "metadata": {},
   "outputs": [],
   "source": [
    "from IPython.core.magic import line_magic\n",
    "\n",
    "..."
   ]
  },
  {
   "cell_type": "code",
   "execution_count": null,
   "metadata": {},
   "outputs": [],
   "source": [
    "%clone gems-uff/sapos -d repos/sapos -c a9b0f7b3"
   ]
  },
  {
   "cell_type": "markdown",
   "metadata": {},
   "source": [
    "Continua: [4.Proxy.pdf](4.Proxy.pdf)"
   ]
  }
 ],
 "metadata": {
  "kernelspec": {
   "display_name": "Python 3",
   "language": "python",
   "name": "python3"
  },
  "language_info": {
   "codemirror_mode": {
    "name": "ipython",
    "version": 3
   },
   "file_extension": ".py",
   "mimetype": "text/x-python",
   "name": "python",
   "nbconvert_exporter": "python",
   "pygments_lexer": "ipython3",
   "version": "3.7.3"
  },
  "toc": {
   "base_numbering": 1,
   "nav_menu": {},
   "number_sections": false,
   "sideBar": true,
   "skip_h1_title": false,
   "title_cell": "Table of Contents",
   "title_sidebar": "Contents",
   "toc_cell": false,
   "toc_position": {},
   "toc_section_display": true,
   "toc_window_display": true
  }
 },
 "nbformat": 4,
 "nbformat_minor": 2
}
