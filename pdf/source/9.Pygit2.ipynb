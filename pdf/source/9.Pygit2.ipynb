{
 "cells": [
  {
   "cell_type": "markdown",
   "metadata": {},
   "source": [
    "<span class=\"notebook-slide-start\"/>\n",
    "\n",
    "# Pygit2\n",
    "\n",
    "Este notebook apresenta os seguintes tópicos:\n",
    "\n",
    "- [Pygit2](#Pygit2) - Pygit2\n",
    "- [Exercício 11](#Exercicio-11) - Exercício 11"
   ]
  },
  {
   "cell_type": "markdown",
   "metadata": {},
   "source": [
    "\n",
    "Conseguimos extrair informações do git usando comandos de sistema e parseando os resultados como fizemos anteriormente.\n",
    "\n",
    "Porém, comandos de sistema nem sempre são a alternativa mais rápida e existe um esforço em parsear as informações.\n",
    "\n",
    "Nesta parte do minicurso, falarei da biblioteca `pygit2`, que permite acessar e extrair informações diretamente do repositório."
   ]
  },
  {
   "cell_type": "markdown",
   "metadata": {},
   "source": [
    "Inicialmente, vamos carregar o repositório. <span class=\"notebook-slide-extra\" data-count=\"3\"/>"
   ]
  },
  {
   "cell_type": "code",
   "execution_count": 1,
   "metadata": {},
   "outputs": [],
   "source": [
    "import pygit2"
   ]
  },
  {
   "cell_type": "code",
   "execution_count": 2,
   "metadata": {},
   "outputs": [
    {
     "name": "stdout",
     "output_type": "stream",
     "text": [
      "/home/joao/projects/tutorial/pdf/source/sapos\n"
     ]
    },
    {
     "data": {
      "text/plain": [
       "'/home/joao/projects/tutorial/pdf/source/sapos/.git/'"
      ]
     },
     "execution_count": 2,
     "metadata": {},
     "output_type": "execute_result"
    }
   ],
   "source": [
    "%cd sapos\n",
    "repo_path = pygit2.discover_repository(\".\")\n",
    "repo_path"
   ]
  },
  {
   "cell_type": "code",
   "execution_count": 3,
   "metadata": {},
   "outputs": [],
   "source": [
    "repo = pygit2.Repository(repo_path)"
   ]
  },
  {
   "cell_type": "markdown",
   "metadata": {},
   "source": [
    "A partir do objeto do repositório, podemos ver em que commit ou tag estamos. <span class=\"notebook-slide-extra\" data-count=\"1\"/>"
   ]
  },
  {
   "cell_type": "code",
   "execution_count": 4,
   "metadata": {},
   "outputs": [
    {
     "data": {
      "text/plain": [
       "'4.4.27'"
      ]
     },
     "execution_count": 4,
     "metadata": {},
     "output_type": "execute_result"
    }
   ],
   "source": [
    "repo.describe()"
   ]
  },
  {
   "cell_type": "markdown",
   "metadata": {},
   "source": [
    "Note que o resultado foi a última tag que fizemos checkout, que também é o branch `master`. <span class=\"notebook-slide-scroll\" data-position=\"-1\"/>"
   ]
  },
  {
   "cell_type": "markdown",
   "metadata": {},
   "source": [
    "Podemos fazer checkout de commits usando a `pygit2`. <span class=\"notebook-slide-extra\" data-count=\"2\"/>"
   ]
  },
  {
   "cell_type": "code",
   "execution_count": 5,
   "metadata": {},
   "outputs": [],
   "source": [
    "commit = repo.revparse_single(\"e82315c3ef\")\n",
    "repo.checkout_tree(\n",
    "    commit,\n",
    ")\n",
    "repo.set_head(commit.oid)"
   ]
  },
  {
   "cell_type": "code",
   "execution_count": 6,
   "metadata": {},
   "outputs": [
    {
     "data": {
      "text/plain": [
       "'4.0.0'"
      ]
     },
     "execution_count": 6,
     "metadata": {},
     "output_type": "execute_result"
    }
   ],
   "source": [
    "repo.describe()"
   ]
  },
  {
   "cell_type": "markdown",
   "metadata": {},
   "source": [
    "O checkout de branches é mais simples. <span class=\"notebook-slide-extra\" data-count=\"2\"/>"
   ]
  },
  {
   "cell_type": "code",
   "execution_count": 7,
   "metadata": {},
   "outputs": [],
   "source": [
    "master = repo.lookup_branch(\"master\")\n",
    "repo.checkout(master)"
   ]
  },
  {
   "cell_type": "code",
   "execution_count": 8,
   "metadata": {},
   "outputs": [
    {
     "data": {
      "text/plain": [
       "'4.4.27'"
      ]
     },
     "execution_count": 8,
     "metadata": {},
     "output_type": "execute_result"
    }
   ],
   "source": [
    "repo.describe()"
   ]
  },
  {
   "cell_type": "markdown",
   "metadata": {},
   "source": [
    "Com um objeto de commit, podemos extrair informações dele. <span class=\"notebook-slide-extra\" data-count=\"5\"/>"
   ]
  },
  {
   "cell_type": "code",
   "execution_count": 9,
   "metadata": {},
   "outputs": [
    {
     "data": {
      "text/plain": [
       "e82315c3efeb7b29dd43792fd77d840c229d7dcb"
      ]
     },
     "execution_count": 9,
     "metadata": {},
     "output_type": "execute_result"
    }
   ],
   "source": [
    "commit.oid"
   ]
  },
  {
   "cell_type": "code",
   "execution_count": 10,
   "metadata": {},
   "outputs": [
    {
     "data": {
      "text/plain": [
       "('Joao Felipe', 'joaofelipenp@gmail.com')"
      ]
     },
     "execution_count": 10,
     "metadata": {},
     "output_type": "execute_result"
    }
   ],
   "source": [
    "commit.author.name, commit.author.email"
   ]
  },
  {
   "cell_type": "code",
   "execution_count": 11,
   "metadata": {},
   "outputs": [
    {
     "data": {
      "text/plain": [
       "1409504044"
      ]
     },
     "execution_count": 11,
     "metadata": {},
     "output_type": "execute_result"
    }
   ],
   "source": [
    "commit.commit_time"
   ]
  },
  {
   "cell_type": "code",
   "execution_count": 12,
   "metadata": {},
   "outputs": [
    {
     "data": {
      "text/plain": [
       "\"Merge tag '4.0.0-migration'\\n\""
      ]
     },
     "execution_count": 12,
     "metadata": {},
     "output_type": "execute_result"
    }
   ],
   "source": [
    "commit.message"
   ]
  },
  {
   "cell_type": "code",
   "execution_count": 13,
   "metadata": {},
   "outputs": [
    {
     "data": {
      "text/plain": [
       "[b3d4c3780c06255346ce42d1df7aacb22827c90a,\n",
       " 3b8122326f5e8ffddd7888d2e601ff17e412e871]"
      ]
     },
     "execution_count": 13,
     "metadata": {},
     "output_type": "execute_result"
    }
   ],
   "source": [
    "commit.parent_ids"
   ]
  },
  {
   "cell_type": "markdown",
   "metadata": {},
   "source": [
    "Note que por ser um merge, o commit possui dois pais. <span class=\"notebook-slide-scroll\" data-count=\"-1\"/>"
   ]
  },
  {
   "cell_type": "markdown",
   "metadata": {},
   "source": [
    "A `pygit2` também possui funções para caminhar pelos commits do repositório. <span class=\"notebook-slide-extra\" data-count=\"1\"/>"
   ]
  },
  {
   "cell_type": "code",
   "execution_count": 14,
   "metadata": {},
   "outputs": [
    {
     "name": "stdout",
     "output_type": "stream",
     "text": [
      "d3e43077 #300 updating devise gem from 4.6.2 to 4.7.1 due security vulnerability\n",
      "\n",
      "0f5588e3 #299 updating nokogiri gem from 1.10.1 to 1.10.4 due security vulnerability\n",
      "\n",
      "ae8746e8 Merge branch 'bugfixes'\n",
      "\n"
     ]
    }
   ],
   "source": [
    "last_commit = repo[repo.head.target]\n",
    "i = 0\n",
    "for commit in repo.walk(last_commit.id, pygit2.GIT_SORT_TIME):\n",
    "    print(str(commit.id)[:8], commit.message)\n",
    "    i += 1\n",
    "    if i >= 3:\n",
    "        break"
   ]
  },
  {
   "cell_type": "markdown",
   "metadata": {},
   "source": [
    "A forma de caminhar pode variar de acordo com o segundo argumento:\n",
    "    \n",
    "- `GIT_SORT_NONE`: Sem ordem determinada\n",
    "- `GIT_SORT_TOPOLOGICAL`: Ordem topológica - pais antes de filhos\n",
    "- `GIT_SORT_TIME`: Momento do commit\n",
    "- `GIT_SORT_REVERSE`: Ordem inversa\n",
    "\n",
    "Esses argumentos podem ser combinados. Se eu quiser caminhar no inverso da ordem dos commits, posso fazer:\n",
    "```python\n",
    "    GIT_SORT_TIME | GIT_SORT_REVERSE\n",
    "```"
   ]
  },
  {
   "cell_type": "markdown",
   "metadata": {},
   "source": [
    "A seguir, usamos essa forma combinada para pegar o primeiro commit do projeto. <span class=\"notebook-slide-extra\" data-count=\"1\"/>"
   ]
  },
  {
   "cell_type": "code",
   "execution_count": 15,
   "metadata": {},
   "outputs": [
    {
     "data": {
      "text/plain": [
       "(cf1efe3addbd8bc8208ca687c14f3181588e9ff0, 'Files generated by rails new.')"
      ]
     },
     "execution_count": 15,
     "metadata": {},
     "output_type": "execute_result"
    }
   ],
   "source": [
    "order = pygit2.GIT_SORT_TIME | pygit2.GIT_SORT_REVERSE\n",
    "it = iter(repo.walk(last_commit.id, order))\n",
    "first_commit = next(it)\n",
    "first_commit.id, first_commit.message"
   ]
  },
  {
   "cell_type": "markdown",
   "metadata": {},
   "source": [
    "Podemos usar essa navegação para contar a quantidade de commits no histórico. <span class=\"notebook-slide-extra\" data-count=\"1\"/>"
   ]
  },
  {
   "cell_type": "code",
   "execution_count": 16,
   "metadata": {},
   "outputs": [
    {
     "data": {
      "text/plain": [
       "1391"
      ]
     },
     "execution_count": 16,
     "metadata": {},
     "output_type": "execute_result"
    }
   ],
   "source": [
    "len(list(repo.walk(last_commit.id)))"
   ]
  },
  {
   "cell_type": "markdown",
   "metadata": {},
   "source": [
    "Mas note que esse não é o número total de commits do projeto! Ele apenas representa o número de commits no histórico do último commit.\n",
    "\n",
    "Outros commits podem estar em branches ou até mesmo pendurados. <span class=\"notebook-slide-scroll\" data-position=\"-1\"/>"
   ]
  },
  {
   "cell_type": "markdown",
   "metadata": {},
   "source": [
    "Para pegar todos os commits, precisamos iterar nos objetos do git e selecionar objetos que são commits. <span class=\"notebook-slide-extra\" data-count=\"2\"/>"
   ]
  },
  {
   "cell_type": "code",
   "execution_count": 17,
   "metadata": {},
   "outputs": [],
   "source": [
    "commits = []\n",
    "for oid in repo:\n",
    "    obj = repo.get(oid)\n",
    "    if isinstance(obj, pygit2.Commit):\n",
    "        commits.append(obj)"
   ]
  },
  {
   "cell_type": "code",
   "execution_count": 18,
   "metadata": {},
   "outputs": [
    {
     "data": {
      "text/plain": [
       "1412"
      ]
     },
     "execution_count": 18,
     "metadata": {},
     "output_type": "execute_result"
    }
   ],
   "source": [
    "len(commits)"
   ]
  },
  {
   "cell_type": "markdown",
   "metadata": {},
   "source": [
    "Agora temos todos os commits. <span class=\"notebook-slide-scroll\" data-position=\"-1\"/>"
   ]
  },
  {
   "cell_type": "markdown",
   "metadata": {},
   "source": [
    "Em seguida, tentamos descobrir quais são os commits que não estão no histórico do `master`. <span class=\"notebook-slide-extra\" data-count=\"1\"/>"
   ]
  },
  {
   "cell_type": "code",
   "execution_count": 19,
   "metadata": {},
   "outputs": [
    {
     "name": "stdout",
     "output_type": "stream",
     "text": [
      "b294935c Remoçao dos arquivos do neatbeans\n",
      "\n",
      "4c35a7f3 Adicionando gems de testes\n",
      "\n",
      "5ce0ed0c Criacao de alguns testes de logins\n",
      "\n",
      "de74f87e Criacao de alguns testes de consultas\n",
      "\n",
      "f37e8f7d Factories e fixtures para ajudar os testes\n",
      "\n"
     ]
    }
   ],
   "source": [
    "diff = set(commits) - set(repo.walk(last_commit.id))\n",
    "for commit, _ in zip(diff, range(5)):\n",
    "    print(str(commit.id)[:8], commit.message)\n"
   ]
  },
  {
   "cell_type": "markdown",
   "metadata": {},
   "source": [
    "Quanto listamos os branches no início deste notebook, apenas o `reports` e `bugfixes` não estavam no mesmo commit que o `master`. Desta forma, podemos ver se os commits que não estão no `master` são commits do `reports`, do `bugfixes`, ou se estão pendurados.\n",
    "\n",
    "A seguir verificamos quais commits não são de `reports`. <span class=\"notebook-slide-extra\" data-count=\"1\"/>"
   ]
  },
  {
   "cell_type": "code",
   "execution_count": 20,
   "metadata": {},
   "outputs": [
    {
     "name": "stdout",
     "output_type": "stream",
     "text": [
      "50f1f600 #297 adding rspec presence tests to model Query and fixing them\n",
      "\n",
      "4d221761 #296 implementing query_param_spec and fixing query_param bugs\n",
      "\n",
      "70cccb2d #298 adding create header labels to pages that did not have them\n",
      "\n",
      "69b272da #254 adding a variable to enable or disable if professors can post grades\n",
      "\n"
     ]
    }
   ],
   "source": [
    "new_diff = diff - set(repo.walk(repo.revparse_single(\"reports\").id))\n",
    "for commit in new_diff:\n",
    "    print(str(commit.id)[:8], commit.message)"
   ]
  },
  {
   "cell_type": "markdown",
   "metadata": {},
   "source": [
    "Em seguida, verificados se tem algum dos commits que não é de `bugfixes`. <span class=\"notebook-slide-extra\" data-count=\"1\"/>"
   ]
  },
  {
   "cell_type": "code",
   "execution_count": 21,
   "metadata": {},
   "outputs": [],
   "source": [
    "new_diff = new_diff - set(repo.walk(repo.revparse_single(\"bugfixes\").id))\n",
    "for commit in new_diff:\n",
    "    print(str(commit.id)[:8], commit.message)"
   ]
  },
  {
   "cell_type": "markdown",
   "metadata": {},
   "source": [
    "Como não teve nenhum resultado, sabemos que todos os commits que não estão no master são de `reports` ou `bugfixes`. <span class=\"notebook-slide-scroll\" data-position=\"-1\"/>"
   ]
  },
  {
   "cell_type": "markdown",
   "metadata": {},
   "source": [
    "Outra coisa que podemos fazer com a navegação nos commits é construir uma linha do tempo mostrando quais foram os momentos em que ocorreram mais commits.\n",
    "\n",
    "Começamos calculando quantos dias se passaram desde o primeiro commit até hoje, preparando um array de dias, e inicializando um array de zeros. <span class=\"notebook-slide-extra\" data-count=\"2\"/>"
   ]
  },
  {
   "cell_type": "code",
   "execution_count": 22,
   "metadata": {},
   "outputs": [
    {
     "data": {
      "text/plain": [
       "datetime.datetime(2011, 7, 18, 10, 2, 10)"
      ]
     },
     "execution_count": 22,
     "metadata": {},
     "output_type": "execute_result"
    }
   ],
   "source": [
    "from datetime import datetime\n",
    "first_date = datetime.fromtimestamp(first_commit.commit_time)\n",
    "first_date"
   ]
  },
  {
   "cell_type": "code",
   "execution_count": 23,
   "metadata": {},
   "outputs": [
    {
     "data": {
      "text/plain": [
       "3023"
      ]
     },
     "execution_count": 23,
     "metadata": {},
     "output_type": "execute_result"
    }
   ],
   "source": [
    "import numpy as np\n",
    "today = datetime.today()\n",
    "delta = today - first_date\n",
    "days = delta.days\n",
    "indexes = np.arange(days)\n",
    "values = np.zeros(days)\n",
    "days"
   ]
  },
  {
   "cell_type": "markdown",
   "metadata": {},
   "source": [
    "Navegamos nos commits atualizando values para considerar a contribuição de cada commit novo. <span class=\"notebook-slide-extra\" data-count=\"1\"/>"
   ]
  },
  {
   "cell_type": "code",
   "execution_count": 24,
   "metadata": {},
   "outputs": [],
   "source": [
    "for commit in commits:\n",
    "    date = datetime.fromtimestamp(commit.commit_time)\n",
    "    delta = date - first_date\n",
    "    delta_index = delta.days\n",
    "    values[delta_index:] += 1"
   ]
  },
  {
   "cell_type": "markdown",
   "metadata": {},
   "source": [
    "Plotamos o gráfico. <span class=\"notebook-slide-extra\" data-count=\"1\"/>"
   ]
  },
  {
   "cell_type": "code",
   "execution_count": 25,
   "metadata": {},
   "outputs": [
    {
     "data": {
      "image/png": "[encoded data removed]",
      "text/plain": [
       "<Figure size 432x288 with 1 Axes>"
      ]
     },
     "metadata": {
      "needs_background": "light"
     },
     "output_type": "display_data"
    }
   ],
   "source": [
    "from math import ceil\n",
    "import matplotlib.pyplot as plt\n",
    "%matplotlib inline\n",
    "\n",
    "labels = [datetime(2011 + i, 1, 1) for i in range(ceil(delta.days / 365))]\n",
    "label_indexes = [(label - first_date).days for label in labels]\n",
    "label_years = [label.year for label in labels]\n",
    "plt.xticks(label_indexes, label_years)\n",
    "plt.plot(indexes, values)\n",
    "plt.show()"
   ]
  },
  {
   "cell_type": "markdown",
   "metadata": {},
   "source": [
    "## Exercicio 11\n",
    "\n",
    "Faça um gráfico mostrando o histórico de contribuições de cada usuário. <span class=\"notebook-slide-extra\" data-count=\"2\"/>"
   ]
  },
  {
   "cell_type": "code",
   "execution_count": null,
   "metadata": {},
   "outputs": [],
   "source": [
    "..."
   ]
  },
  {
   "cell_type": "code",
   "execution_count": null,
   "metadata": {},
   "outputs": [],
   "source": [
    "bottom = np.zeros(days)\n",
    "legend_color = []\n",
    "legend_text = []\n",
    "...\n",
    "\n",
    "plt.xticks(label_indexes, label_years)\n",
    "plt.xlabel(\"Time\")\n",
    "plt.ylabel(\"Commits\")\n",
    "plt.legend(\n",
    "    legend_color, legend_text,\n",
    "    bbox_to_anchor=(0,1.02,1,0.2), loc=\"lower left\",\n",
    "    mode=\"expand\", borderaxespad=0, ncol=2\n",
    ")\n",
    "plt.show()"
   ]
  },
  {
   "cell_type": "markdown",
   "metadata": {},
   "source": [
    "Continua: [10.Visualizacao.Rica.pdf](10.Visualizacao.Rica.pdf)"
   ]
  }
 ],
 "metadata": {
  "kernelspec": {
   "display_name": "Python 3",
   "language": "python",
   "name": "python3"
  },
  "language_info": {
   "codemirror_mode": {
    "name": "ipython",
    "version": 3
   },
   "file_extension": ".py",
   "mimetype": "text/x-python",
   "name": "python",
   "nbconvert_exporter": "python",
   "pygments_lexer": "ipython3",
   "version": "3.7.3"
  },
  "toc": {
   "base_numbering": 1,
   "nav_menu": {},
   "number_sections": true,
   "sideBar": true,
   "skip_h1_title": false,
   "title_cell": "Table of Contents",
   "title_sidebar": "Contents",
   "toc_cell": false,
   "toc_position": {},
   "toc_section_display": true,
   "toc_window_display": false
  }
 },
 "nbformat": 4,
 "nbformat_minor": 2
}
