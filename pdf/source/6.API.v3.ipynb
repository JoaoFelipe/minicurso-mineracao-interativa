{
 "cells": [
  {
   "cell_type": "markdown",
   "metadata": {},
   "source": [
    "<span class=\"notebook-slide-start\"/>\n",
    "\n",
    "# APIs do GitHub (v3)\n",
    "\n",
    "Este notebook apresenta os seguintes tópicos:\n",
    "\n",
    "- [APIs do GitHub](#APIs-do-GitHub) - APIs do GitHub\n",
    "- [Autenticação](#Autenticacao) - Autenticação\n",
    "- [API v3](#API-v3) - API v3\n",
    "- [Exercício 6](#Exercicio-6) - Exercício 6\n",
    "- [Exercício 7](#Exercicio-7) - Exercício 7\n",
    "- [Exercício 8](#Exercicio-8) - Exercício 8"
   ]
  },
  {
   "cell_type": "markdown",
   "metadata": {},
   "source": [
    "## APIs do GitHub\n",
    "\n",
    "Como o GitHub oferece APIs para obter informações de repositórios, usá-las em geral é melhor do que fazer crawling.\n",
    "\n",
    "O GitHub possui duas versões estáveis de APIs:\n",
    "\n",
    "- REST API v3: https://developer.github.com/v3/\n",
    "- GraphQL API v4: https://developer.github.com/v4/\n",
    "\n",
    "A forma de usar cada API é diferente e a taxa de requisições permitidas também é. Neste minicurso, usaremos requests para acessar ambas as APIs, mas existem bibliotecas prontas (como a PyGitHub para a v3) que fazem o acesso."
   ]
  },
  {
   "cell_type": "markdown",
   "metadata": {},
   "source": [
    "### Autenticacao\n",
    "\n",
    "Para usar qualquer uma das APIs, é necessário gerar um token de autenticação no GitHub seguindo os seguintes passos.\n",
    "\n",
    "Primeiro, vá em configurações da conta.\n",
    "\n",
    "![Página inicial do GitHub](images/github1.png)"
   ]
  },
  {
   "cell_type": "markdown",
   "metadata": {},
   "source": [
    "Em seguida, abra configurações de desenvolvedor.\n",
    "\n",
    "![Página de Configurações do Usuário](images/github2.png)"
   ]
  },
  {
   "cell_type": "markdown",
   "metadata": {},
   "source": [
    "Abra \"Personal access tokens\" e clique em \"Generate new token\". \n",
    "\n",
    "![Página de Tokens de Acesso Pessoal](images/github3.png)\n"
   ]
  },
  {
   "cell_type": "markdown",
   "metadata": {},
   "source": [
    "Escolha as permissões que você deseja no token. \n",
    "\n",
    "![Página de Criação de Token de Acesso Pessoal](images/github4.png)\n"
   ]
  },
  {
   "cell_type": "markdown",
   "metadata": {},
   "source": [
    "Copie o token gerado para algum lugar seguro. Para o minicurso, eu copiei o meu token para `~/githubtoken.txt` e vou carregá-lo para a variável `token` a seguir. <span class=\"notebook-slide-extra\" data-count=\"1\"/>"
   ]
  },
  {
   "cell_type": "code",
   "execution_count": 1,
   "metadata": {},
   "outputs": [
    {
     "data": {
      "application/vnd.jupyter.widget-view+json": {
       "model_id": "bc004bc768014fd08575e2773984474e",
       "version_major": 2,
       "version_minor": 0
      },
      "text/plain": [
       "interactive(children=(FileUpload(value={}, description='Upload'), Output()), _dom_classes=('widget-interact',)…"
      ]
     },
     "metadata": {},
     "output_type": "display_data"
    }
   ],
   "source": [
    "from ipywidgets import FileUpload, interact\n",
    "@interact(files=FileUpload())\n",
    "def set_token(files={}):\n",
    "    global token\n",
    "    if files:\n",
    "        for key, values in files.items():\n",
    "            token = values['content'].decode(\"utf-8\").strip()\n",
    "            print(\"Token Loaded!\")"
   ]
  },
  {
   "cell_type": "markdown",
   "metadata": {},
   "source": [
    "## API v3\n",
    "\n",
    "Com o token em mãos, podemos começar a usa a API v3. O acesso a API do GitHub é feito a https://api.github.com. Portanto, precisamos mudar o site de nosso servidor de proxy. Para isso, podemos fechar e reiniciar da seguinte forma:\n",
    "\n",
    "```bash\n",
    "python proxy.py https://api.github.com/\n",
    "```"
   ]
  },
  {
   "cell_type": "markdown",
   "metadata": {},
   "source": [
    "Inicialmente, vamos fazer uma requisição para verificar se a autenticação funciona e para vermos nosso limite de requisições. <span class=\"notebook-slide-extra\" data-count=\"1\"/>"
   ]
  },
  {
   "cell_type": "code",
   "execution_count": 2,
   "metadata": {},
   "outputs": [
    {
     "data": {
      "text/plain": [
       "200"
      ]
     },
     "execution_count": 2,
     "metadata": {},
     "output_type": "execute_result"
    }
   ],
   "source": [
    "import requests \n",
    "SITE = \"http://localhost:5000/\" # ou https://api.github.com\n",
    "def token_auth(request):\n",
    "    request.headers[\"User-Agent\"] = \"Minicurso\" # Necessário\n",
    "    request.headers[\"Authorization\"] = \"token {}\".format(token)\n",
    "    return request\n",
    "response = requests.get(SITE, auth=token_auth)\n",
    "response.status_code"
   ]
  },
  {
   "cell_type": "markdown",
   "metadata": {},
   "source": [
    "Resultado 200 - a autenticação funcionou. <span class=\"notebook-slide-scroll\" data-position=\"-1\"/>"
   ]
  },
  {
   "cell_type": "markdown",
   "metadata": {},
   "source": [
    "O limite de acesso vem definido no header. <span class=\"notebook-slide-extra\" data-count=\"3\"/>"
   ]
  },
  {
   "cell_type": "code",
   "execution_count": 3,
   "metadata": {},
   "outputs": [
    {
     "data": {
      "text/plain": [
       "'5000'"
      ]
     },
     "execution_count": 3,
     "metadata": {},
     "output_type": "execute_result"
    }
   ],
   "source": [
    "response.headers[\"X-RateLimit-Limit\"]"
   ]
  },
  {
   "cell_type": "code",
   "execution_count": 4,
   "metadata": {},
   "outputs": [
    {
     "data": {
      "text/plain": [
       "'4999'"
      ]
     },
     "execution_count": 4,
     "metadata": {},
     "output_type": "execute_result"
    }
   ],
   "source": [
    "response.headers[\"X-RateLimit-Remaining\"]"
   ]
  },
  {
   "cell_type": "code",
   "execution_count": 5,
   "metadata": {},
   "outputs": [
    {
     "data": {
      "text/plain": [
       "'1571985661'"
      ]
     },
     "execution_count": 5,
     "metadata": {},
     "output_type": "execute_result"
    }
   ],
   "source": [
    "response.headers[\"X-RateLimit-Reset\"]"
   ]
  },
  {
   "cell_type": "markdown",
   "metadata": {},
   "source": [
    "O retorno da API v3 é sempre um JSON. O acesso a https://api.github.com retorna as URLS válidas da API. <span class=\"notebook-slide-extra\" data-count=\"1\"/>"
   ]
  },
  {
   "cell_type": "code",
   "execution_count": 6,
   "metadata": {},
   "outputs": [
    {
     "name": "stdout",
     "output_type": "stream",
     "text": [
      "{'authorizations_url': 'https://api.github.com/authorizations',\n",
      " 'code_search_url': 'https://api.github.com/search/code?q={query}{&page,per_page,sort,order}',\n",
      " 'commit_search_url': 'https://api.github.com/search/commits?q={query}{&page,per_page,sort,order}',\n",
      " 'current_user_authorizations_html_url': 'https://github.com/settings/connections/applications{/client_id}',\n",
      " 'current_user_repositories_url': 'https://api.github.com/user/repos{?type,page,per_page,sort}',\n",
      "...\n"
     ]
    }
   ],
   "source": [
    "import pdffallback\n",
    "result = response.json()\n",
    "pdffallback.show(result)"
   ]
  },
  {
   "cell_type": "markdown",
   "metadata": {},
   "source": [
    "Vamos ver o que a API tem sobre algum repositório.\n",
    "\n",
    "Primeiro precisamos ver qual URL usar. <span class=\"notebook-slide-extra\" data-count=\"1\"/>"
   ]
  },
  {
   "cell_type": "code",
   "execution_count": 7,
   "metadata": {},
   "outputs": [
    {
     "data": {
      "text/plain": [
       "'https://api.github.com/repos/{owner}/{repo}'"
      ]
     },
     "execution_count": 7,
     "metadata": {},
     "output_type": "execute_result"
    }
   ],
   "source": [
    "result['repository_url']"
   ]
  },
  {
   "cell_type": "markdown",
   "metadata": {},
   "source": [
    "Em seguida, fazemos a requisição para saber o que tem no repositorio `gems-uff/sapos`. <span class=\"notebook-slide-extra\" data-count=\"2\"/>"
   ]
  },
  {
   "cell_type": "code",
   "execution_count": 8,
   "metadata": {},
   "outputs": [
    {
     "data": {
      "text/plain": [
       "200"
      ]
     },
     "execution_count": 8,
     "metadata": {},
     "output_type": "execute_result"
    }
   ],
   "source": [
    "response = requests.get(SITE + \"repos/gems-uff/sapos\", auth=token_auth)\n",
    "response.status_code"
   ]
  },
  {
   "cell_type": "code",
   "execution_count": 9,
   "metadata": {},
   "outputs": [
    {
     "name": "stdout",
     "output_type": "stream",
     "text": [
      "{'archive_url': 'https://api.github.com/repos/gems-uff/sapos/{archive_format}{/ref}',\n",
      " 'archived': False,\n",
      " 'assignees_url': 'https://api.github.com/repos/gems-uff/sapos/assignees{/user}',\n",
      " 'blobs_url': 'https://api.github.com/repos/gems-uff/sapos/git/blobs{/sha}',\n",
      " 'branches_url': 'https://api.github.com/repos/gems-uff/sapos/branches{/branch}',\n",
      "...\n"
     ]
    }
   ],
   "source": [
    "data = response.json()\n",
    "pdffallback.show(data)"
   ]
  },
  {
   "cell_type": "markdown",
   "metadata": {},
   "source": [
    "O resultado tem diversos resultados e URLs para pegar mais informações. Vamos pegar algumas informações diretas interessantes. <span class=\"notebook-slide-extra\" data-count=\"1\"/>"
   ]
  },
  {
   "cell_type": "code",
   "execution_count": 10,
   "metadata": {},
   "outputs": [
    {
     "name": "stdout",
     "output_type": "stream",
     "text": [
      "Estrelas: 18\n",
      "Forks: 11\n",
      "Watchers: 6\n",
      "Issues abertas: 41\n",
      "Linguagem: Ruby\n"
     ]
    }
   ],
   "source": [
    "print(\"Estrelas:\", data[\"stargazers_count\"])\n",
    "print(\"Forks:\", data[\"forks\"])\n",
    "print(\"Watchers:\", data[\"subscribers_count\"])\n",
    "print(\"Issues abertas:\", data[\"open_issues\"])\n",
    "print(\"Linguagem:\", data[\"language\"])"
   ]
  },
  {
   "cell_type": "markdown",
   "metadata": {},
   "source": [
    "Se quisermos saber quem são os colaboradores do projeto e quais são as issues existentes, podemos obter as respectivas URLs. <span class=\"notebook-slide-extra\" data-count=\"1\"/>"
   ]
  },
  {
   "cell_type": "code",
   "execution_count": 11,
   "metadata": {},
   "outputs": [
    {
     "name": "stdout",
     "output_type": "stream",
     "text": [
      "Colaboradores: https://api.github.com/repos/gems-uff/sapos/contributors\n",
      "Issues: https://api.github.com/repos/gems-uff/sapos/issues{/number}\n"
     ]
    }
   ],
   "source": [
    "print(\"Colaboradores:\", data[\"contributors_url\"])\n",
    "print(\"Issues:\", data[\"issues_url\"])"
   ]
  },
  {
   "cell_type": "markdown",
   "metadata": {},
   "source": [
    "Agora podemos obter a lista de colaboradores. <span class=\"notebook-slide-extra\" data-count=\"2\"/>"
   ]
  },
  {
   "cell_type": "code",
   "execution_count": 12,
   "metadata": {},
   "outputs": [
    {
     "data": {
      "text/plain": [
       "200"
      ]
     },
     "execution_count": 12,
     "metadata": {},
     "output_type": "execute_result"
    }
   ],
   "source": [
    "response = requests.get(SITE + \"repos/gems-uff/sapos/contributors\", auth=token_auth)\n",
    "response.status_code"
   ]
  },
  {
   "cell_type": "code",
   "execution_count": 13,
   "metadata": {},
   "outputs": [
    {
     "name": "stdout",
     "output_type": "stream",
     "text": [
      "[{'avatar_url': 'https://avatars1.githubusercontent.com/u/327789?v=4',\n",
      "  'contributions': 347,\n",
      "  'events_url': 'https://api.github.com/users/JoaoFelipe/events{/privacy}',\n",
      "  'followers_url': 'https://api.github.com/users/JoaoFelipe/followers',\n",
      "  'following_url': 'https://api.github.com/users/JoaoFelipe/following{/other_user}',\n",
      "...\n"
     ]
    }
   ],
   "source": [
    "data = response.json()\n",
    "pdffallback.show(data, convert=True)"
   ]
  },
  {
   "cell_type": "markdown",
   "metadata": {},
   "source": [
    "### Gráfico de Barras\n",
    "\n",
    "A partir desta lista, podemos fazer um gráfico de barras de contribuições. <span class=\"notebook-slide-extra\" data-count=\"2\"/>"
   ]
  },
  {
   "cell_type": "code",
   "execution_count": 14,
   "metadata": {},
   "outputs": [
    {
     "data": {
      "text/plain": [
       "{'JoaoFelipe': 347,\n",
       " 'emoreth': 228,\n",
       " 'bschettino': 216,\n",
       " 'leomurta': 142,\n",
       " 'tiagoamaro': 120,\n",
       " 'Carlos-Eduardo-Cabral-da-Cunha': 113,\n",
       " 'lvieirajr': 89,\n",
       " 'braganholo': 69,\n",
       " 'danielpcampagna': 32,\n",
       " 'rdiasferreira': 24,\n",
       " 'bernardocs': 7}"
      ]
     },
     "execution_count": 14,
     "metadata": {},
     "output_type": "execute_result"
    }
   ],
   "source": [
    "contributions = {x[\"login\"]: x[\"contributions\"] for x in data}\n",
    "contributions"
   ]
  },
  {
   "cell_type": "code",
   "execution_count": 15,
   "metadata": {},
   "outputs": [
    {
     "data": {
      "image/png": "[encoded data removed]",
      "text/plain": [
       "<Figure size 432x288 with 1 Axes>"
      ]
     },
     "metadata": {
      "needs_background": "light"
     },
     "output_type": "display_data"
    }
   ],
   "source": [
    "import matplotlib.pyplot as plt\n",
    "import numpy as np\n",
    "%matplotlib inline\n",
    "labels, values = zip(*contributions.items())\n",
    "indexes = np.arange(len(labels))\n",
    "width = 1\n",
    "plt.barh(indexes, values, width)\n",
    "plt.yticks(indexes, labels)\n",
    "plt.show()"
   ]
  },
  {
   "cell_type": "markdown",
   "metadata": {},
   "source": [
    "Nesse código:\n",
    "\n",
    "- Importamos `matplotlib` e `numpy` para gerar o gráfico\n",
    "- Chamamos `%matplotlib inline` para permitir a visualização da figura\n",
    "- Separamos o dicionário `contributions` em duas listas de `labels` e `values`\n",
    "- Criamos um `arange` de índices\n",
    "- Criamos o gráfico de barras horizontal, usando `barh`\n",
    "- Definimos os ticks de y como sendo os `labels` extraídos anteriormente"
   ]
  },
  {
   "cell_type": "markdown",
   "metadata": {},
   "source": [
    "Podemos acessar também a url de issues. <span class=\"notebook-slide-extra\" data-count=\"3\"/>"
   ]
  },
  {
   "cell_type": "code",
   "execution_count": 16,
   "metadata": {},
   "outputs": [
    {
     "data": {
      "text/plain": [
       "200"
      ]
     },
     "execution_count": 16,
     "metadata": {},
     "output_type": "execute_result"
    }
   ],
   "source": [
    "response = requests.get(SITE + \"repos/gems-uff/sapos/issues\", auth=token_auth)\n",
    "response.status_code"
   ]
  },
  {
   "cell_type": "code",
   "execution_count": 17,
   "metadata": {},
   "outputs": [
    {
     "name": "stdout",
     "output_type": "stream",
     "text": [
      "[{'assignee': None,\n",
      "  'assignees': [],\n",
      "  'author_association': 'CONTRIBUTOR',\n",
      "  'body': 'Deveria ser possível emitir um relatório com as prorrogações '\n",
      "          'concedidas em um determinado mês, e o SAPOS não tem essa '\n",
      "...\n"
     ]
    }
   ],
   "source": [
    "data = response.json()\n",
    "pdffallback.show(data, convert=True)"
   ]
  },
  {
   "cell_type": "code",
   "execution_count": 18,
   "metadata": {},
   "outputs": [
    {
     "data": {
      "text/plain": [
       "30"
      ]
     },
     "execution_count": 18,
     "metadata": {},
     "output_type": "execute_result"
    }
   ],
   "source": [
    "len(data)"
   ]
  },
  {
   "cell_type": "markdown",
   "metadata": {},
   "source": [
    "Por padrão, a API retorna 30 itens por página. Dessa forma. a lista retornou apenas a primeira página de issues. <span class=\"notebook-slide-position\" data-count=\"-1\"/>"
   ]
  },
  {
   "cell_type": "markdown",
   "metadata": {},
   "source": [
    "Podemos acessar a segunda página com o parâmetro `?page=2`. <span class=\"notebook-slide-extra\" data-count=\"3\"/>"
   ]
  },
  {
   "cell_type": "code",
   "execution_count": 19,
   "metadata": {},
   "outputs": [
    {
     "data": {
      "text/plain": [
       "200"
      ]
     },
     "execution_count": 19,
     "metadata": {},
     "output_type": "execute_result"
    }
   ],
   "source": [
    "response = requests.get(SITE + \"repos/gems-uff/sapos/issues?page=2\", auth=token_auth)\n",
    "response.status_code"
   ]
  },
  {
   "cell_type": "code",
   "execution_count": 20,
   "metadata": {},
   "outputs": [
    {
     "name": "stdout",
     "output_type": "stream",
     "text": [
      "[{'assignee': {'avatar_url': 'https://avatars2.githubusercontent.com/u/7855757?v=4',\n",
      "               'events_url': 'https://api.github.com/users/danielpcampagna/events{/privacy}',\n",
      "               'followers_url': 'https://api.github.com/users/danielpcampagna/followers',\n",
      "               'following_url': 'https://api.github.com/users/danielpcampagna/following{/other_user}',\n",
      "               'gists_url': 'https://api.github.com/users/danielpcampagna/gists{/gist_id}',\n",
      "...\n"
     ]
    }
   ],
   "source": [
    "data2 = response.json()\n",
    "pdffallback.show(data2, convert=True)"
   ]
  },
  {
   "cell_type": "code",
   "execution_count": 21,
   "metadata": {},
   "outputs": [
    {
     "data": {
      "text/plain": [
       "11"
      ]
     },
     "execution_count": 21,
     "metadata": {},
     "output_type": "execute_result"
    }
   ],
   "source": [
    "len(data2)"
   ]
  },
  {
   "cell_type": "markdown",
   "metadata": {},
   "source": [
    "Podemos formar uma lista com todas as issues abertas. <span class=\"notebook-slide-extra\" data-count=\"1\"/>"
   ]
  },
  {
   "cell_type": "code",
   "execution_count": 22,
   "metadata": {},
   "outputs": [],
   "source": [
    "open_issues = data + data2"
   ]
  },
  {
   "cell_type": "markdown",
   "metadata": {},
   "source": [
    "Essas são apenas as issues abertas. Para pegarmos as issues fechadas, precisamos definir `state=closed`. Podemos aproveitar e definir também `per_page=100` (limite máximo) e fazer um código para pegar todas as páginas. <span class=\"notebook-slide-extra\" data-count=\"1\"/>"
   ]
  },
  {
   "cell_type": "code",
   "execution_count": 23,
   "metadata": {},
   "outputs": [
    {
     "data": {
      "text/plain": [
       "(262, 3)"
      ]
     },
     "execution_count": 23,
     "metadata": {},
     "output_type": "execute_result"
    }
   ],
   "source": [
    "should_continue = True\n",
    "page = 1\n",
    "closed_issues = []\n",
    "while should_continue:\n",
    "    response = requests.get(SITE + \"repos/gems-uff/sapos/issues?page={}&per_page=100&state=closed\".format(page), auth=token_auth)\n",
    "    if response.status_code != 200:\n",
    "        print(\"Fail:\", response.status_code)\n",
    "        break\n",
    "    data = response.json()\n",
    "    closed_issues += data\n",
    "    if len(data) < 100:\n",
    "        should_continue = False\n",
    "    page += 1\n",
    "len(closed_issues), page - 1"
   ]
  },
  {
   "cell_type": "markdown",
   "metadata": {},
   "source": [
    "Foram encontradas 262 issues em 3 páginas. <span class=\"notebook-slide-scroll\" data-position=\"-1\"/>"
   ]
  },
  {
   "cell_type": "markdown",
   "metadata": {},
   "source": [
    "Agora podemos fazer um gráfico que mostre a evolução de issues abertas ao longo do tempo. \n",
    "\n",
    "Para fazer esse gráfico, primeiro precisamos combinar as issues e descobrir qual foi a data da issue mais antiga. <span class=\"notebook-slide-extra\" data-count=\"1\"/>"
   ]
  },
  {
   "cell_type": "code",
   "execution_count": 24,
   "metadata": {},
   "outputs": [
    {
     "data": {
      "text/plain": [
       "datetime.datetime(2013, 6, 29, 15, 23, 48, tzinfo=tzutc())"
      ]
     },
     "execution_count": 24,
     "metadata": {},
     "output_type": "execute_result"
    }
   ],
   "source": [
    "import dateutil.parser\n",
    "\n",
    "all_issues = open_issues + closed_issues\n",
    "oldest_issue = min(\n",
    "    all_issues, \n",
    "    key=lambda x: dateutil.parser.parse(x[\"created_at\"])\n",
    ")\n",
    "\n",
    "oldest_date = dateutil.parser.parse(oldest_issue[\"created_at\"])\n",
    "oldest_date"
   ]
  },
  {
   "cell_type": "markdown",
   "metadata": {},
   "source": [
    "A partir desta data, podemos criar um range de dias até hoje para ser o nosso índice do gráfico e um array de zeros do `numpy` para acumularmos a quantidade de issues abertas. <span class=\"notebook-slide-extra\" data-count=\"1\"/>"
   ]
  },
  {
   "cell_type": "code",
   "execution_count": 25,
   "metadata": {},
   "outputs": [
    {
     "name": "stdout",
     "output_type": "stream",
     "text": [
      "2310\n"
     ]
    }
   ],
   "source": [
    "from datetime import datetime, timezone\n",
    "today = datetime.now(timezone.utc)\n",
    "delta = today - oldest_date\n",
    "days = delta.days\n",
    "print(days)\n",
    "indexes = np.arange(days)\n",
    "values = np.zeros(days)"
   ]
  },
  {
   "cell_type": "markdown",
   "metadata": {},
   "source": [
    "Podemos percorrer todas as issues abertas, incrementando `values` do período em que elas foram abertas até hoje. E podemos percorrer todas as issues fechadas incrementando `values` do período em que elas foram abertas até o período em que elas foram fechadas. <span class=\"notebook-slide-extra\" data-count=\"1\"/>"
   ]
  },
  {
   "cell_type": "code",
   "execution_count": 26,
   "metadata": {},
   "outputs": [],
   "source": [
    "for issue in open_issues:\n",
    "    created_at = dateutil.parser.parse(issue[\"created_at\"])\n",
    "    created_at_index = (created_at - oldest_date).days\n",
    "    values[created_at_index:] += 1\n",
    "    \n",
    "for issue in closed_issues:\n",
    "    created_at = dateutil.parser.parse(issue[\"created_at\"])\n",
    "    created_at_index = (created_at - oldest_date).days\n",
    "    \n",
    "    closed_at = dateutil.parser.parse(issue[\"closed_at\"])\n",
    "    closed_at_index = (closed_at - oldest_date).days\n",
    "    values[created_at_index:closed_at_index] += 1"
   ]
  },
  {
   "cell_type": "markdown",
   "metadata": {},
   "source": [
    "Já é possível plotar o gráfico desta forma, mas o entendimento dos eixos ainda não é o ideal. <span class=\"notebook-slide-extra\" data-count=\"1\"/>"
   ]
  },
  {
   "cell_type": "code",
   "execution_count": 27,
   "metadata": {},
   "outputs": [
    {
     "data": {
      "text/plain": [
       "[<matplotlib.lines.Line2D at 0x7ff520c36128>]"
      ]
     },
     "execution_count": 27,
     "metadata": {},
     "output_type": "execute_result"
    },
    {
     "data": {
      "image/png": "[encoded data removed]",
      "text/plain": [
       "<Figure size 432x288 with 1 Axes>"
      ]
     },
     "metadata": {
      "needs_background": "light"
     },
     "output_type": "display_data"
    }
   ],
   "source": [
    "plt.plot(indexes, values)"
   ]
  },
  {
   "cell_type": "markdown",
   "metadata": {},
   "source": [
    "Precisamos definir quais são os anos no eixo x. <span class=\"notebook-slide-extra\" data-count=\"1\"/>"
   ]
  },
  {
   "cell_type": "code",
   "execution_count": 28,
   "metadata": {},
   "outputs": [
    {
     "data": {
      "image/png": "[encoded data removed]",
      "text/plain": [
       "<Figure size 432x288 with 1 Axes>"
      ]
     },
     "metadata": {
      "needs_background": "light"
     },
     "output_type": "display_data"
    }
   ],
   "source": [
    "from math import ceil\n",
    "labels = [datetime(2013 + i, 1, 1, tzinfo=timezone.utc) for i in range(ceil(delta.days / 365))]\n",
    "label_indexes = [(label - oldest_date).days for label in labels]\n",
    "label_years = [label.year for label in labels]\n",
    "plt.xticks(label_indexes, label_years)\n",
    "plt.plot(indexes, values)\n",
    "plt.show()"
   ]
  },
  {
   "cell_type": "markdown",
   "metadata": {},
   "source": [
    "Também podemos definir o que é cada eixo. <span class=\"notebook-slide-extra\" data-count=\"1\"/>"
   ]
  },
  {
   "cell_type": "code",
   "execution_count": 29,
   "metadata": {},
   "outputs": [
    {
     "data": {
      "image/png": "[encoded data removed]",
      "text/plain": [
       "<Figure size 432x288 with 1 Axes>"
      ]
     },
     "metadata": {
      "needs_background": "light"
     },
     "output_type": "display_data"
    }
   ],
   "source": [
    "plt.xticks(label_indexes, label_years)\n",
    "plt.xlabel(\"Time\")\n",
    "plt.ylabel(\"Open Issues\")\n",
    "plt.plot(indexes, values)\n",
    "plt.show()"
   ]
  },
  {
   "cell_type": "markdown",
   "metadata": {},
   "source": [
    "Issues podem ter diversos labels. Agora vamos fazer um gráfico que mostre barras estacadas com a evolução de cada tipo de issue. <span class=\"notebook-slide-extra\" data-count=\"1\"/>"
   ]
  },
  {
   "cell_type": "code",
   "execution_count": 30,
   "metadata": {},
   "outputs": [],
   "source": [
    "from collections import defaultdict\n",
    "values = defaultdict(lambda: np.zeros(days))\n",
    "\n",
    "for issue in open_issues:\n",
    "    created_at = dateutil.parser.parse(issue[\"created_at\"])\n",
    "    created_at_index = (created_at - oldest_date).days\n",
    "    for label in issue[\"labels\"]:\n",
    "        values[label[\"name\"]][created_at_index:] += 1\n",
    "    if not issue[\"labels\"]:\n",
    "        values[\"no-label\"][created_at_index:] += 1\n",
    "        \n",
    "for issue in closed_issues:\n",
    "    created_at = dateutil.parser.parse(issue[\"created_at\"])\n",
    "    created_at_index = (created_at - oldest_date).days\n",
    "    \n",
    "    closed_at = dateutil.parser.parse(issue[\"closed_at\"])\n",
    "    closed_at_index = (closed_at - oldest_date).days\n",
    "    for label in issue[\"labels\"]:\n",
    "        values[label[\"name\"]][created_at_index:closed_at_index] += 1\n",
    "    if not issue[\"labels\"]:\n",
    "        values[\"no-label\"][created_at_index:closed_at_index] += 1\n",
    "        \n"
   ]
  },
  {
   "cell_type": "code",
   "execution_count": 31,
   "metadata": {},
   "outputs": [
    {
     "data": {
      "image/png": "[encoded data removed]",
      "text/plain": [
       "<Figure size 432x288 with 1 Axes>"
      ]
     },
     "metadata": {
      "needs_background": "light"
     },
     "output_type": "display_data"
    }
   ],
   "source": [
    "bottom = np.zeros(days)\n",
    "legend_color = []\n",
    "legend_text = []\n",
    "for label, yvalues in values.items():\n",
    "    if not label[0].isdigit(): # Exclui tags de versões\n",
    "        ax = plt.bar(indexes, yvalues, 1,\n",
    "                     bottom=bottom)\n",
    "        legend_color.append(ax[0])\n",
    "        bottom += yvalues\n",
    "        legend_text.append(label)\n",
    "        \n",
    "plt.xticks(label_indexes, label_years)\n",
    "plt.xlabel(\"Time\")\n",
    "plt.ylabel(\"Open Issues By Type\")\n",
    "plt.legend(legend_color, legend_text)\n",
    "plt.show()"
   ]
  },
  {
   "cell_type": "markdown",
   "metadata": {},
   "source": [
    "## Exercicio 6\n",
    "\n",
    "Crie um gráfico de linhas que mostre apenas issues do tipo bug. <span class=\"notebook-slide-extra\" data-count=\"1\"/>"
   ]
  },
  {
   "cell_type": "code",
   "execution_count": null,
   "metadata": {},
   "outputs": [],
   "source": [
    "...\n",
    "\n",
    "plt.xlabel(\"Time\")\n",
    "plt.ylabel(\"Open Bug Issues\")\n",
    "plt.show()"
   ]
  },
  {
   "cell_type": "markdown",
   "metadata": {},
   "source": [
    "## Exercicio 7\n",
    "\n",
    "Crie um gráfico de barras para mostrar a participação de usuários em cada issue. Considere o atributo `user`. <span class=\"notebook-slide-extra\" data-count=\"2\"/>"
   ]
  },
  {
   "cell_type": "code",
   "execution_count": null,
   "metadata": {},
   "outputs": [],
   "source": [
    "..."
   ]
  },
  {
   "cell_type": "code",
   "execution_count": null,
   "metadata": {},
   "outputs": [],
   "source": [
    "...\n",
    "\n",
    "plt.xlabel(\"Time\")\n",
    "plt.ylabel(\"Open Issues By User\")\n",
    "plt.legend(\n",
    "    legend_color, legend_text,\n",
    "    bbox_to_anchor=(0,1.02,1,0.2), loc=\"lower left\",\n",
    "    mode=\"expand\", borderaxespad=0, ncol=2\n",
    ")\n",
    "plt.show()"
   ]
  },
  {
   "cell_type": "markdown",
   "metadata": {},
   "source": [
    "## Exercicio 8\n",
    "\n",
    "Filtre o gráfico do total de issues abertas para mostrar apenas o ano 2014. <span class=\"notebook-slide-extra\" data-count=\"2\"/>"
   ]
  },
  {
   "cell_type": "code",
   "execution_count": null,
   "metadata": {},
   "outputs": [],
   "source": [
    "yfirst = datetime(2014, 1, 1, tzinfo=timezone.utc)\n",
    "ylast = datetime(2015, 1, 1, tzinfo=timezone.utc)\n",
    "\n",
    "deltadays = (ylast - yfirst).days\n",
    "values = np.zeros(deltadays)\n",
    "indexes = np.arange(deltadays)\n",
    "\n",
    "..."
   ]
  },
  {
   "cell_type": "code",
   "execution_count": null,
   "metadata": {},
   "outputs": [],
   "source": [
    "labels = [datetime(2014, i + 1, 1, tzinfo=timezone.utc) for i in range(12)]\n",
    "label_indexes = [(label - yfirst).days for label in labels]\n",
    "label_years = [label.month for label in labels]\n",
    "plt.xticks(label_indexes, label_years)\n",
    "plt.plot(indexes, values)\n",
    "plt.show()"
   ]
  },
  {
   "cell_type": "markdown",
   "metadata": {},
   "source": [
    "Continua: [7.API.v4.pdf](7.API.v4.pdf)"
   ]
  }
 ],
 "metadata": {
  "kernelspec": {
   "display_name": "Python 3",
   "language": "python",
   "name": "python3"
  },
  "language_info": {
   "codemirror_mode": {
    "name": "ipython",
    "version": 3
   },
   "file_extension": ".py",
   "mimetype": "text/x-python",
   "name": "python",
   "nbconvert_exporter": "python",
   "pygments_lexer": "ipython3",
   "version": "3.7.3"
  },
  "toc": {
   "base_numbering": 1,
   "nav_menu": {},
   "number_sections": false,
   "sideBar": true,
   "skip_h1_title": false,
   "title_cell": "Table of Contents",
   "title_sidebar": "Contents",
   "toc_cell": false,
   "toc_position": {},
   "toc_section_display": true,
   "toc_window_display": true
  }
 },
 "nbformat": 4,
 "nbformat_minor": 2
}
