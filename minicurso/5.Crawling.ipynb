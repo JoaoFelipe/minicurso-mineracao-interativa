{
 "cells": [
  {
   "cell_type": "markdown",
   "metadata": {},
   "source": [
    "Para entrar no modo apresentação, execute a seguinte célula e pressione `-`"
   ]
  },
  {
   "cell_type": "code",
   "execution_count": 1,
   "metadata": {},
   "outputs": [
    {
     "data": {
      "application/javascript": [
       "\n",
       "\n",
       "var TITLE_PREFIX = \"Mineração Interativa - \" + IPython.notebook.get_notebook_name()\n",
       "\n",
       "function scrollToCell(cell) {\n",
       "    $('#site').animate({\n",
       "        scrollTop: cell.element.position().top\n",
       "    }, 500);\n",
       "    \n",
       "}\n",
       "function scrollToSelected() {\n",
       "    var cell = IPython.notebook.get_selected_cell()\n",
       "    scrollToCell(cell);\n",
       "    cell.focus_cell();\n",
       "}\n",
       "\n",
       "function selectCell(index, execute) {\n",
       "    var cells = IPython.notebook.get_cells();\n",
       "    IPython.notebook.select(index);\n",
       "    var cell = IPython.notebook.get_selected_cell();\n",
       "    cell.element.toggle(true);\n",
       "\n",
       "    var rx = /# skip-execution/g;\n",
       "    var match = rx.exec(cell.get_text());\n",
       "    if (cell.cell_type == \"code\" && match == undefined && execute) {\n",
       "        cell.execute();\n",
       "    }\n",
       "    \n",
       "    \n",
       "    if (cell.cell_type == \"markdown\") {\n",
       "        var header = $(cell.get_rendered()).filter(\"h1, h2, h3, h4, h5, h6\");\n",
       "        if (header.length > 0) {\n",
       "            var text = $(header[header.length - 1]).clone().children().remove().end().text();\n",
       "            $(\"#current-title\").text(TITLE_PREFIX + \" - \" + text);\n",
       "        } else {\n",
       "            header = $(cell.get_rendered()).find(\"h1, h2, h3, h4, h5, h6\");\n",
       "            if (header.length > 0) {\n",
       "                var text = $(header[header.length - 1]).clone().children().remove().end().text();\n",
       "                $(\"#current-title\").text(TITLE_PREFIX + \" - \" + text);\n",
       "            }\n",
       "        }\n",
       "    }\n",
       "    \n",
       "    \n",
       "    var scrollIndex = undefined;\n",
       "    rx = /<span class=\"notebook-slide-no-scroll\"\\/>/g;\n",
       "    match = rx.exec(cell.get_text());\n",
       "    if (match == undefined && cell.cell_type == \"markdown\") {\n",
       "        scrollIndex = index;\n",
       "        rx = /<span class=\"notebook-slide-scroll\" data-position=\"(.*)?\"\\/>/g;\n",
       "        match = rx.exec(cell.get_text());\n",
       "        if (match != undefined) {\n",
       "            var n = parseInt(match[1]);\n",
       "            scrollIndex += n;\n",
       "        }\n",
       "        scrollToCell(cells[scrollIndex]);\n",
       "    }\n",
       "\n",
       "    rx = /<span class=\"notebook-slide-extra\" data-count=\"(.*)?\"\\/>/g;\n",
       "    match = rx.exec(cell.get_text());\n",
       "    if (match != undefined) {\n",
       "        var n = parseInt(match[1]);\n",
       "        for (var i = index + 1; i <= index + n; i++) {\n",
       "            cell = cells[i];\n",
       "            cell.element.toggle(true);\n",
       "        }\n",
       "    }\n",
       "\n",
       "    $(\"#current-slide\").text((index + 1) + \"/\" + (cells.length));\n",
       "    \n",
       "}\n",
       "\n",
       "\n",
       "function startSlideMode(found) {\n",
       "    var cells = IPython.notebook.get_cells();\n",
       "    var i = 0;\n",
       "    for (var cell of cells) {\n",
       "        cell.element.toggle(false);\n",
       "    }\n",
       "    for (i = 0; i <= found; i++) {\n",
       "        var cell = cells[i];\n",
       "        cell.element.toggle(true);\n",
       "    }\n",
       "    var cell = cells[cells.length - 1];\n",
       "    cell.element.toggle(true);\n",
       "\n",
       "    $(\".navbar-nav\").toggle(false);\n",
       "    $(\"#slide-top\").remove();\n",
       "    $(\".navbar-collapse\").append(\"<div id='slide-top' style='padding: 6px 20px; text-align: center;'></div>\")\n",
       "    $(\"#slide-top\").append(\"<div  style='float: left;' id='current-slide'>1</div>\")\n",
       "    $(\"#slide-top\").append(\"<div style='display: inline-block; padding: 0 20px;' id='current-title'>\"+ TITLE_PREFIX +\"</div>\")\n",
       "    $(\"#slide-top\").append(\"<div style='display: inline-block; padding: 0 20px; float: right;' id='current-name'>João Felipe Pimentel</div>\")\n",
       "    selectCell(found, false);\n",
       "    document.documentElement.requestFullscreen();\n",
       "}\n",
       "\n",
       "var hide = {\n",
       "    icon: 'fa-eye-slash',\n",
       "    help    : 'Hide all',\n",
       "    help_index : 'zz',\n",
       "    handler : function () {\n",
       "        var found = 0;\n",
       "        var i = 0;\n",
       "        for (var cell of IPython.notebook.get_cells()) {\n",
       "            var rx = /<span class=\"notebook-slide-start\"\\/>/g;\n",
       "            var match = rx.exec(cell.get_text());\n",
       "            if (match) {\n",
       "                found = i;\n",
       "            }\n",
       "            i += 1;\n",
       "        }\n",
       "        startSlideMode(found);\n",
       "    }\n",
       "};\n",
       "\n",
       "var startCurrent = {\n",
       "    icon: 'fa-eye-slash',\n",
       "    help    : 'Start slide mode at current cell',\n",
       "    help_index : 'zz',\n",
       "    handler : function () {\n",
       "        startSlideMode(IPython.notebook.get_selected_index());\n",
       "    }\n",
       "};\n",
       "\n",
       "var show = {\n",
       "    icon: 'fa-eye',\n",
       "    help    : 'Show all',\n",
       "    help_index : 'zz',\n",
       "    handler : function () {\n",
       "        for (var cell of IPython.notebook.get_cells()) {\n",
       "          cell.element.toggle(true);\n",
       "        }\n",
       "        $(\"#slide-top\").remove();\n",
       "        $(\".navbar-nav\").toggle(true);\n",
       "        \n",
       "        document.exitFullscreen();\n",
       "    }\n",
       "};\n",
       "var view = {\n",
       "    icon: 'fa-eye',\n",
       "    help    : 'Show cell',\n",
       "    help_index : 'zz',\n",
       "    handler : function () {\n",
       "        var index = IPython.notebook.get_selected_index();\n",
       "        selectCell(index, false);\n",
       "        IPython.notebook.select(index);\n",
       "        IPython.notebook.get_selected_cell().element.toggle(true);\n",
       "        scrollToSelected();\n",
       "    }\n",
       "};\n",
       "\n",
       "var previous = {\n",
       "    icon: 'fa-arrow-left',\n",
       "    help    : 'Previous slide',\n",
       "    help_index : 'zz',\n",
       "    handler : function () {\n",
       "        var cell = IPython.notebook.get_selected_cell();\n",
       "        cell.element.toggle(false);\n",
       "        var index = IPython.notebook.get_selected_index();\n",
       "        if (cell.cell_type == \"markdown\") {\n",
       "            selectCell(index - 1, false);\n",
       "        }\n",
       "        IPython.notebook.select(index - 1);\n",
       "        IPython.notebook.get_selected_cell().element.toggle(true);\n",
       "        scrollToSelected();\n",
       "    }\n",
       "};\n",
       "var next = {\n",
       "    icon: 'fa-arrow-right',\n",
       "    help    : 'Previous slide',\n",
       "    help_index : 'zz',\n",
       "    handler : function () {\n",
       "        var index = IPython.notebook.get_selected_index();\n",
       "        selectCell(index + 1, true);\n",
       "    }\n",
       "};\n",
       "var prefix = 'slide-notebook';\n",
       "var actions = Jupyter.actions\n",
       "\n",
       "IPython.notebook.keyboard_manager.command_shortcuts.add_shortcut(\n",
       "    '[,[', actions.register(previous, 'previous-slide', prefix)\n",
       ")\n",
       "\n",
       "IPython.notebook.keyboard_manager.command_shortcuts.add_shortcut(\n",
       "    ']', actions.register(next, 'next-slide', prefix)\n",
       ")\n",
       "\n",
       "IPython.notebook.keyboard_manager.command_shortcuts.add_shortcut(\n",
       "    '-', actions.register(hide, 'hide-all', prefix)\n",
       ")\n",
       "IPython.notebook.keyboard_manager.command_shortcuts.add_shortcut(\n",
       "    '=', actions.register(show, 'show-all', prefix)\n",
       ")\n",
       "IPython.notebook.keyboard_manager.command_shortcuts.add_shortcut(\n",
       "    '[,]', actions.register(view, 'show-cell', prefix)\n",
       ")\n",
       "IPython.notebook.keyboard_manager.command_shortcuts.add_shortcut(\n",
       "    '0', actions.register(startCurrent, 'start-current', prefix)\n",
       ")\n"
      ],
      "text/plain": [
       "<IPython.core.display.Javascript object>"
      ]
     },
     "metadata": {},
     "output_type": "display_data"
    }
   ],
   "source": [
    "%reload_ext slide"
   ]
  },
  {
   "cell_type": "markdown",
   "metadata": {},
   "source": [
    "<span class=\"notebook-slide-start\"/>\n",
    "\n",
    "# Crawling\n",
    "\n",
    "Este notebook apresenta os seguintes tópicos:\n",
    "\n",
    "- [Crawling](#Crawling)\n",
    "- [Exercício 5](#Exerc%C3%ADcio-5)\n"
   ]
  },
  {
   "cell_type": "markdown",
   "metadata": {},
   "source": [
    "Nesta seção, faremos requisições da página inicial de um repositório no GitHub e tentaremos extrair informações dela.\n",
    "\n",
    "Lembrar de iniciar o servidor de proxy:\n",
    "\n",
    "```bash\n",
    "python proxy.py\n",
    "```"
   ]
  },
  {
   "cell_type": "markdown",
   "metadata": {},
   "source": [
    "A página usada é a mesma que usamos para mostrar requisição com requests. Ou seja, podemos usar o mesmo código para fazer a requisição. <span class=\"notebook-slide-extra\" data-count=\"1\"/>"
   ]
  },
  {
   "cell_type": "code",
   "execution_count": 2,
   "metadata": {},
   "outputs": [
    {
     "data": {
      "text/plain": [
       "200"
      ]
     },
     "execution_count": 2,
     "metadata": {},
     "output_type": "execute_result"
    }
   ],
   "source": [
    "import requests\n",
    "SITE = \"http://localhost:5000/\" # Se não usar o proxy, alterar para https://github.com/\n",
    "\n",
    "response = requests.get(SITE + \"gems-uff/sapos\")\n",
    "response.status_code"
   ]
  },
  {
   "cell_type": "markdown",
   "metadata": {},
   "source": [
    "O conteúdo do HTML pode ser obtido pelo atributo `response.text`. <span class=\"notebook-slide-extra\" data-count=\"1\"/>"
   ]
  },
  {
   "cell_type": "code",
   "execution_count": 3,
   "metadata": {},
   "outputs": [
    {
     "data": {
      "text/plain": [
       "'\\n\\n\\n\\n\\n\\n<!DOCTYPE html>\\n<html lang=\"en\">\\n  <head>\\n    <meta charset=\"utf-8\">\\n  <link rel=\"dns-prefetch'"
      ]
     },
     "execution_count": 3,
     "metadata": {},
     "output_type": "execute_result"
    }
   ],
   "source": [
    "response.text[:100]"
   ]
  },
  {
   "cell_type": "markdown",
   "metadata": {},
   "source": [
    "Para extrair informações do HTML, podemos usar a biblioteca `BeautifulSoup`. <span class=\"notebook-slide-extra\" data-count=\"1\"/>"
   ]
  },
  {
   "cell_type": "code",
   "execution_count": 4,
   "metadata": {},
   "outputs": [],
   "source": [
    "from bs4 import BeautifulSoup\n",
    "soup = BeautifulSoup(response.text, 'html.parser')"
   ]
  },
  {
   "cell_type": "markdown",
   "metadata": {},
   "source": [
    "Essa célula parseou HTML para o objeto `soup`, que nos permite invocar métodos para buscar elementos do DOM <span class=\"notebook-slide-scroll\" data-position=\"-1\"/>"
   ]
  },
  {
   "cell_type": "markdown",
   "metadata": {},
   "source": [
    "Para descobrirmos o que buscar, podemos usar a função de \"Inspecionar elemento\" do navegador e observar `id`, `class` e elementos que queremos.\n",
    "\n",
    "<img src=\"images/inspectmarked.png\" alt=\"Inspect do Navegador mostrando o elemento que queremos obter\" width=\"auto\"/>"
   ]
  },
  {
   "cell_type": "markdown",
   "metadata": {},
   "source": [
    "Usando o elemento e a classe, podemos usar um seletor do BeautifulSoup para obter o número de estrelas. <span class=\"notebook-slide-extra\" data-count=\"1\"/>"
   ]
  },
  {
   "cell_type": "code",
   "execution_count": 5,
   "metadata": {},
   "outputs": [
    {
     "data": {
      "text/plain": [
       "[<a aria-label=\"6 users are watching this repository\" class=\"social-count\" href=\"/gems-uff/sapos/watchers\">\n",
       "       6\n",
       "     </a>,\n",
       " <a aria-label=\"18 users starred this repository\" class=\"social-count js-social-count\" href=\"/gems-uff/sapos/stargazers\">\n",
       "       18\n",
       "     </a>,\n",
       " <a aria-label=\"11 users forked this repository\" class=\"social-count\" href=\"/gems-uff/sapos/network/members\">\n",
       "       11\n",
       "     </a>]"
      ]
     },
     "execution_count": 5,
     "metadata": {},
     "output_type": "execute_result"
    }
   ],
   "source": [
    "soup.select(\"a.social-count\")"
   ]
  },
  {
   "cell_type": "markdown",
   "metadata": {},
   "source": [
    "O seletor usado trouxe mais elementos do que gostaríamos. Precisamos filtrar ainda mais. Nesse caso, podemos filtrar pela classe `.js-social-count` ou pelo `href`. <span class=\"notebook-slide-scroll\" data-position=\"-1\"/>"
   ]
  },
  {
   "cell_type": "markdown",
   "metadata": {},
   "source": [
    "Pela classe: <span class=\"notebook-slide-extra\" data-count=\"2\"/>"
   ]
  },
  {
   "cell_type": "code",
   "execution_count": 6,
   "metadata": {},
   "outputs": [
    {
     "data": {
      "text/plain": [
       "[<a aria-label=\"18 users starred this repository\" class=\"social-count js-social-count\" href=\"/gems-uff/sapos/stargazers\">\n",
       "       18\n",
       "     </a>]"
      ]
     },
     "execution_count": 6,
     "metadata": {},
     "output_type": "execute_result"
    }
   ],
   "source": [
    "soup.select(\"a.social-count.js-social-count\")"
   ]
  },
  {
   "cell_type": "code",
   "execution_count": 7,
   "metadata": {},
   "outputs": [
    {
     "data": {
      "text/plain": [
       "'18 estrelas'"
      ]
     },
     "execution_count": 7,
     "metadata": {},
     "output_type": "execute_result"
    }
   ],
   "source": [
    "_[0].text.strip() + \" estrelas\""
   ]
  },
  {
   "cell_type": "markdown",
   "metadata": {},
   "source": [
    "Pelo href terminado em `stargazers`: <span class=\"notebook-slide-extra\" data-count=\"2\"/>"
   ]
  },
  {
   "cell_type": "code",
   "execution_count": 8,
   "metadata": {},
   "outputs": [
    {
     "data": {
      "text/plain": [
       "[<a aria-label=\"18 users starred this repository\" class=\"social-count js-social-count\" href=\"/gems-uff/sapos/stargazers\">\n",
       "       18\n",
       "     </a>]"
      ]
     },
     "execution_count": 8,
     "metadata": {},
     "output_type": "execute_result"
    }
   ],
   "source": [
    "soup.select('a.social-count[href$=\"stargazers\"]')"
   ]
  },
  {
   "cell_type": "code",
   "execution_count": 9,
   "metadata": {},
   "outputs": [
    {
     "data": {
      "text/plain": [
       "'18 estrelas'"
      ]
     },
     "execution_count": 9,
     "metadata": {},
     "output_type": "execute_result"
    }
   ],
   "source": [
    "_[0].text.strip() + \" estrelas\""
   ]
  },
  {
   "cell_type": "markdown",
   "metadata": {},
   "source": [
    "Usando `href`, também podemos obter watchers e forks: <span class=\"notebook-slide-extra\" data-count=\"2\"/>"
   ]
  },
  {
   "cell_type": "code",
   "execution_count": 10,
   "metadata": {},
   "outputs": [
    {
     "data": {
      "text/plain": [
       "'6 watchers'"
      ]
     },
     "execution_count": 10,
     "metadata": {},
     "output_type": "execute_result"
    }
   ],
   "source": [
    "soup.select('a.social-count[href$=\"watchers\"]')[0].text.strip() + \" watchers\""
   ]
  },
  {
   "cell_type": "code",
   "execution_count": 11,
   "metadata": {},
   "outputs": [
    {
     "data": {
      "text/plain": [
       "'11 forks'"
      ]
     },
     "execution_count": 11,
     "metadata": {},
     "output_type": "execute_result"
    }
   ],
   "source": [
    "soup.select('a.social-count[href$=\"members\"]')[0].text.strip() + \" forks\""
   ]
  },
  {
   "cell_type": "markdown",
   "metadata": {},
   "source": [
    "## Exercício 5\n",
    "\n",
    "Obtenha a lista de arquivos e diretórios da raiz do repositório com seus respectivos commits. <span class=\"notebook-slide-extra\" data-count=\"1\"/>"
   ]
  },
  {
   "cell_type": "code",
   "execution_count": 20,
   "metadata": {},
   "outputs": [
    {
     "data": {
      "text/html": [
       "<tr class=\"js-navigation-item\">\n",
       "<td class=\"icon\">\n",
       "<svg aria-label=\"directory\" class=\"octicon octicon-file-directory\" height=\"16\" role=\"img\" version=\"1.1\" viewbox=\"0 0 14 16\" width=\"14\"><path d=\"M13 4H7V3c0-.66-.31-1-1-1H1c-.55 0-1 .45-1 1v10c0 .55.45 1 1 1h12c.55 0 1-.45 1-1V5c0-.55-.45-1-1-1zM6 4H1V3h5v1z\" fill-rule=\"evenodd\"></path></svg>\n",
       "<img alt=\"\" class=\"spinner\" height=\"16\" src=\"https://github.githubassets.com/images/spinners/octocat-spinner-32.gif\" width=\"16\">\n",
       "</img></td>\n",
       "<td class=\"content\">\n",
       "<span class=\"css-truncate css-truncate-target\"><a class=\"js-navigation-open\" href=\"/gems-uff/sapos/tree/master/app\" id=\"d2a57dc1d883fd21fb9951699df71cc7-50587088c7ed338fb8689398cfa7994ea5b739af\" title=\"app\">app</a></span>\n",
       "</td>\n",
       "<td class=\"message\">\n",
       "<span class=\"css-truncate css-truncate-target\">\n",
       "<a class=\"issue-link js-issue-link\" data-error-text=\"Failed to load issue title\" data-hovercard-type=\"issue\" data-hovercard-url=\"/gems-uff/sapos/issues/293/hovercard\" data-id=\"442869139\" data-permission-text=\"Issue title is private\" data-url=\"https://github.com/gems-uff/sapos/issues/293\" href=\"https://github.com/gems-uff/sapos/issues/293\">#293</a> <a class=\"link-gray\" data-pjax=\"true\" href=\"/gems-uff/sapos/commit/83bb2570fabf704062c34e091a66ea73aba7755c\" title=\"#293 fixing scholarship_duration boundaries validation in scholarships page\">fixing scholarship_duration boundaries validation in scholarship…</a>\n",
       "</span>\n",
       "</td>\n",
       "<td class=\"age\">\n",
       "<span class=\"css-truncate css-truncate-target\"><time-ago class=\"no-wrap\" datetime=\"2019-06-01T00:30:43Z\">Jun 1, 2019</time-ago></span>\n",
       "</td>\n",
       "</tr>\n",
       "<tr class=\"js-navigation-item\">\n",
       "<td class=\"icon\">\n",
       "<svg aria-label=\"directory\" class=\"octicon octicon-file-directory\" height=\"16\" role=\"img\" version=\"1.1\" viewbox=\"0 0 14 16\" width=\"14\"><path d=\"M13 4H7V3c0-.66-.31-1-1-1H1c-.55 0-1 .45-1 1v10c0 .55.45 1 1 1h12c.55 0 1-.45 1-1V5c0-.55-.45-1-1-1zM6 4H1V3h5v1z\" fill-rule=\"evenodd\"></path></svg>\n",
       "<img alt=\"\" class=\"spinner\" height=\"16\" src=\"https://github.githubassets.com/images/spinners/octocat-spinner-32.gif\" width=\"16\">\n",
       "</img></td>\n",
       "<td class=\"content\">\n",
       "<span class=\"css-truncate css-truncate-target\"><a class=\"js-navigation-open\" href=\"/gems-uff/sapos/tree/master/bin\" id=\"c1111bd512b29e821b120b86446026b8-d55524997d6107eba54a24e8a011956c9299c581\" title=\"bin\">bin</a></span>\n",
       "</td>\n",
       "<td class=\"message\">\n",
       "<span class=\"css-truncate css-truncate-target\">\n",
       "<a class=\"link-gray\" data-pjax=\"true\" href=\"/gems-uff/sapos/commit/099f05a532a543805a5bd430777ff5eb95a8d0de\" title=\"Upgrading rails and gems\">Upgrading rails and gems</a>\n",
       "</span>\n",
       "</td>\n",
       "<td class=\"age\">\n",
       "<span class=\"css-truncate css-truncate-target\"><time-ago class=\"no-wrap\" datetime=\"2015-02-08T10:53:24Z\">Feb 8, 2015</time-ago></span>\n",
       "</td>\n",
       "</tr>\n",
       "<tr class=\"js-navigation-item\">\n",
       "<td class=\"icon\">\n",
       "<svg aria-label=\"directory\" class=\"octicon octicon-file-directory\" height=\"16\" role=\"img\" version=\"1.1\" viewbox=\"0 0 14 16\" width=\"14\"><path d=\"M13 4H7V3c0-.66-.31-1-1-1H1c-.55 0-1 .45-1 1v10c0 .55.45 1 1 1h12c.55 0 1-.45 1-1V5c0-.55-.45-1-1-1zM6 4H1V3h5v1z\" fill-rule=\"evenodd\"></path></svg>\n",
       "<img alt=\"\" class=\"spinner\" height=\"16\" src=\"https://github.githubassets.com/images/spinners/octocat-spinner-32.gif\" width=\"16\">\n",
       "</img></td>\n",
       "<td class=\"content\">\n",
       "<span class=\"css-truncate css-truncate-target\"><a class=\"js-navigation-open\" href=\"/gems-uff/sapos/tree/master/config\" id=\"2245023265ae4cf87d02c8b6ba991139-f9c03a81188d385d25ec12b634d20b489bb0e6e1\" title=\"config\">config</a></span>\n",
       "</td>\n",
       "<td class=\"message\">\n",
       "<span class=\"css-truncate css-truncate-target\">\n",
       "<a class=\"issue-link js-issue-link\" data-error-text=\"Failed to load issue title\" data-hovercard-type=\"issue\" data-hovercard-url=\"/gems-uff/sapos/issues/293/hovercard\" data-id=\"442869139\" data-permission-text=\"Issue title is private\" data-url=\"https://github.com/gems-uff/sapos/issues/293\" href=\"https://github.com/gems-uff/sapos/issues/293\">#293</a> <a class=\"link-gray\" data-pjax=\"true\" href=\"/gems-uff/sapos/commit/e7a53305df24d15bf3443c129d3b3ebb497c216f\" title=\"#293 adding tests to spec of scholarship to validate scholarship_duration date boundaries\">adding tests to spec of scholarship to validate scholarship_dura…</a>\n",
       "</span>\n",
       "</td>\n",
       "<td class=\"age\">\n",
       "<span class=\"css-truncate css-truncate-target\"><time-ago class=\"no-wrap\" datetime=\"2019-06-01T00:22:48Z\">Jun 1, 2019</time-ago></span>\n",
       "</td>\n",
       "</tr>\n",
       "<tr class=\"js-navigation-item\">\n",
       "<td class=\"icon\">\n",
       "<svg aria-label=\"directory\" class=\"octicon octicon-file-directory\" height=\"16\" role=\"img\" version=\"1.1\" viewbox=\"0 0 14 16\" width=\"14\"><path d=\"M13 4H7V3c0-.66-.31-1-1-1H1c-.55 0-1 .45-1 1v10c0 .55.45 1 1 1h12c.55 0 1-.45 1-1V5c0-.55-.45-1-1-1zM6 4H1V3h5v1z\" fill-rule=\"evenodd\"></path></svg>\n",
       "<img alt=\"\" class=\"spinner\" height=\"16\" src=\"https://github.githubassets.com/images/spinners/octocat-spinner-32.gif\" width=\"16\"/>\n",
       "</td>\n",
       "<td class=\"content\">\n",
       "<span class=\"css-truncate css-truncate-target\"><a class=\"js-navigation-open\" href=\"/gems-uff/sapos/tree/master/db\" id=\"d77d5e503ad1439f585ac494268b351b-b601cf23d1c7b44a831e207b176716271c143982\" title=\"db\">db</a></span>\n",
       "</td>\n",
       "<td class=\"message\">\n",
       "<span class=\"css-truncate css-truncate-target\">\n",
       "<a class=\"link-gray\" data-pjax=\"true\" href=\"/gems-uff/sapos/commit/ac1ead04e291927e6d348d2c719d54e045446139\" title=\"Adapting migration files to work with new Rails version\">Adapting migration files to work with new Rails version</a>\n",
       "</span>\n",
       "</td>\n",
       "<td class=\"age\">\n",
       "<span class=\"css-truncate css-truncate-target\"><time-ago class=\"no-wrap\" datetime=\"2018-04-11T00:38:29Z\">Apr 11, 2018</time-ago></span>\n",
       "</td>\n",
       "</tr>\n",
       "<tr class=\"js-navigation-item\">\n",
       "<td class=\"icon\">\n",
       "<svg aria-label=\"directory\" class=\"octicon octicon-file-directory\" height=\"16\" role=\"img\" version=\"1.1\" viewbox=\"0 0 14 16\" width=\"14\"><path d=\"M13 4H7V3c0-.66-.31-1-1-1H1c-.55 0-1 .45-1 1v10c0 .55.45 1 1 1h12c.55 0 1-.45 1-1V5c0-.55-.45-1-1-1zM6 4H1V3h5v1z\" fill-rule=\"evenodd\"></path></svg>\n",
       "<img alt=\"\" class=\"spinner\" height=\"16\" src=\"https://github.githubassets.com/images/spinners/octocat-spinner-32.gif\" width=\"16\"/>\n",
       "</td>\n",
       "<td class=\"content\">\n",
       "<span class=\"css-truncate css-truncate-target\"><a class=\"js-navigation-open\" href=\"/gems-uff/sapos/tree/master/doc\" id=\"9a09b4dfda82e3e665e31092d1c3ec8d-9a2795495092823c9a1c8112fc6f54994793347f\" title=\"doc\">doc</a></span>\n",
       "</td>\n",
       "<td class=\"message\">\n",
       "<span class=\"css-truncate css-truncate-target\">\n",
       "<a class=\"link-gray\" data-pjax=\"true\" href=\"/gems-uff/sapos/commit/293dfc5fce25e1f9074cd21ea14008e0c223cea8\" title=\"Resizing again the rubymine logo.\">Resizing again the rubymine logo.</a>\n",
       "</span>\n",
       "</td>\n",
       "<td class=\"age\">\n",
       "<span class=\"css-truncate css-truncate-target\"><time-ago class=\"no-wrap\" datetime=\"2018-04-11T18:36:44Z\">Apr 11, 2018</time-ago></span>\n",
       "</td>\n",
       "</tr>"
      ],
      "text/plain": [
       "<IPython.core.display.HTML object>"
      ]
     },
     "execution_count": 20,
     "metadata": {},
     "output_type": "execute_result"
    }
   ],
   "source": [
    "tr = soup.select(\"table.files tr.js-navigation-item\")\n",
    "html = \"\\n\".join(map(str, tr[:5]))\n",
    "from IPython.display import HTML\n",
    "HTML(html)"
   ]
  },
  {
   "cell_type": "code",
   "execution_count": 25,
   "metadata": {},
   "outputs": [
    {
     "data": {
      "text/plain": [
       "'app'"
      ]
     },
     "execution_count": 25,
     "metadata": {},
     "output_type": "execute_result"
    }
   ],
   "source": [
    "tr[0].select('td.content a')[0].text"
   ]
  },
  {
   "cell_type": "code",
   "execution_count": 37,
   "metadata": {},
   "outputs": [
    {
     "data": {
      "text/plain": [
       "'83bb2570fabf704062c34e091a66ea73aba7755c'"
      ]
     },
     "execution_count": 37,
     "metadata": {},
     "output_type": "execute_result"
    }
   ],
   "source": [
    "(tr[0].select('td.message a.link-gray')[0]\n",
    " .attrs['href']\n",
    " .split('/')[-1]\n",
    ")"
   ]
  },
  {
   "cell_type": "code",
   "execution_count": 38,
   "metadata": {},
   "outputs": [
    {
     "data": {
      "text/plain": [
       "{'app': '83bb2570fabf704062c34e091a66ea73aba7755c',\n",
       " 'bin': '099f05a532a543805a5bd430777ff5eb95a8d0de',\n",
       " 'config': 'e7a53305df24d15bf3443c129d3b3ebb497c216f',\n",
       " 'db': 'ac1ead04e291927e6d348d2c719d54e045446139',\n",
       " 'doc': '293dfc5fce25e1f9074cd21ea14008e0c223cea8',\n",
       " 'lib': 'b0cffa9fe39ab27c546bfd5e5fdfcfd78d1c909e',\n",
       " 'public': '099f05a532a543805a5bd430777ff5eb95a8d0de',\n",
       " 'script': '7aed384a68f2e9c67dc00df6a0ab3d97670afad6',\n",
       " 'spec': 'e7a53305df24d15bf3443c129d3b3ebb497c216f',\n",
       " 'test': '9254d7e524e829170805f0325ae0459dd6d1f979',\n",
       " 'wiki': '455816cf36fe468f7fb54142d4e2e870d91df3b1',\n",
       " '.gitignore': 'b7fc89c74e5bb5fa977c9b364a1cc33da162cfb6',\n",
       " '.mailmap': '5fcd366a8289fdf937d839f292d2294374983c8a',\n",
       " '.rspec': '8143c1aba4d3a06f83f09c0c1b9ec778e9ee9fd2',\n",
       " '.travis.yml': '51561548b3f192a93e0456ba41a3f778e0e5def0',\n",
       " 'Gemfile': 'd3e4307771d6e7722cb1bec5c967519e252c00d3',\n",
       " 'Gemfile.lock': 'd3e4307771d6e7722cb1bec5c967519e252c00d3',\n",
       " 'LICENSE': '57b9e09574da97ee43a87a447babcc2a99bdd750',\n",
       " 'README.md': '997544ed41ee5c06d722760ebbb61c997343a583',\n",
       " 'Rakefile': '099f05a532a543805a5bd430777ff5eb95a8d0de',\n",
       " 'config.ru': '099f05a532a543805a5bd430777ff5eb95a8d0de'}"
      ]
     },
     "execution_count": 38,
     "metadata": {},
     "output_type": "execute_result"
    }
   ],
   "source": [
    "file_commit = {}\n",
    "trs = soup.select(\"table.files tr.js-navigation-item\")\n",
    "for tr in trs:\n",
    "    file = tr.select('td.content a')[0].text\n",
    "    commit = (tr.select('td.message a.link-gray')[0]\n",
    "     .attrs['href']\n",
    "     .split('/')[-1]\n",
    "    )\n",
    "    file_commit[file] = commit\n",
    "file_commit"
   ]
  },
  {
   "cell_type": "markdown",
   "metadata": {},
   "source": [
    "Continua: [6.API.v3.ipynb](6.API.v3.ipynb)"
   ]
  },
  {
   "cell_type": "markdown",
   "metadata": {},
   "source": [
    "&nbsp;\n",
    "\n",
    "&nbsp;\n",
    "\n",
    "&nbsp;\n",
    "\n",
    "&nbsp;\n",
    "\n",
    "&nbsp;\n",
    "\n",
    "&nbsp;\n",
    "\n",
    "&nbsp;\n",
    "\n",
    "&nbsp;\n",
    "\n",
    "&nbsp;\n",
    "\n",
    "&nbsp;\n",
    "\n",
    "&nbsp;\n",
    "\n",
    "&nbsp;\n",
    "\n",
    "&nbsp;\n",
    "\n",
    "&nbsp;\n",
    "\n",
    "&nbsp;\n",
    "\n",
    "&nbsp;\n",
    "\n",
    "&nbsp;\n",
    "\n",
    "&nbsp;\n",
    "\n",
    "&nbsp;\n",
    "\n",
    "&nbsp;\n",
    "\n",
    "&nbsp;\n",
    "\n",
    "\n",
    "&nbsp;\n",
    "\n",
    "&nbsp;\n",
    "\n",
    "&nbsp;\n",
    "\n"
   ]
  }
 ],
 "metadata": {
  "kernelspec": {
   "display_name": "Python 3",
   "language": "python",
   "name": "python3"
  },
  "language_info": {
   "codemirror_mode": {
    "name": "ipython",
    "version": 3
   },
   "file_extension": ".py",
   "mimetype": "text/x-python",
   "name": "python",
   "nbconvert_exporter": "python",
   "pygments_lexer": "ipython3",
   "version": "3.7.4"
  },
  "toc": {
   "base_numbering": 1,
   "nav_menu": {},
   "number_sections": true,
   "sideBar": true,
   "skip_h1_title": false,
   "title_cell": "Table of Contents",
   "title_sidebar": "Contents",
   "toc_cell": false,
   "toc_position": {},
   "toc_section_display": true,
   "toc_window_display": false
  }
 },
 "nbformat": 4,
 "nbformat_minor": 2
}
