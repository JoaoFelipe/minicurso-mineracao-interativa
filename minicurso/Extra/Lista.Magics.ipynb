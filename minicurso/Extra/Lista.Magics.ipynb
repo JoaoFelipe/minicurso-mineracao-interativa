{
 "cells": [
  {
   "cell_type": "markdown",
   "metadata": {},
   "source": [
    "Para entrar no modo apresentação, execute a seguinte célula e pressione `-`"
   ]
  },
  {
   "cell_type": "code",
   "execution_count": 1,
   "metadata": {},
   "outputs": [
    {
     "name": "stdout",
     "output_type": "stream",
     "text": [
      "/home/joao/projects/minicurso-mineracao-interativa\n"
     ]
    },
    {
     "data": {
      "application/javascript": [
       "\n",
       "\n",
       "var TITLE_PREFIX = \"Mineração Interativa - \" + IPython.notebook.get_notebook_name()\n",
       "\n",
       "function scrollToCell(cell) {\n",
       "    $('#site').animate({\n",
       "        scrollTop: cell.element.position().top\n",
       "    }, 500);\n",
       "    \n",
       "}\n",
       "function scrollToSelected() {\n",
       "    var cell = IPython.notebook.get_selected_cell()\n",
       "    scrollToCell(cell);\n",
       "    cell.focus_cell();\n",
       "}\n",
       "\n",
       "function selectCell(index, execute) {\n",
       "    var cells = IPython.notebook.get_cells();\n",
       "    IPython.notebook.select(index);\n",
       "    var cell = IPython.notebook.get_selected_cell();\n",
       "    cell.element.toggle(true);\n",
       "\n",
       "    var rx = /# skip-execution/g;\n",
       "    var match = rx.exec(cell.get_text());\n",
       "    if (cell.cell_type == \"code\" && match == undefined && execute) {\n",
       "        cell.execute();\n",
       "    }\n",
       "    \n",
       "    \n",
       "    if (cell.cell_type == \"markdown\") {\n",
       "        var header = $(cell.get_rendered()).filter(\"h1, h2, h3, h4, h5, h6\");\n",
       "        if (header.length > 0) {\n",
       "            var text = $(header[header.length - 1]).clone().children().remove().end().text();\n",
       "            $(\"#current-title\").text(TITLE_PREFIX + \" - \" + text);\n",
       "        } else {\n",
       "            header = $(cell.get_rendered()).find(\"h1, h2, h3, h4, h5, h6\");\n",
       "            if (header.length > 0) {\n",
       "                var text = $(header[header.length - 1]).clone().children().remove().end().text();\n",
       "                $(\"#current-title\").text(TITLE_PREFIX + \" - \" + text);\n",
       "            }\n",
       "        }\n",
       "    }\n",
       "    \n",
       "    \n",
       "    var scrollIndex = undefined;\n",
       "    rx = /<span class=\"notebook-slide-no-scroll\"\\/>/g;\n",
       "    match = rx.exec(cell.get_text());\n",
       "    if (match == undefined && cell.cell_type == \"markdown\") {\n",
       "        scrollIndex = index;\n",
       "        rx = /<span class=\"notebook-slide-scroll\" data-position=\"(.*)?\"\\/>/g;\n",
       "        match = rx.exec(cell.get_text());\n",
       "        if (match != undefined) {\n",
       "            var n = parseInt(match[1]);\n",
       "            scrollIndex += n;\n",
       "        }\n",
       "        scrollToCell(cells[scrollIndex]);\n",
       "    }\n",
       "\n",
       "    rx = /<span class=\"notebook-slide-extra\" data-count=\"(.*)?\"\\/>/g;\n",
       "    match = rx.exec(cell.get_text());\n",
       "    if (match != undefined) {\n",
       "        var n = parseInt(match[1]);\n",
       "        for (var i = index + 1; i <= index + n; i++) {\n",
       "            cell = cells[i];\n",
       "            cell.element.toggle(true);\n",
       "        }\n",
       "    }\n",
       "\n",
       "    $(\"#current-slide\").text((index + 1) + \"/\" + (cells.length));\n",
       "    \n",
       "}\n",
       "\n",
       "\n",
       "function startSlideMode(found) {\n",
       "    var cells = IPython.notebook.get_cells();\n",
       "    var i = 0;\n",
       "    for (var cell of cells) {\n",
       "        cell.element.toggle(false);\n",
       "    }\n",
       "    for (i = 0; i <= found; i++) {\n",
       "        var cell = cells[i];\n",
       "        cell.element.toggle(true);\n",
       "    }\n",
       "    var cell = cells[cells.length - 1];\n",
       "    cell.element.toggle(true);\n",
       "\n",
       "    $(\".navbar-nav\").toggle(false);\n",
       "    $(\"#slide-top\").remove();\n",
       "    $(\".navbar-collapse\").append(\"<div id='slide-top' style='padding: 6px 20px; text-align: center;'></div>\")\n",
       "    $(\"#slide-top\").append(\"<div  style='float: left;' id='current-slide'>1</div>\")\n",
       "    $(\"#slide-top\").append(\"<div style='display: inline-block; padding: 0 20px;' id='current-title'>\"+ TITLE_PREFIX +\"</div>\")\n",
       "    $(\"#slide-top\").append(\"<div style='display: inline-block; padding: 0 20px; float: right;' id='current-name'>João Felipe Pimentel</div>\")\n",
       "    selectCell(found, false);\n",
       "    document.documentElement.requestFullscreen();\n",
       "}\n",
       "\n",
       "var hide = {\n",
       "    icon: 'fa-eye-slash',\n",
       "    help    : 'Hide all',\n",
       "    help_index : 'zz',\n",
       "    handler : function () {\n",
       "        var found = 0;\n",
       "        var i = 0;\n",
       "        for (var cell of IPython.notebook.get_cells()) {\n",
       "            var rx = /<span class=\"notebook-slide-start\"\\/>/g;\n",
       "            var match = rx.exec(cell.get_text());\n",
       "            if (match) {\n",
       "                found = i;\n",
       "            }\n",
       "            i += 1;\n",
       "        }\n",
       "        startSlideMode(found);\n",
       "    }\n",
       "};\n",
       "\n",
       "var startCurrent = {\n",
       "    icon: 'fa-eye-slash',\n",
       "    help    : 'Start slide mode at current cell',\n",
       "    help_index : 'zz',\n",
       "    handler : function () {\n",
       "        startSlideMode(IPython.notebook.get_selected_index());\n",
       "    }\n",
       "};\n",
       "\n",
       "var show = {\n",
       "    icon: 'fa-eye',\n",
       "    help    : 'Show all',\n",
       "    help_index : 'zz',\n",
       "    handler : function () {\n",
       "        for (var cell of IPython.notebook.get_cells()) {\n",
       "          cell.element.toggle(true);\n",
       "        }\n",
       "        $(\"#slide-top\").remove();\n",
       "        $(\".navbar-nav\").toggle(true);\n",
       "        \n",
       "        document.exitFullscreen();\n",
       "    }\n",
       "};\n",
       "var view = {\n",
       "    icon: 'fa-eye',\n",
       "    help    : 'Show cell',\n",
       "    help_index : 'zz',\n",
       "    handler : function () {\n",
       "        var index = IPython.notebook.get_selected_index();\n",
       "        selectCell(index, false);\n",
       "        IPython.notebook.select(index);\n",
       "        IPython.notebook.get_selected_cell().element.toggle(true);\n",
       "        scrollToSelected();\n",
       "    }\n",
       "};\n",
       "\n",
       "var previous = {\n",
       "    icon: 'fa-arrow-left',\n",
       "    help    : 'Previous slide',\n",
       "    help_index : 'zz',\n",
       "    handler : function () {\n",
       "        var cell = IPython.notebook.get_selected_cell();\n",
       "        cell.element.toggle(false);\n",
       "        var index = IPython.notebook.get_selected_index();\n",
       "        if (cell.cell_type == \"markdown\") {\n",
       "            selectCell(index - 1, false);\n",
       "        }\n",
       "        IPython.notebook.select(index - 1);\n",
       "        IPython.notebook.get_selected_cell().element.toggle(true);\n",
       "        scrollToSelected();\n",
       "    }\n",
       "};\n",
       "var next = {\n",
       "    icon: 'fa-arrow-right',\n",
       "    help    : 'Previous slide',\n",
       "    help_index : 'zz',\n",
       "    handler : function () {\n",
       "        var index = IPython.notebook.get_selected_index();\n",
       "        selectCell(index + 1, true);\n",
       "    }\n",
       "};\n",
       "var prefix = 'slide-notebook';\n",
       "var actions = Jupyter.actions\n",
       "\n",
       "IPython.notebook.keyboard_manager.command_shortcuts.add_shortcut(\n",
       "    '[,[', actions.register(previous, 'previous-slide', prefix)\n",
       ")\n",
       "\n",
       "IPython.notebook.keyboard_manager.command_shortcuts.add_shortcut(\n",
       "    ']', actions.register(next, 'next-slide', prefix)\n",
       ")\n",
       "\n",
       "IPython.notebook.keyboard_manager.command_shortcuts.add_shortcut(\n",
       "    '-', actions.register(hide, 'hide-all', prefix)\n",
       ")\n",
       "IPython.notebook.keyboard_manager.command_shortcuts.add_shortcut(\n",
       "    '=', actions.register(show, 'show-all', prefix)\n",
       ")\n",
       "IPython.notebook.keyboard_manager.command_shortcuts.add_shortcut(\n",
       "    '[,]', actions.register(view, 'show-cell', prefix)\n",
       ")\n",
       "IPython.notebook.keyboard_manager.command_shortcuts.add_shortcut(\n",
       "    '0', actions.register(startCurrent, 'start-current', prefix)\n",
       ")\n"
      ],
      "text/plain": [
       "<IPython.core.display.Javascript object>"
      ]
     },
     "metadata": {},
     "output_type": "display_data"
    }
   ],
   "source": [
    "%cd ..\n",
    "%reload_ext slide"
   ]
  },
  {
   "cell_type": "markdown",
   "metadata": {},
   "source": [
    "<span class=\"notebook-slide-start\"/>\n",
    "\n",
    "# Lista Magics do IPython\n",
    "\n",
    "Podemos usar a magic `%lsmagic` para listar quais são todas as magics do IPython, a magic `%magic` para entender como funciona a parte de magics, a magic `%quickref` para ter uma referência rápida de que extensões ao Python o IPython faz. <span class=\"notebook-slide-extra\" data-count=\"1\"/>"
   ]
  },
  {
   "cell_type": "code",
   "execution_count": 2,
   "metadata": {},
   "outputs": [
    {
     "data": {
      "application/json": {
       "cell": {
        "!": "OSMagics",
        "HTML": "Other",
        "SVG": "Other",
        "bash": "Other",
        "capture": "ExecutionMagics",
        "debug": "ExecutionMagics",
        "file": "Other",
        "html": "DisplayMagics",
        "javascript": "DisplayMagics",
        "js": "DisplayMagics",
        "latex": "DisplayMagics",
        "markdown": "DisplayMagics",
        "perl": "Other",
        "prun": "ExecutionMagics",
        "pypy": "Other",
        "python": "Other",
        "python2": "Other",
        "python3": "Other",
        "ruby": "Other",
        "script": "ScriptMagics",
        "sh": "Other",
        "svg": "DisplayMagics",
        "sx": "OSMagics",
        "system": "OSMagics",
        "time": "ExecutionMagics",
        "timeit": "ExecutionMagics",
        "writefile": "OSMagics"
       },
       "line": {
        "alias": "OSMagics",
        "alias_magic": "BasicMagics",
        "autoawait": "AsyncMagics",
        "autocall": "AutoMagics",
        "automagic": "AutoMagics",
        "autosave": "KernelMagics",
        "bookmark": "OSMagics",
        "cat": "Other",
        "cd": "OSMagics",
        "clear": "KernelMagics",
        "colors": "BasicMagics",
        "conda": "PackagingMagics",
        "config": "ConfigMagics",
        "connect_info": "KernelMagics",
        "cp": "Other",
        "debug": "ExecutionMagics",
        "dhist": "OSMagics",
        "dirs": "OSMagics",
        "doctest_mode": "BasicMagics",
        "ed": "Other",
        "edit": "KernelMagics",
        "env": "OSMagics",
        "gui": "BasicMagics",
        "hist": "Other",
        "history": "HistoryMagics",
        "killbgscripts": "ScriptMagics",
        "ldir": "Other",
        "less": "KernelMagics",
        "lf": "Other",
        "lk": "Other",
        "ll": "Other",
        "load": "CodeMagics",
        "load_ext": "ExtensionMagics",
        "loadpy": "CodeMagics",
        "logoff": "LoggingMagics",
        "logon": "LoggingMagics",
        "logstart": "LoggingMagics",
        "logstate": "LoggingMagics",
        "logstop": "LoggingMagics",
        "ls": "Other",
        "lsmagic": "BasicMagics",
        "lx": "Other",
        "macro": "ExecutionMagics",
        "magic": "BasicMagics",
        "man": "KernelMagics",
        "matplotlib": "PylabMagics",
        "mkdir": "Other",
        "more": "KernelMagics",
        "mv": "Other",
        "notebook": "BasicMagics",
        "page": "BasicMagics",
        "pastebin": "CodeMagics",
        "pdb": "ExecutionMagics",
        "pdef": "NamespaceMagics",
        "pdoc": "NamespaceMagics",
        "pfile": "NamespaceMagics",
        "pinfo": "NamespaceMagics",
        "pinfo2": "NamespaceMagics",
        "pip": "PackagingMagics",
        "popd": "OSMagics",
        "pprint": "BasicMagics",
        "precision": "BasicMagics",
        "prun": "ExecutionMagics",
        "psearch": "NamespaceMagics",
        "psource": "NamespaceMagics",
        "pushd": "OSMagics",
        "pwd": "OSMagics",
        "pycat": "OSMagics",
        "pylab": "PylabMagics",
        "qtconsole": "KernelMagics",
        "quickref": "BasicMagics",
        "recall": "HistoryMagics",
        "rehashx": "OSMagics",
        "reload_ext": "ExtensionMagics",
        "rep": "Other",
        "rerun": "HistoryMagics",
        "reset": "NamespaceMagics",
        "reset_selective": "NamespaceMagics",
        "rm": "Other",
        "rmdir": "Other",
        "run": "ExecutionMagics",
        "save": "CodeMagics",
        "sc": "OSMagics",
        "set_env": "OSMagics",
        "store": "StoreMagics",
        "sx": "OSMagics",
        "system": "OSMagics",
        "tb": "ExecutionMagics",
        "time": "ExecutionMagics",
        "timeit": "ExecutionMagics",
        "unalias": "OSMagics",
        "unload_ext": "ExtensionMagics",
        "who": "NamespaceMagics",
        "who_ls": "NamespaceMagics",
        "whos": "NamespaceMagics",
        "xdel": "NamespaceMagics",
        "xmode": "BasicMagics"
       }
      },
      "text/plain": [
       "Available line magics:\n",
       "%alias  %alias_magic  %autoawait  %autocall  %automagic  %autosave  %bookmark  %cat  %cd  %clear  %colors  %conda  %config  %connect_info  %cp  %debug  %dhist  %dirs  %doctest_mode  %ed  %edit  %env  %gui  %hist  %history  %killbgscripts  %ldir  %less  %lf  %lk  %ll  %load  %load_ext  %loadpy  %logoff  %logon  %logstart  %logstate  %logstop  %ls  %lsmagic  %lx  %macro  %magic  %man  %matplotlib  %mkdir  %more  %mv  %notebook  %page  %pastebin  %pdb  %pdef  %pdoc  %pfile  %pinfo  %pinfo2  %pip  %popd  %pprint  %precision  %prun  %psearch  %psource  %pushd  %pwd  %pycat  %pylab  %qtconsole  %quickref  %recall  %rehashx  %reload_ext  %rep  %rerun  %reset  %reset_selective  %rm  %rmdir  %run  %save  %sc  %set_env  %store  %sx  %system  %tb  %time  %timeit  %unalias  %unload_ext  %who  %who_ls  %whos  %xdel  %xmode\n",
       "\n",
       "Available cell magics:\n",
       "%%!  %%HTML  %%SVG  %%bash  %%capture  %%debug  %%file  %%html  %%javascript  %%js  %%latex  %%markdown  %%perl  %%prun  %%pypy  %%python  %%python2  %%python3  %%ruby  %%script  %%sh  %%svg  %%sx  %%system  %%time  %%timeit  %%writefile\n",
       "\n",
       "Automagic is ON, % prefix IS NOT needed for line magics."
      ]
     },
     "execution_count": 2,
     "metadata": {},
     "output_type": "execute_result"
    }
   ],
   "source": [
    "%lsmagic"
   ]
  },
  {
   "cell_type": "markdown",
   "metadata": {},
   "source": [
    "#### Alias\n",
    "\n",
    "- `%alias`: define novas magics baseadas em comandos do sistema\n",
    "- `%alias_magic`: define novas magics baseadas em magics existentes\n",
    "- `%unalias`: remove alias\n",
    "\n",
    "É possível criar um alias para a mágic já com os argumentos: <span class=\"notebook-slide-extra\" data-count=\"1\"/>"
   ]
  },
  {
   "cell_type": "code",
   "execution_count": 3,
   "metadata": {},
   "outputs": [
    {
     "name": "stdout",
     "output_type": "stream",
     "text": [
      "Created `%ls_int` as an alias for `%who_ls int`.\n"
     ]
    },
    {
     "data": {
      "text/plain": [
       "['a']"
      ]
     },
     "execution_count": 3,
     "metadata": {},
     "output_type": "execute_result"
    }
   ],
   "source": [
    "%alias_magic ls_int who_ls -p \"int\"\n",
    "a = 1\n",
    "%ls_int"
   ]
  },
  {
   "cell_type": "markdown",
   "metadata": {},
   "source": [
    "#### Histórico\n",
    "\n",
    "- `%load`: carrega um script externo em uma célula. É possível especificar quais linhas, classes e funções do script devem ser carregadas. Também é possível passar números de execução como argumento para re-executar células anteriores e macros.\n",
    "- `%loadpy`: quase um alias de `%load`, mas que carrega arquivos Python sem o '.py'\n",
    "- `%history`: exibe histórico de execução, como mostramos antes\n",
    "- `%hist`: alias para `%history`\n",
    "- `%macro`: permite definir um nome para parte do histórico de execução e usar esse nome em `%load`\n",
    "- `%notebook`: exporta histórico para um novo arquivo de notebook \n",
    "- `%save`: salva macro em arquivo\n",
    "\n",
    "<span class=\"notebook-slide-extra\" data-count=\"1\"/>"
   ]
  },
  {
   "cell_type": "code",
   "execution_count": null,
   "metadata": {},
   "outputs": [],
   "source": [
    "# %load 1-2\n",
    "%cd ..\n",
    "%reload_ext slide\n",
    "%lsmagic"
   ]
  },
  {
   "cell_type": "markdown",
   "metadata": {},
   "source": [
    "#### Extensões\n",
    "\n",
    "- `%load_ext`: importa uma extensão do IPython. Funciona como um import normal seguindo de uma chamada a função `load_ipython_extension(shell)` definida no módulo. É possível usar isso para definir módulos com magics, como veremos posteriormente\n",
    "- `%unload_ext`: desabilita uma extensão do IPython ao chamar `unload_ipython_extension(shell)`\n",
    "- `%reload_ext`: executa as duas magics anteriores"
   ]
  },
  {
   "cell_type": "markdown",
   "metadata": {},
   "source": [
    "#### Namespace\n",
    "\n",
    "- `%psearch`: busca nome por algum padrão\n",
    "- `%who_ls`: retorna nomes de determinado tipo\n",
    "- `%who`: semelhante a `%who_ls`, mas apenas exibe nomes\n",
    "- `%whos`: exibe tabela com variável, tipo e valor\n",
    "- `%rehashx`: atualiza a tabela de alias para adicionar todos os executáveis de \\$PATH\n",
    "- `%reset`: recarrega o namespace\n",
    "- `%reset_selective`: remove nomes definidos pelo usuário\n",
    "- `%xdel`: remove variável e tenta limpar tudo do IPython que usa ela"
   ]
  },
  {
   "cell_type": "markdown",
   "metadata": {},
   "source": [
    "#### Variáveis de ambiente\n",
    "\n",
    "- `%env`: lista, define e lê variáveis de ambiente \n",
    "- `%set_env`: mesmo que `%env`, mas sem a parte da leitura\n",
    "\n",
    "<span class=\"notebook-slide-extra\" data-count=\"2\"/>"
   ]
  },
  {
   "cell_type": "code",
   "execution_count": 5,
   "metadata": {},
   "outputs": [
    {
     "data": {
      "text/plain": [
       "'/home/joao/anaconda3/bin:/home/joao/bin:/home/joao/.local/bin:/home/joao/anaconda3/bin:/home/joao/anaconda3/condabin:/home/joao/.rvm/gems/ruby-2.4.4/bin:/home/joao/.rvm/gems/ruby-2.4.4@global/bin:/usr/share/rvm/rubies/ruby-2.4.4/bin:/home/joao/bin:/home/joao/.local/bin:/usr/local/sbin:/usr/local/bin:/usr/sbin:/usr/bin:/sbin:/bin:/usr/games:/usr/local/games:/usr/lib/jvm/java-8-oracle/bin:/usr/lib/jvm/java-8-oracle/db/bin:/usr/lib/jvm/java-8-oracle/jre/bin:/usr/lib/jvm/java-8-oracle/bin:/usr/lib/jvm/java-8-oracle/db/bin:/usr/lib/jvm/java-8-oracle/jre/bin:/usr/share/rvm/bin'"
      ]
     },
     "execution_count": 5,
     "metadata": {},
     "output_type": "execute_result"
    }
   ],
   "source": [
    "%env PATH"
   ]
  },
  {
   "cell_type": "code",
   "execution_count": 6,
   "metadata": {},
   "outputs": [
    {
     "name": "stdout",
     "output_type": "stream",
     "text": [
      "env: NOTEBOOK_NUMBER=1\n"
     ]
    }
   ],
   "source": [
    "number = 1\n",
    "%env NOTEBOOK_NUMBER=$number"
   ]
  },
  {
   "cell_type": "markdown",
   "metadata": {},
   "source": [
    "#### Configurações\n",
    "\n",
    "Habilita, desabilita e configura funcionalidades do IPython:\n",
    "\n",
    "- `%autoawait`: chama await de corotinas automaticamente\n",
    "- `%autocall`: executa funções sem usar parênteses\n",
    "- `%automagic`: executa magics sem usar `%`\n",
    "- `%autosave`: define o tempo para salvar o notebook automaticamente\n",
    "- `%config`: permite configurar outros aspectos do IPython\n",
    "- `%pprint`: habilita/desabilita visualização \"pretty\"\n",
    "- `%precision`: define a precisão do float para o pprint\n",
    "- `%matplotlib`: permite o uso interativo do matplotlib\n",
    "- `%xmode`: altera o modo de tratamento de exceções"
   ]
  },
  {
   "cell_type": "markdown",
   "metadata": {},
   "source": [
    "#### Visualização\n",
    "\n",
    "- `%%HTML`, `%%html`: renderiza célula como html\n",
    "- `%%SVG`, `%%svg`: renderiza célula como svg\n",
    "- `%%javascript`, `%%js`: renderiza célula como javascript/executa no navegador\n",
    "- `%%latex`: renderiza célula como latex\n",
    "- `%%markdown`: renderiza célula como markdown\n"
   ]
  },
  {
   "cell_type": "markdown",
   "metadata": {},
   "source": [
    "#### Diretórios\n",
    "\n",
    "- `%cd`: altera o diretório de execução do notebook\n",
    "- `%bookmark`: salva diretórios para facilitar o uso de `cd`\n",
    "- `%dhist`: exibe o histórico de diretórios navegados\n",
    "- `%dirs`: exibe a pilha de diretórios\n",
    "- `%popd`: retira diretório da pilha\n",
    "- `%pushd`: insere diretório na pilha\n",
    "- `%pwd`: retorna diretório atual"
   ]
  },
  {
   "cell_type": "markdown",
   "metadata": {},
   "source": [
    "#### Log\n",
    "\n",
    "- `%logstart`: cria um arquivo de log para armazenar todas as células executadas no Jupyter\n",
    "- `%logstop`: fecha o arquivo de log\n",
    "- `%logoff`: pausa o log temporariamente, mas não fecha o arquivo de log\n",
    "- `%logon`: volta a fazer log das operações\n",
    "- `%logstate`: exibe o estado do log"
   ]
  },
  {
   "cell_type": "markdown",
   "metadata": {},
   "source": [
    "#### Documentação\n",
    "\n",
    "Magics relacionadas a documentação\n",
    "\n",
    "- `%page`: exibe objeto no pager\n",
    "- `%pdef`: exibe assinatura de função\n",
    "- `%pdoc`: exibe docstring de objeto\n",
    "- `%pfile`: exibe arquivo de definição de objeto\n",
    "- `%pinfo`: exibe documentação (equivalente a `?`)\n",
    "- `%pinfo2`: exibe código fonte (equivalente a `??`)\n",
    "- `%psource`: exibe o código fonte de objeto no pager\n",
    "- `%pycat`: exibe o código fonte de objeto no pager com syntax-highlighting\n",
    "\n"
   ]
  },
  {
   "cell_type": "markdown",
   "metadata": {},
   "source": [
    "#### Debug e profile\n",
    "\n",
    "- `%debug`: ativa debug interativo\n",
    "- `%pdb`: configura o uso do debug interativo\n",
    "- `%prun`: executa comando ou expressão com profiler\n",
    "- `%%prun`: executa célula com profiler\n",
    "- `%tb`: exibe último traceback\n",
    "- `%time`: calcula tempo de execução de expressão ou comando\n",
    "- `%timeit`: calcula média de tempo de execução de expressão ou comando ao executar várias vezes\n",
    "- `%%time`: calcula tempo de execução de célula\n",
    "- `%%timeit`: calcula média de tempo de execução de célula ao executar várias vezes\n"
   ]
  },
  {
   "cell_type": "markdown",
   "metadata": {},
   "source": [
    "#### IPython no console\n",
    "\n",
    "- `%colors`: muda o esquema de cores\n",
    "- `%doctest_mode`: altera o modo de execução para ficar parecido com o shell clássico do IPython\n",
    "- `%ed`, `%edit`: abre editor de texto\n",
    "- `%gui`: define a forma de exibição (qt, gtk, tk, wx, ...)\n",
    "- `%recall`, `%rep`: carrega linhas do histórico na próxima linha do prompt\n",
    "- `%rerun`: re-executa input anterior"
   ]
  },
  {
   "cell_type": "markdown",
   "metadata": {},
   "source": [
    "#### Execução externa\n",
    "\n",
    "- `%run`: executa arquivo no IPython como um programa\n",
    "- `%sc`: alternativa descontinuada de bang expression (`!`)\n",
    "- `%sx`, `%system`: alternativa a bang expression que retorna lista (`!!`)\n",
    "- `%%!`, `%%sx`, `%%system`: executa célula com comandos do sistema\n",
    "- `%%bash`: executa célula com bash em um subprocesso\n",
    "- `%%sh`: executa célula com sh em um subprocesso\n",
    "- `%%perl`: executa célula com perl em um subprocesso\n",
    "- `%%pypy`: executa célula com pypy em um subprocesso\n",
    "- `%%python`: executa célula com python em um subprocesso\n",
    "- `%%python2`: executa célula com python2 em um subprocesso\n",
    "- `%%python3`: executa célula com python3 em um subprocesso\n",
    "- `%%ruby`: executa célula com ruby em um subprocesso\n",
    "- `%%script`: executa célula com interpretador externo em um subprocesso (especifique o interpretador com o parâmetro)\n"
   ]
  },
  {
   "cell_type": "markdown",
   "metadata": {},
   "source": [
    "#### Alias para comandos do sistema\n",
    "\n",
    "- `%cat`\n",
    "- `%clear`\n",
    "- `%cp`\n",
    "- `%ldir`\n",
    "- `%less`\n",
    "- `%lf`\n",
    "- `%lk`\n",
    "- `%ll`\n",
    "- `%ls`\n",
    "- `%lx`\n",
    "- `%man`\n",
    "- `%mkdir`\n",
    "- `%more`\n",
    "- `%mv`\n",
    "- `%rm`\n",
    "- `%rmdir`\n",
    "\n",
    "\n"
   ]
  },
  {
   "cell_type": "markdown",
   "metadata": {},
   "source": [
    "#### Outros\n",
    "\n",
    "- `%conda`: executa conda no kernel atual\n",
    "- `%pip`: executa pip no kernel atual\n",
    "- `%pylab`: carrega `matplotlib` e `numpy` e expõe diversos métodos no escopo global\n",
    "- `%killbgscripts`: mata scripts do plano de fundo iniciados pelo notebook\n",
    "- `%pastebin`: envia código para o pastebin. Aceita range do histórico, nome do arquivo, macro, ou string\n",
    "- `%qtconsole`: abre um qtconsole conectado a este kernel\n",
    "- `%store`: salva variáveis Python para usar entre sessões\n",
    "- `%connect_info`: exibe informações de conexão do kernel para que outros clientes possam acessar o mesmo kernel\n",
    "- `%%capture`: executa célula capturando output\n",
    "- `%%file`, `%%writefile`: escreve célula em arquivo"
   ]
  },
  {
   "cell_type": "code",
   "execution_count": 10,
   "metadata": {},
   "outputs": [],
   "source": [
    "%qtconsole"
   ]
  },
  {
   "cell_type": "code",
   "execution_count": 11,
   "metadata": {},
   "outputs": [
    {
     "data": {
      "text/plain": [
       "2"
      ]
     },
     "execution_count": 11,
     "metadata": {},
     "output_type": "execute_result"
    }
   ],
   "source": [
    "a"
   ]
  },
  {
   "cell_type": "markdown",
   "metadata": {},
   "source": [
    "&nbsp;\n",
    "\n",
    "&nbsp;\n",
    "\n",
    "&nbsp;\n",
    "\n",
    "&nbsp;\n",
    "\n",
    "&nbsp;\n",
    "\n",
    "&nbsp;\n",
    "\n",
    "&nbsp;\n",
    "\n",
    "&nbsp;\n",
    "\n",
    "&nbsp;\n",
    "\n",
    "&nbsp;\n",
    "\n",
    "&nbsp;\n",
    "\n",
    "&nbsp;\n",
    "\n",
    "&nbsp;\n",
    "\n",
    "&nbsp;\n",
    "\n",
    "&nbsp;\n",
    "\n",
    "&nbsp;\n",
    "\n",
    "&nbsp;\n",
    "\n",
    "&nbsp;\n",
    "\n",
    "&nbsp;\n",
    "\n",
    "&nbsp;\n",
    "\n",
    "&nbsp;\n",
    "\n",
    "\n",
    "&nbsp;\n",
    "\n",
    "&nbsp;\n",
    "\n",
    "&nbsp;\n",
    "\n"
   ]
  }
 ],
 "metadata": {
  "kernelspec": {
   "display_name": "Python 3",
   "language": "python",
   "name": "python3"
  },
  "language_info": {
   "codemirror_mode": {
    "name": "ipython",
    "version": 3
   },
   "file_extension": ".py",
   "mimetype": "text/x-python",
   "name": "python",
   "nbconvert_exporter": "python",
   "pygments_lexer": "ipython3",
   "version": "3.7.4"
  }
 },
 "nbformat": 4,
 "nbformat_minor": 2
}
