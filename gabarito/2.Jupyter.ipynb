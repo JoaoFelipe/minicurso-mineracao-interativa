{
 "cells": [
  {
   "cell_type": "markdown",
   "metadata": {},
   "source": [
    "Para entrar no modo apresentação, execute a seguinte célula e pressione `-`"
   ]
  },
  {
   "cell_type": "code",
   "execution_count": 1,
   "metadata": {},
   "outputs": [
    {
     "data": {
      "application/javascript": [
       "\n",
       "\n",
       "var TITLE_PREFIX = \"Mineração Interativa - \" + IPython.notebook.get_notebook_name()\n",
       "\n",
       "function scrollToCell(cell) {\n",
       "    $('#site').animate({\n",
       "        scrollTop: cell.element.position().top\n",
       "    }, 500);\n",
       "    \n",
       "}\n",
       "function scrollToSelected() {\n",
       "    var cell = IPython.notebook.get_selected_cell()\n",
       "    scrollToCell(cell);\n",
       "    cell.focus_cell();\n",
       "}\n",
       "\n",
       "function selectCell(index) {\n",
       "    var cells = IPython.notebook.get_cells();\n",
       "    IPython.notebook.select(index);\n",
       "    var cell = IPython.notebook.get_selected_cell();\n",
       "    cell.element.toggle(true);\n",
       "\n",
       "    var rx = /# skip-execution/g;\n",
       "    var match = rx.exec(cell.get_text());\n",
       "    if (cell.cell_type == \"code\" && match == undefined) {\n",
       "        cell.execute();\n",
       "    }\n",
       "    \n",
       "    \n",
       "    if (cell.cell_type == \"markdown\") {\n",
       "        var header = $(cell.get_rendered()).filter(\"h1, h2, h3, h4, h5, h6\");\n",
       "        if (header.length > 0) {\n",
       "            var text = $(header[header.length - 1]).clone().children().remove().end().text();\n",
       "            $(\"#current-title\").text(TITLE_PREFIX + \" - \" + text);\n",
       "        } else {\n",
       "            header = $(cell.get_rendered()).find(\"h1, h2, h3, h4, h5, h6\");\n",
       "            if (header.length > 0) {\n",
       "                var text = $(header[header.length - 1]).clone().children().remove().end().text();\n",
       "                $(\"#current-title\").text(TITLE_PREFIX + \" - \" + text);\n",
       "            }\n",
       "        }\n",
       "    }\n",
       "    \n",
       "    \n",
       "    var scrollIndex = undefined;\n",
       "    rx = /<span class=\"notebook-slide-no-scroll\"\\/>/g;\n",
       "    match = rx.exec(cell.get_text());\n",
       "    if (match == undefined && cell.cell_type == \"markdown\") {\n",
       "        scrollIndex = index;\n",
       "        rx = /<span class=\"notebook-slide-scroll\" data-position=\"(.*)?\"\\/>/g;\n",
       "        match = rx.exec(cell.get_text());\n",
       "        if (match != undefined) {\n",
       "            var n = parseInt(match[1]);\n",
       "            scrollIndex += n;\n",
       "        }\n",
       "        scrollToCell(cells[scrollIndex]);\n",
       "    }\n",
       "\n",
       "    rx = /<span class=\"notebook-slide-extra\" data-count=\"(.*)?\"\\/>/g;\n",
       "    match = rx.exec(cell.get_text());\n",
       "    if (match != undefined) {\n",
       "        var n = parseInt(match[1]);\n",
       "        for (var i = index + 1; i <= index + n; i++) {\n",
       "            cell = cells[i];\n",
       "            cell.element.toggle(true);\n",
       "        }\n",
       "    }\n",
       "\n",
       "    $(\"#current-slide\").text((index + 1) + \"/\" + (cells.length));\n",
       "    \n",
       "}\n",
       "\n",
       "\n",
       "var hide = {\n",
       "    icon: 'fa-eye-slash',\n",
       "    help    : 'Hide all',\n",
       "    help_index : 'zz',\n",
       "    handler : function () {\n",
       "        var cells = IPython.notebook.get_cells();\n",
       "        var found = 0;\n",
       "        var i = 0;\n",
       "        for (var cell of IPython.notebook.get_cells()) {\n",
       "            cell.element.toggle(false);\n",
       "            var rx = /<span class=\"notebook-slide-start\"\\/>/g;\n",
       "            var match = rx.exec(cell.get_text());\n",
       "            if (match) {\n",
       "                found = i;\n",
       "            }\n",
       "            i += 1;\n",
       "        }\n",
       "        for (i = 0; i <= found; i++) {\n",
       "            var cell = cells[i];\n",
       "            cell.element.toggle(true);   \n",
       "        }\n",
       "        var cell = cells[cells.length - 1];\n",
       "        cell.element.toggle(true);\n",
       "        \n",
       "        $(\".navbar-nav\").toggle(false);\n",
       "        $(\"#slide-top\").remove();\n",
       "        $(\".navbar-collapse\").append(\"<div id='slide-top' style='padding: 6px 20px; text-align: center;'></div>\")\n",
       "        $(\"#slide-top\").append(\"<div  style='float: left;' id='current-slide'>1</div>\")\n",
       "        $(\"#slide-top\").append(\"<div style='display: inline-block; padding: 0 20px;' id='current-title'>\"+ TITLE_PREFIX +\"</div>\")\n",
       "        $(\"#slide-top\").append(\"<div style='display: inline-block; padding: 0 20px; float: right;' id='current-name'>João Felipe Pimentel</div>\")\n",
       "        selectCell(found);\n",
       "        document.documentElement.requestFullscreen();\n",
       "    }\n",
       "};\n",
       "var show = {\n",
       "    icon: 'fa-eye',\n",
       "    help    : 'Show all',\n",
       "    help_index : 'zz',\n",
       "    handler : function () {\n",
       "        for (var cell of IPython.notebook.get_cells()) {\n",
       "          cell.element.toggle(true);\n",
       "        }\n",
       "        $(\"#slide-top\").remove();\n",
       "        $(\".navbar-nav\").toggle(true);\n",
       "        \n",
       "        document.exitFullscreen();\n",
       "    }\n",
       "};\n",
       "var view = {\n",
       "    icon: 'fa-eye',\n",
       "    help    : 'Show cell',\n",
       "    help_index : 'zz',\n",
       "    handler : function () {\n",
       "        selectCell(IPython.notebook.get_selected_index());\n",
       "    }\n",
       "};\n",
       "\n",
       "var previous = {\n",
       "    icon: 'fa-arrow-left',\n",
       "    help    : 'Previous slide',\n",
       "    help_index : 'zz',\n",
       "    handler : function () {\n",
       "        var cell = IPython.notebook.get_selected_cell();\n",
       "        cell.element.toggle(false);\n",
       "        var index = IPython.notebook.get_selected_index();\n",
       "        selectCell(index - 1);\n",
       "        IPython.notebook.select(index - 1);\n",
       "        IPython.notebook.get_selected_cell().element.toggle(true);\n",
       "        scrollToSelected();\n",
       "    }\n",
       "};\n",
       "var next = {\n",
       "    icon: 'fa-arrow-right',\n",
       "    help    : 'Previous slide',\n",
       "    help_index : 'zz',\n",
       "    handler : function () {\n",
       "        \n",
       "        var index = IPython.notebook.get_selected_index();\n",
       "        selectCell(index + 1);\n",
       "        \n",
       "    }\n",
       "};\n",
       "var prefix = 'slide-notebook';\n",
       "var actions = Jupyter.actions\n",
       "\n",
       "IPython.notebook.keyboard_manager.command_shortcuts.add_shortcut(\n",
       "    '[', actions.register(previous, 'previous-slide', prefix)\n",
       ")\n",
       "IPython.notebook.keyboard_manager.command_shortcuts.add_shortcut(\n",
       "    ']', actions.register(next, 'next-slide', prefix)\n",
       ")\n",
       "IPython.notebook.keyboard_manager.command_shortcuts.add_shortcut(\n",
       "    '-', actions.register(hide, 'hide-all', prefix)\n",
       ")\n",
       "IPython.notebook.keyboard_manager.command_shortcuts.add_shortcut(\n",
       "    '=', actions.register(show, 'show-all', prefix)\n",
       ")\n",
       "IPython.notebook.keyboard_manager.command_shortcuts.add_shortcut(\n",
       "    '0', actions.register(view, 'show-cell', prefix)\n",
       ")\n"
      ],
      "text/plain": [
       "<IPython.core.display.Javascript object>"
      ]
     },
     "metadata": {},
     "output_type": "display_data"
    }
   ],
   "source": [
    "%reload_ext slide"
   ]
  },
  {
   "cell_type": "markdown",
   "metadata": {},
   "source": [
    "<span class=\"notebook-slide-start\"/>\n",
    "\n",
    "# Jupyter\n",
    "\n",
    "Este notebook apresenta os seguintes tópicos:\n",
    "\n",
    "- [Sobre o Jupyter](#Sobre-o-Jupyter)\n",
    "- [Exercício 1](#Exerc%C3%ADcio-1)\n",
    "- [Análise de Código](#An%C3%A1lise-de-c%C3%B3digo)\n",
    "- [Análise de AST](#An%C3%A1lise-de-AST)\n",
    "- [Análise de Complexidade ciclomática e linhas de código](#Complexidade-ciclom%C3%A1tica-(radon))\n"
   ]
  },
  {
   "cell_type": "markdown",
   "metadata": {},
   "source": [
    "## Sobre o Jupyter\n",
    "\n",
    "Ferramenta que permite combinar código, texto formatado com markdown, visualizações e interações.\n",
    "\n",
    "O Jupyter funciona com diversas linguagens. A mais usada é Python, que é a linguagem que será usada neste minicurso.\n",
    "\n",
    "Outras linguagens podem ser usadas a partir da instalação de Kernels diferentes.\n"
   ]
  },
  {
   "cell_type": "markdown",
   "metadata": {},
   "source": [
    "<span class=\"notebook-slide-extra\" data-count=\"1\"/>\n",
    "\n",
    "A seguinte célula define a variável `x` e atribui o valor **1** a ela."
   ]
  },
  {
   "cell_type": "code",
   "execution_count": 2,
   "metadata": {},
   "outputs": [],
   "source": [
    "x = 1"
   ]
  },
  {
   "cell_type": "markdown",
   "metadata": {},
   "source": [
    "<span class=\"notebook-slide-extra\" data-count=\"1\"/>\n",
    "<span class=\"notebook-slide-no-scroll\"/>\n",
    "\n",
    "A seguinte célula apresenta o valor de `x`. O Jupyter apresenta como resultado de uma célula a última expressão que aparece na mesma."
   ]
  },
  {
   "cell_type": "code",
   "execution_count": 3,
   "metadata": {},
   "outputs": [
    {
     "data": {
      "text/plain": [
       "1"
      ]
     },
     "execution_count": 3,
     "metadata": {},
     "output_type": "execute_result"
    }
   ],
   "source": [
    "x"
   ]
  },
  {
   "cell_type": "markdown",
   "metadata": {},
   "source": [
    "<span class=\"notebook-slide-scroll\" data-position=\"-1\"/>\n",
    "\n",
    "Ao executar uma célula, o Jupyter atribui o resultado à variável `_` e adiciona no dicionário `Out`, que pode ser acessado por um índice.\n",
    "\n",
    "Além de atribuir o resultado de uma célula, o código usado fica armazenado na lista `In`."
   ]
  },
  {
   "cell_type": "code",
   "execution_count": 4,
   "metadata": {},
   "outputs": [
    {
     "name": "stdout",
     "output_type": "stream",
     "text": [
      "Code: x\n",
      "Result: 1\n"
     ]
    }
   ],
   "source": [
    "if _:\n",
    "    print(\"Code:\", In[3])\n",
    "    print(\"Result:\", Out[3])"
   ]
  },
  {
   "cell_type": "markdown",
   "metadata": {},
   "source": [
    "<span class=\"notebook-slide-scroll\" data-position=\"-1\"/>\n",
    "\n",
    "Note que a última célula apresentou os valores do print, mas não teve saída, pois não teve nenhuma expressão no final da célula. Nesse caso, o Jupyter não sobreescreve o valor de `_` e não insere nada em `Out`."
   ]
  },
  {
   "cell_type": "code",
   "execution_count": 5,
   "metadata": {},
   "outputs": [
    {
     "name": "stdout",
     "output_type": "stream",
     "text": [
      "1\n"
     ]
    }
   ],
   "source": [
    "print(_)"
   ]
  },
  {
   "cell_type": "markdown",
   "metadata": {},
   "source": [
    "<span class=\"notebook-slide-extra\" data-count=\"1\"/>\n",
    "\n",
    "Para evitar que uma expressão no final de uma célula seja interpretada como expressão, basta adicionar `;` a ela."
   ]
  },
  {
   "cell_type": "code",
   "execution_count": 6,
   "metadata": {},
   "outputs": [],
   "source": [
    "x + 1;"
   ]
  },
  {
   "cell_type": "code",
   "execution_count": 7,
   "metadata": {},
   "outputs": [
    {
     "data": {
      "text/plain": [
       "1"
      ]
     },
     "execution_count": 7,
     "metadata": {},
     "output_type": "execute_result"
    }
   ],
   "source": [
    "_"
   ]
  },
  {
   "cell_type": "markdown",
   "metadata": {},
   "source": [
    "### Exercício 1\n",
    "\n",
    "Faça um algoritmo que calcule a soma de todos elementos ímpares e soma de todos os números pares da seguinte lista e apresente como resultado da célula: `[1, 51, 2, 5, 7, 0, 10, 22, 3, 4, 9, 8, 2, 6, 12, 18, 43]`. <span class=\"notebook-slide-extra\" data-count=\"1\"/>\n",
    "\n"
   ]
  },
  {
   "cell_type": "code",
   "execution_count": 8,
   "metadata": {},
   "outputs": [
    {
     "data": {
      "text/plain": [
       "(128, 64)"
      ]
     },
     "execution_count": 8,
     "metadata": {},
     "output_type": "execute_result"
    }
   ],
   "source": [
    "lista = [1, 47, -2, 5, 7, 0, 12, 12, 3, 6, 9, 8, 2, 6, 2, 18, 43, 13]\n",
    "impar = 0\n",
    "par = 0\n",
    "for e in lista:\n",
    "    if e % 2 == 0:\n",
    "        par += e\n",
    "    else:\n",
    "        impar += e\n",
    "impar, par"
   ]
  },
  {
   "cell_type": "markdown",
   "metadata": {},
   "source": [
    "## Análise de código\n",
    "\n",
    "Como temos acesso a todo o código escrito no Jupyter a partir da variável `In`, podemos usar código escrito no próprio notebook para fazer análises. A seguir contamos a quantidade de caracteres do exercício. <span class=\"notebook-slide-extra\" data-count=\"1\"/>"
   ]
  },
  {
   "cell_type": "code",
   "execution_count": 9,
   "metadata": {},
   "outputs": [
    {
     "data": {
      "text/plain": [
       "179"
      ]
     },
     "execution_count": 9,
     "metadata": {},
     "output_type": "execute_result"
    }
   ],
   "source": [
    "code = In[-2]\n",
    "len(code)"
   ]
  },
  {
   "cell_type": "markdown",
   "metadata": {},
   "source": [
    "<span class=\"notebook-slide-no-scroll\"/>\n",
    "\n",
    "Note que usamos `In[-2]` para acessar a célula anterior, pois o índice `-1` representa a própria célula."
   ]
  },
  {
   "cell_type": "markdown",
   "metadata": {},
   "source": [
    "## Bibliotecas\n",
    "\n",
    "Por usarmos Python normalmente nas células, também podemos usar as formas de import do Python, como o `import` e o `from ... import` para importar bibliotecas."
   ]
  },
  {
   "cell_type": "markdown",
   "metadata": {},
   "source": [
    "### Análise de AST\n",
    "\n",
    "A seguir, importaremos a biblioteca `ast` do Python para analisar o código que fizemos no exercício 1.\n",
    "\n",
    "**Se você adicionou alguma célula depois do exercício, lembrar de atualizar o índice de In**.\n",
    "\n",
    "<span class=\"notebook-slide-extra\" data-count=\"1\"/>"
   ]
  },
  {
   "cell_type": "code",
   "execution_count": 10,
   "metadata": {},
   "outputs": [
    {
     "data": {
      "text/plain": [
       "5"
      ]
     },
     "execution_count": 10,
     "metadata": {},
     "output_type": "execute_result"
    }
   ],
   "source": [
    "import ast\n",
    "\n",
    "class AssignmentVisitor(ast.NodeVisitor):\n",
    "    \n",
    "    def __init__(self):\n",
    "        self.assignments = 0\n",
    "    \n",
    "    def visit_Assign(self, node):\n",
    "        self.assignments += 1\n",
    "    \n",
    "    def visit_AugAssign(self, node):\n",
    "        self.assignments += 1\n",
    "\n",
    "tree = ast.parse(code)\n",
    "visitor = AssignmentVisitor()\n",
    "visitor.visit(tree)\n",
    "visitor.assignments"
   ]
  },
  {
   "cell_type": "markdown",
   "metadata": {},
   "source": [
    "<span class=\"notebook-slide-scroll\" data-position=\"-1\"/>\n",
    "\n",
    "Nessa célula, definimos uma classe AssignmentVisitor que herda de `ast.NodeVisitor` e implementa as funções `visit_Assign` e `visit_AugAssign`. Essas funções são chamadas ao visitar elementos dos tipos Assign e AugAssign na árvore sintática abstrata do Python. Ao visitar esses elementos, nossa função incrementa um contador de assignments.\n",
    "\n",
    "Para executar esse visitor, precisamos chamar `ast.parse` para gerar uma raiz de uma `ast` e executar `visitor.visit` para visitá-la."
   ]
  },
  {
   "cell_type": "markdown",
   "metadata": {},
   "source": [
    "<span class=\"notebook-slide-scroll\" data-position=\"-1\"/>\n",
    "\n",
    "A definição da AST do Python com todos os elementos possíveis pode ser encontrada na documentação oficial: https://docs.python.org/3/library/ast.html\n",
    "\n",
    "Existe uma outra documentação mais completa relacionada à AST do Python (Green Tree Snakes): https://greentreesnakes.readthedocs.io/en/latest/"
   ]
  },
  {
   "cell_type": "markdown",
   "metadata": {},
   "source": [
    "### Complexidade ciclomática (radon)\n",
    "Além de bibliotecas builtin, também podemos importar bibliotecas externas. A seguir instalamos e usamos a biblioteca `radon`, que serve para calcular métricas do código.\n",
    "\n",
    "Se a biblioteca já estiver instalada no ambiente, a seguinte célula não terá efeito algum. Não é necessário instalar bibliotecas sempre que for usar o notebook.\n",
    "\n",
    "<span class=\"notebook-slide-extra\" data-count=\"1\"/>"
   ]
  },
  {
   "cell_type": "code",
   "execution_count": 11,
   "metadata": {
    "scrolled": true
   },
   "outputs": [
    {
     "name": "stdout",
     "output_type": "stream",
     "text": [
      "Collecting radon\n",
      "  Using cached https://files.pythonhosted.org/packages/cf/fe/c400dbbbbde6649ad0164ef2ffef3672baefc62ecb676f58d0f25d8f83b0/radon-4.0.0-py2.py3-none-any.whl\n",
      "Requirement already satisfied: future in /home/joao/anaconda3/lib/python3.7/site-packages (from radon) (0.17.1)\n",
      "Requirement already satisfied: colorama<0.5,>=0.4 in /home/joao/anaconda3/lib/python3.7/site-packages (from radon) (0.4.1)\n",
      "Requirement already satisfied: flake8-polyfill in /home/joao/anaconda3/lib/python3.7/site-packages (from radon) (1.0.2)\n",
      "Requirement already satisfied: mando<0.7,>=0.6 in /home/joao/anaconda3/lib/python3.7/site-packages (from radon) (0.6.4)\n",
      "Requirement already satisfied: flake8 in /home/joao/anaconda3/lib/python3.7/site-packages (from flake8-polyfill->radon) (3.7.8)\n",
      "Requirement already satisfied: six in /home/joao/anaconda3/lib/python3.7/site-packages (from mando<0.7,>=0.6->radon) (1.12.0)\n",
      "Requirement already satisfied: pycodestyle<2.6.0,>=2.5.0 in /home/joao/anaconda3/lib/python3.7/site-packages (from flake8->flake8-polyfill->radon) (2.5.0)\n",
      "Requirement already satisfied: pyflakes<2.2.0,>=2.1.0 in /home/joao/anaconda3/lib/python3.7/site-packages (from flake8->flake8-polyfill->radon) (2.1.1)\n",
      "Requirement already satisfied: entrypoints<0.4.0,>=0.3.0 in /home/joao/anaconda3/lib/python3.7/site-packages (from flake8->flake8-polyfill->radon) (0.3)\n",
      "Requirement already satisfied: mccabe<0.7.0,>=0.6.0 in /home/joao/anaconda3/lib/python3.7/site-packages (from flake8->flake8-polyfill->radon) (0.6.1)\n",
      "Installing collected packages: radon\n",
      "Successfully installed radon-4.0.0\n"
     ]
    }
   ],
   "source": [
    "!pip install radon"
   ]
  },
  {
   "cell_type": "markdown",
   "metadata": {},
   "source": [
    "Note que a célula anterior usou uma **bang expression** para executar diretamente comandos no sistema. Essas expressões fazem parte do kernel que usamos para Python (IPython)."
   ]
  },
  {
   "cell_type": "markdown",
   "metadata": {},
   "source": [
    "<span class=\"notebook-slide-extra\" data-count=\"1\"/>\n",
    "\n",
    "Agora podemos importar funções que caculam a complexidade ciclomática usando `radon`."
   ]
  },
  {
   "cell_type": "code",
   "execution_count": 12,
   "metadata": {},
   "outputs": [
    {
     "data": {
      "text/plain": [
       "[Function(name='f', lineno=2, col_offset=0, endline=11, is_method=False, classname=None, closures=[], complexity=3)]"
      ]
     },
     "execution_count": 12,
     "metadata": {},
     "output_type": "execute_result"
    }
   ],
   "source": [
    "from radon.complexity import cc_visit\n",
    "code_with_def = \"\"\"\n",
    "def f():\n",
    "    {}\n",
    "\"\"\".format(\n",
    "    \"\\n    \".join(code.split(\"\\n\"))\n",
    ")\n",
    "\n",
    "cc_visit(code_with_def)"
   ]
  },
  {
   "cell_type": "markdown",
   "metadata": {},
   "source": [
    "<span class=\"notebook-slide-scroll\" data-position=\"-1\"/>\n",
    "\n",
    "A função `cc_visit` apenas calcula a complexidade de funções e classes e não de código isolado. Para permitir esse cálculo, foi necessário quebrar o código em cada `\\n` e inserir indentado em uma função."
   ]
  },
  {
   "cell_type": "markdown",
   "metadata": {},
   "source": [
    "<span class=\"notebook-slide-extra\" data-count=\"1\"/>\n",
    "\n",
    "A biblioteca `radon` também calcula outras métricas, como número de linhas lógicas (lloc), linhas de código (sloc), linhas de comentário (comments), linhas de comentário sem código (single_comments), strings de multilinha (multi), linhas em branco (blank), e total de linhas, respeitando a seguinte equação:\n",
    "\n",
    "$ loc = sloc + blanks + multi + single\\_comments $"
   ]
  },
  {
   "cell_type": "code",
   "execution_count": 13,
   "metadata": {},
   "outputs": [
    {
     "data": {
      "text/plain": [
       "Module(loc=9, lloc=9, sloc=9, comments=0, multi=0, blank=0, single_comments=0)"
      ]
     },
     "execution_count": 13,
     "metadata": {},
     "output_type": "execute_result"
    }
   ],
   "source": [
    "from radon.raw import analyze\n",
    "analyze(code)"
   ]
  },
  {
   "cell_type": "markdown",
   "metadata": {},
   "source": [
    "Continua: [3.IPython.ipynb](3.IPython.ipynb)"
   ]
  },
  {
   "cell_type": "markdown",
   "metadata": {},
   "source": [
    "&nbsp;\n",
    "\n",
    "&nbsp;\n",
    "\n",
    "&nbsp;\n",
    "\n",
    "&nbsp;\n",
    "\n",
    "&nbsp;\n",
    "\n",
    "&nbsp;\n",
    "\n",
    "&nbsp;\n",
    "\n",
    "&nbsp;\n",
    "\n",
    "&nbsp;\n",
    "\n",
    "&nbsp;\n",
    "\n",
    "&nbsp;\n",
    "\n",
    "&nbsp;\n",
    "\n",
    "&nbsp;\n",
    "\n",
    "&nbsp;\n",
    "\n",
    "&nbsp;\n",
    "\n",
    "&nbsp;\n",
    "\n",
    "&nbsp;\n",
    "\n",
    "&nbsp;\n",
    "\n",
    "&nbsp;\n",
    "\n",
    "&nbsp;\n",
    "\n",
    "&nbsp;\n",
    "\n",
    "\n",
    "&nbsp;\n",
    "\n",
    "&nbsp;\n",
    "\n",
    "&nbsp;\n",
    "\n"
   ]
  }
 ],
 "metadata": {
  "kernelspec": {
   "display_name": "Python 3",
   "language": "python",
   "name": "python3"
  },
  "language_info": {
   "codemirror_mode": {
    "name": "ipython",
    "version": 3
   },
   "file_extension": ".py",
   "mimetype": "text/x-python",
   "name": "python",
   "nbconvert_exporter": "python",
   "pygments_lexer": "ipython3",
   "version": "3.7.3"
  },
  "toc": {
   "base_numbering": 1,
   "nav_menu": {},
   "number_sections": false,
   "sideBar": true,
   "skip_h1_title": false,
   "title_cell": "Table of Contents",
   "title_sidebar": "Contents",
   "toc_cell": false,
   "toc_position": {},
   "toc_section_display": true,
   "toc_window_display": true
  }
 },
 "nbformat": 4,
 "nbformat_minor": 2
}
