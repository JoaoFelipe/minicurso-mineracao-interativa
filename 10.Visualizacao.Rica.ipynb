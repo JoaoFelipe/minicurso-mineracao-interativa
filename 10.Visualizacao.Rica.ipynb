{
 "cells": [
  {
   "cell_type": "markdown",
   "metadata": {},
   "source": [
    "Para entrar no modo apresentação, execute a seguinte célula e pressione `-`"
   ]
  },
  {
   "cell_type": "code",
   "execution_count": null,
   "metadata": {},
   "outputs": [],
   "source": [
    "%reload_ext slide"
   ]
  },
  {
   "cell_type": "markdown",
   "metadata": {},
   "source": [
    "<span class=\"notebook-slide-start\"/>\n",
    "\n",
    "# Visualização Rica\n",
    "\n",
    "Este notebook apresenta os seguintes tópicos\n",
    "\n",
    "- [Visualizações ricas](#Visualiza%C3%A7%C3%B5es-ricas)\n",
    "- [Exercício 12](#Exerc%C3%ADcio-12)\n",
    "- [Exercício 13](#Exerc%C3%ADcio-13)\n"
   ]
  },
  {
   "cell_type": "markdown",
   "metadata": {},
   "source": [
    "## Visualizações ricas\n",
    "\n",
    "Como dito anteriormente, o Jupyter permite misturar texto formatado com código e com visualizações.\n",
    "\n",
    "As visualizações até o momento foram feitas usando as bibliotecas `matplotlib` e `pandas` (que também utiliza a `matplotlib`), mas podemos chegar em situações em que queremos criar nossas próprias visualizações para objetos próprios.\n",
    "\n",
    "Para fazer isso, podemos definir os métodos _repr_*_(self) em classes, on * pode ser algum dos seguintes formatos suportados pelo Jupyter:\n",
    "\n",
    "- svg\n",
    "- png\n",
    "- jpeg\n",
    "- html\n",
    "- javascript\n",
    "- latex\n"
   ]
  },
  {
   "cell_type": "markdown",
   "metadata": {},
   "source": [
    "Por exemplo, podemos definir uma classe `SQRT` que represente uma raiz quadrada de um número usando Latex. <span class=\"notebook-slide-extra\" data-count=\"1\"/>"
   ]
  },
  {
   "cell_type": "code",
   "execution_count": null,
   "metadata": {},
   "outputs": [],
   "source": [
    "class SQRT:\n",
    "    def __init__(self, number):\n",
    "        self.number = number\n",
    "    \n",
    "    def formula(self):\n",
    "        text = self.number\n",
    "        if hasattr(self.number, \"formula\"):\n",
    "            text = self.number.formula()\n",
    "        return \"\\sqrt{%s}\" % (text,)\n",
    "    \n",
    "    def _repr_latex_(self):\n",
    "        return \"$${}$$\".format(self.formula())\n",
    "    \n",
    "SQRT(25)"
   ]
  },
  {
   "cell_type": "markdown",
   "metadata": {},
   "source": [
    "Essa classe pode ser usada em conjunto com outra. <span class=\"notebook-slide-extra\" data-count=\"1\"/>"
   ]
  },
  {
   "cell_type": "code",
   "execution_count": null,
   "metadata": {},
   "outputs": [],
   "source": [
    "SQRT(SQRT(25))"
   ]
  },
  {
   "cell_type": "markdown",
   "metadata": {},
   "source": [
    "Também podemos chamar programas externos para construir imagens. A seguir usaremos GraphViz (dot) para construir tanto uma imagem SVG quanto uma imagem PNG. <span class=\"notebook-slide-extra\" data-count=\"2\"/>"
   ]
  },
  {
   "cell_type": "code",
   "execution_count": null,
   "metadata": {},
   "outputs": [],
   "source": [
    "import os\n",
    "from subprocess import Popen, PIPE as P\n",
    "\n",
    "class Graph:\n",
    "    def __init__(self, definition):\n",
    "        self.definition = definition\n",
    "    \n",
    "    def dottext(self):\n",
    "        result = [\n",
    "            \"  {} -> {};\".format(node, other)\n",
    "            for node, edges in self.definition.items()\n",
    "            for other in edges\n",
    "        ]\n",
    "        return \"digraph G {{\\n  ranksep=0.25;\\n{}\\n}}\".format(\"\\n\".join(result))\n",
    "\n",
    "    def dot(self, format=\"png\"):  # ToDo: Tratar erro\n",
    "        kwargs = {} if os.name != 'nt' else {\"creationflags\": 0x08000000}\n",
    "        p = Popen(['dot', '-T', format], stdout=P, stdin=P, stderr=P, **kwargs)\n",
    "        return p.communicate(self.dottext().encode('utf-8'))[0]\n",
    "    \n",
    "    def __repr__(self):\n",
    "        return self.dottext()\n",
    "    \n",
    "    def _repr_svg_(self):\n",
    "        return self.dot(\"svg\").decode(\"utf-8\")\n",
    "    \n",
    "    def _repr_png_(self):\n",
    "        return self.dot(\"png\")\n",
    "    \n",
    "graph = Graph({\"a\": [\"b\", \"c\"], \"b\": [\"d\"], \"c\": [\"d\"]})"
   ]
  },
  {
   "cell_type": "code",
   "execution_count": null,
   "metadata": {},
   "outputs": [],
   "source": [
    "graph"
   ]
  },
  {
   "cell_type": "markdown",
   "metadata": {},
   "source": [
    "Por padrão, objetos que oferecem tanto visualização png quanto svg são visualizados como SVG no Jupyter. Porém, podemos forçar que sejam visualizados como PNG. <span class=\"notebook-slide-extra\" data-count=\"1\"/>"
   ]
  },
  {
   "cell_type": "code",
   "execution_count": null,
   "metadata": {},
   "outputs": [],
   "source": [
    "from IPython.display import display_png\n",
    "display_png(graph)"
   ]
  },
  {
   "cell_type": "markdown",
   "metadata": {},
   "source": [
    "Ou podemos forçar o uso do `__repr__` do Python."
   ]
  },
  {
   "cell_type": "code",
   "execution_count": null,
   "metadata": {},
   "outputs": [],
   "source": [
    "from IPython.display import display_pretty\n",
    "display_pretty(graph)"
   ]
  },
  {
   "cell_type": "markdown",
   "metadata": {},
   "source": [
    "Aproximando do assunto da apresentação, podemos usar esse grafo para exibir a AST. <span class=\"notebook-slide-extra\" data-count=\"1\"/>"
   ]
  },
  {
   "cell_type": "code",
   "execution_count": null,
   "metadata": {},
   "outputs": [],
   "source": [
    "import ast\n",
    "from collections import defaultdict\n",
    "\n",
    "class GraphVisitor(ast.NodeVisitor):\n",
    "    \n",
    "    def __init__(self):\n",
    "        self.parent = []\n",
    "        self.graph = defaultdict(list)\n",
    "        self.id = 0\n",
    "        \n",
    "    def generic_visit(self, node):\n",
    "        old_parent = self.parent\n",
    "        name = type(node).__name__ + str(self.id)\n",
    "        self.id += 1\n",
    "        if old_parent:\n",
    "            self.graph[old_parent].append(name)\n",
    "        self.parent = name\n",
    "        super().generic_visit(node)\n",
    "        self.parent = old_parent\n"
   ]
  },
  {
   "cell_type": "markdown",
   "metadata": {},
   "source": [
    "Executando para a própria célula. <span class=\"notebook-slide-extra\" data-count=\"1\"/>"
   ]
  },
  {
   "cell_type": "code",
   "execution_count": null,
   "metadata": {},
   "outputs": [],
   "source": [
    "tree = ast.parse(In[-1])\n",
    "visitor = GraphVisitor()\n",
    "visitor.visit(tree)"
   ]
  },
  {
   "cell_type": "markdown",
   "metadata": {},
   "source": [
    "Visualização da AST. <span class=\"notebook-slide-extra\" data-count=\"1\"/>"
   ]
  },
  {
   "cell_type": "code",
   "execution_count": null,
   "metadata": {},
   "outputs": [],
   "source": [
    "Graph(visitor.graph)"
   ]
  },
  {
   "cell_type": "markdown",
   "metadata": {},
   "source": [
    "## Exercício 12\n",
    "\n",
    "Modifique a classe `GraphVisitor` para exibir valores nos nós do tipo `Name` e `Num`. <span class=\"notebook-slide-extra\" data-count=\"3\"/>"
   ]
  },
  {
   "cell_type": "code",
   "execution_count": null,
   "metadata": {},
   "outputs": [],
   "source": [
    "..."
   ]
  },
  {
   "cell_type": "code",
   "execution_count": null,
   "metadata": {},
   "outputs": [],
   "source": [
    "tree = ast.parse(In[-1])\n",
    "visitor = GraphVisitor()\n",
    "visitor.visit(tree)"
   ]
  },
  {
   "cell_type": "code",
   "execution_count": null,
   "metadata": {},
   "outputs": [],
   "source": [
    "Graph(visitor.graph)"
   ]
  },
  {
   "cell_type": "markdown",
   "metadata": {},
   "source": [
    "## Exercício 13\n",
    "\n",
    "Implemente uma cell magic para visualizar a AST."
   ]
  },
  {
   "cell_type": "code",
   "execution_count": null,
   "metadata": {},
   "outputs": [],
   "source": [
    "import ast\n",
    "from IPython.core.magic import Magics, magics_class, cell_magic\n",
    "\n",
    "@magics_class\n",
    "class ASTMagic(Magics):\n",
    "    @cell_magic\n",
    "    def view_ast(self, line, cell):\n",
    "        ...\n",
    "    \n",
    "shell = get_ipython()\n",
    "shell.register_magics(ASTMagic)"
   ]
  },
  {
   "cell_type": "code",
   "execution_count": null,
   "metadata": {},
   "outputs": [],
   "source": [
    "%%view_ast\n",
    "a = 1 + 2\n",
    "b = a + 3"
   ]
  },
  {
   "cell_type": "markdown",
   "metadata": {},
   "source": [
    "Continua: [11.Widgets.ipynb](11.Widgets.ipynb)"
   ]
  },
  {
   "cell_type": "markdown",
   "metadata": {},
   "source": [
    "&nbsp;\n",
    "\n",
    "&nbsp;\n",
    "\n",
    "&nbsp;\n",
    "\n",
    "&nbsp;\n",
    "\n",
    "&nbsp;\n",
    "\n",
    "&nbsp;\n",
    "\n",
    "&nbsp;\n",
    "\n",
    "&nbsp;\n",
    "\n",
    "&nbsp;\n",
    "\n",
    "&nbsp;\n",
    "\n",
    "&nbsp;\n",
    "\n",
    "&nbsp;\n",
    "\n",
    "&nbsp;\n",
    "\n",
    "&nbsp;\n",
    "\n",
    "&nbsp;\n",
    "\n",
    "&nbsp;\n",
    "\n",
    "&nbsp;\n",
    "\n",
    "&nbsp;\n",
    "\n",
    "&nbsp;\n",
    "\n",
    "&nbsp;\n",
    "\n",
    "&nbsp;\n",
    "\n",
    "\n",
    "&nbsp;\n",
    "\n",
    "&nbsp;\n",
    "\n",
    "&nbsp;\n",
    "\n"
   ]
  }
 ],
 "metadata": {
  "kernelspec": {
   "display_name": "Python 3",
   "language": "python",
   "name": "python3"
  },
  "language_info": {
   "codemirror_mode": {
    "name": "ipython",
    "version": 3
   },
   "file_extension": ".py",
   "mimetype": "text/x-python",
   "name": "python",
   "nbconvert_exporter": "python",
   "pygments_lexer": "ipython3",
   "version": "3.7.3"
  },
  "toc": {
   "base_numbering": 1,
   "nav_menu": {},
   "number_sections": true,
   "sideBar": true,
   "skip_h1_title": false,
   "title_cell": "Table of Contents",
   "title_sidebar": "Contents",
   "toc_cell": false,
   "toc_position": {},
   "toc_section_display": true,
   "toc_window_display": false
  }
 },
 "nbformat": 4,
 "nbformat_minor": 2
}
